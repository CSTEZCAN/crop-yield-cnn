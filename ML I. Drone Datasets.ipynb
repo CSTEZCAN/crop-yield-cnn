{
 "cells": [
  {
   "cell_type": "markdown",
   "metadata": {},
   "source": [
    "*Initially created at 16.02.2018 by Petteri Nevavuori (<petteri.nevavuori@mtech.fi>)*\n",
    "\n",
    "---\n",
    "\n",
    "# ML I. Drone Datasets\n",
    "\n",
    "This notebook lays out the process of building the datasets for training and comparing CNN results with Drone datasets. The comparison will be done with two distinct datasets: earlier and later images. Thus we'll go through the generation of two distinct datasets. The goal for the portion is to have all the necessary components for building a DataLoader which the CNN can then ingest.\n",
    "\n",
    "The datasets are ingested as minibatches of data. The reasoning behind this is thoroughly assessed by Goodfellow et. al in the book Deep Learning (2016). As minibatch uses random sampling with withdrawal, we'll use that too."
   ]
  },
  {
   "cell_type": "markdown",
   "metadata": {
    "toc": true
   },
   "source": [
    "<h1>Table of Contents<span class=\"tocSkip\"></span></h1>\n",
    "<div class=\"toc\"><ul class=\"toc-item\"><li><span><a href=\"#1.-Database-Queries\" data-toc-modified-id=\"1.-Database-Queries-1\">1. Database Queries</a></span><ul class=\"toc-item\"><li><span><a href=\"#1.1-RGB-images\" data-toc-modified-id=\"1.1-RGB-images-1.1\">1.1 RGB images</a></span></li><li><span><a href=\"#1.2-NDVI-images\" data-toc-modified-id=\"1.2-NDVI-images-1.2\">1.2 NDVI images</a></span></li><li><span><a href=\"#1.3-Test-queries\" data-toc-modified-id=\"1.3-Test-queries-1.3\">1.3 Test queries</a></span></li><li><span><a href=\"#1.4-NaN-imputations\" data-toc-modified-id=\"1.4-NaN-imputations-1.4\">1.4 NaN imputations</a></span></li></ul></li><li><span><a href=\"#2.-Dataloaders\" data-toc-modified-id=\"2.-Dataloaders-2\">2. Dataloaders</a></span><ul class=\"toc-item\"><li><span><a href=\"#2.1-Dataset-classes-for-single-samples\" data-toc-modified-id=\"2.1-Dataset-classes-for-single-samples-2.1\">2.1 Dataset classes for single samples</a></span></li><li><span><a href=\"#2.2-Single-Dataloader\" data-toc-modified-id=\"2.2-Single-Dataloader-2.2\">2.2 Single Dataloader</a></span><ul class=\"toc-item\"><li><span><a href=\"#2.2.1-Error:-inconsistent-tensor-sizes---Resolved\" data-toc-modified-id=\"2.2.1-Error:-inconsistent-tensor-sizes---Resolved-2.2.1\">2.2.1 Error: inconsistent tensor sizes - Resolved</a></span></li></ul></li><li><span><a href=\"#2.3-Remaining-Dataloaders\" data-toc-modified-id=\"2.3-Remaining-Dataloaders-2.3\">2.3 Remaining Dataloaders</a></span></li><li><span><a href=\"#2.4-Dataset-to-Dataloader-function\" data-toc-modified-id=\"2.4-Dataset-to-Dataloader-function-2.4\">2.4 Dataset to Dataloader function</a></span></li><li><span><a href=\"#2.5-Dataloader-separation\" data-toc-modified-id=\"2.5-Dataloader-separation-2.5\">2.5 Dataloader separation</a></span></li><li><span><a href=\"#2.6-Troubleshooting-notes\" data-toc-modified-id=\"2.6-Troubleshooting-notes-2.6\">2.6 Troubleshooting notes</a></span></li></ul></li><li><span><a href=\"#3.-Sample-Counts\" data-toc-modified-id=\"3.-Sample-Counts-3\">3. Sample Counts</a></span></li></ul></div>"
   ]
  },
  {
   "cell_type": "markdown",
   "metadata": {},
   "source": [
    "## 1. Database Queries\n",
    "\n",
    "In this portion we'll research the foundations for building a two-period dataset for Drone RGB and NDVI images. As it stands, there isn't always both images present for every date where there exists a dataset for one or the other. That's why we'll check the RGB images first and NDVI images last."
   ]
  },
  {
   "cell_type": "code",
   "execution_count": 9,
   "metadata": {},
   "outputs": [],
   "source": [
    "import datetime\n",
    "import os\n",
    "import pickle\n",
    "\n",
    "import matplotlib.pyplot as plt\n",
    "import matplotlib.gridspec as gridspec\n",
    "import numpy as np\n",
    "\n",
    "from field_analysis.db.models import Area, DataPeriod, Target, initialize_db\n",
    "from field_analysis.settings import data as data_settings\n",
    "from field_analysis.settings import model as model_settings"
   ]
  },
  {
   "cell_type": "code",
   "execution_count": 4,
   "metadata": {},
   "outputs": [],
   "source": [
    "initialize_db(os.path.join(model_settings.DATABASES_DIR, 'field_analysis_10m_32px.db'))"
   ]
  },
  {
   "cell_type": "markdown",
   "metadata": {},
   "source": [
    "### 1.1 RGB images"
   ]
  },
  {
   "cell_type": "markdown",
   "metadata": {},
   "source": [
    "First we'll examine how many DataPeriods there are in total where there exists both an RGB dataset and a target yield dataset. We're also interest in the number of distinct Areas, as the less there are Areas, more diverse the RGB dataset content is Area-wise temporally. We'll also check the distinct dates there exists proper data."
   ]
  },
  {
   "cell_type": "code",
   "execution_count": 5,
   "metadata": {
    "scrolled": false
   },
   "outputs": [
    {
     "name": "stdout",
     "output_type": "stream",
     "text": [
      "Total DataPeriods: 11653\n",
      "Distinct Areas: 7003\n",
      "Distinct dates: 8\n"
     ]
    }
   ],
   "source": [
    "dataperiods_rgb = (DataPeriod \n",
    "    .select(DataPeriod.area,DataPeriod.date,DataPeriod.area_drone_rgb,Target.area_yield)\n",
    "    .where(DataPeriod.area_drone_rgb.is_null(False))\n",
    "    .join(Target, on=(Target.area == DataPeriod.area))\n",
    "    .where(Target.area_yield.is_null(False)))\n",
    "\n",
    "areas_rgb = (dataperiods_rgb\n",
    "    .select(DataPeriod.area)\n",
    "    .distinct())\n",
    "\n",
    "dates_rgb = (dataperiods_rgb\n",
    "        .select(DataPeriod.date)\n",
    "        .distinct()\n",
    "        .order_by(DataPeriod.date))\n",
    "\n",
    "print(\"Total DataPeriods: {}\".format(dataperiods_rgb.count()))\n",
    "print(\"Distinct Areas: {}\".format(areas_rgb.count()))\n",
    "print(\"Distinct dates: {}\".format(dates_rgb.count()))"
   ]
  },
  {
   "cell_type": "markdown",
   "metadata": {},
   "source": [
    "The number of distinct dates is not that large at all. Let's see the DataPeriod counts for each date."
   ]
  },
  {
   "cell_type": "code",
   "execution_count": 3,
   "metadata": {},
   "outputs": [
    {
     "name": "stdout",
     "output_type": "stream",
     "text": [
      "Date 2017-06-01: 1369 DataPeriods\n",
      "Date 2017-06-08: 788 DataPeriods\n",
      "Date 2017-06-15: 3084 DataPeriods\n",
      "Date 2017-06-22: 754 DataPeriods\n",
      "Date 2017-07-06: 1888 DataPeriods\n",
      "Date 2017-07-13: 1523 DataPeriods\n",
      "Date 2017-07-27: 1404 DataPeriods\n",
      "Date 2017-08-17: 843 DataPeriods\n"
     ]
    }
   ],
   "source": [
    "for date_rgb in dates_rgb:\n",
    "    count = (dataperiods_rgb\n",
    "        .select(DataPeriod.id)\n",
    "        .where(DataPeriod.date == date_rgb.date)\n",
    "        .count())\n",
    "    print(\"Date {}: {} DataPeriods\".format(str(date_rgb.date.date()),count))"
   ]
  },
  {
   "cell_type": "markdown",
   "metadata": {},
   "source": [
    "As it stands, there exists ~6000 DataPeriods before July and ~5660 after it."
   ]
  },
  {
   "cell_type": "markdown",
   "metadata": {},
   "source": [
    "### 1.2 NDVI images\n",
    "\n",
    "Then we'll examine NDVI datasets in similar fashion."
   ]
  },
  {
   "cell_type": "code",
   "execution_count": 4,
   "metadata": {},
   "outputs": [
    {
     "name": "stdout",
     "output_type": "stream",
     "text": [
      "Total DataPeriods: 12256\n",
      "Distinct Areas: 9405\n",
      "Distinct dates: 9\n"
     ]
    }
   ],
   "source": [
    "dataperiods_nvdi = (DataPeriod \n",
    "    .select(DataPeriod.area,DataPeriod.date,DataPeriod.area_drone_ndvi,Target.area_yield)\n",
    "    .where(DataPeriod.area_drone_ndvi.is_null(False))\n",
    "    .join(Target, on=(Target.area == DataPeriod.area))\n",
    "    .where(Target.area_yield.is_null(False)))\n",
    "\n",
    "areas_nvdi = (dataperiods_nvdi\n",
    "    .select(DataPeriod.area)\n",
    "    .distinct())\n",
    "\n",
    "dates_nvdi = (dataperiods_nvdi\n",
    "        .select(DataPeriod.date)\n",
    "        .distinct()\n",
    "        .order_by(DataPeriod.date))\n",
    "\n",
    "print(\"Total DataPeriods: {}\".format(dataperiods_nvdi.count()))\n",
    "print(\"Distinct Areas: {}\".format(areas_nvdi.count()))\n",
    "print(\"Distinct dates: {}\".format(dates_nvdi.count()))"
   ]
  },
  {
   "cell_type": "markdown",
   "metadata": {},
   "source": [
    "We'll also assess the DataPeriod counts date-wise."
   ]
  },
  {
   "cell_type": "code",
   "execution_count": 5,
   "metadata": {},
   "outputs": [
    {
     "name": "stdout",
     "output_type": "stream",
     "text": [
      "Date 2017-06-01: 1407 DataPeriods\n",
      "Date 2017-06-08: 795 DataPeriods\n",
      "Date 2017-06-15: 3084 DataPeriods\n",
      "Date 2017-06-22: 762 DataPeriods\n",
      "Date 2017-07-06: 2394 DataPeriods\n",
      "Date 2017-07-13: 1527 DataPeriods\n",
      "Date 2017-07-27: 1444 DataPeriods\n",
      "Date 2017-08-10: 249 DataPeriods\n",
      "Date 2017-08-17: 594 DataPeriods\n"
     ]
    }
   ],
   "source": [
    "for date_nvdi in dates_nvdi:\n",
    "    count = (dataperiods_nvdi\n",
    "        .select(DataPeriod.id)\n",
    "        .where(DataPeriod.date == date_nvdi.date)\n",
    "        .count())\n",
    "    print(\"Date {}: {} DataPeriods\".format(str(date_nvdi.date.date()),count))"
   ]
  },
  {
   "cell_type": "markdown",
   "metadata": {},
   "source": [
    "Before July there's ~6050 DataPeriods and ~6200 after it. "
   ]
  },
  {
   "cell_type": "markdown",
   "metadata": {},
   "source": [
    "### 1.3 Test queries\n",
    "\n",
    "As it stands, we'll use the month of July as the divider between image datasets. Here we'll perform the queries and count the results just to be sure."
   ]
  },
  {
   "cell_type": "code",
   "execution_count": 6,
   "metadata": {},
   "outputs": [
    {
     "name": "stdout",
     "output_type": "stream",
     "text": [
      "RGB:\tpre-July=5995\tpost-July=5658\n",
      "NDVI:\tpre-July=6048\tpost-July=6208\n"
     ]
    }
   ],
   "source": [
    "DATE_DIVIDER = datetime.date(2017, 7, 1)\n",
    "\n",
    "rgb_earlier = (DataPeriod\n",
    "    .select(DataPeriod.date, DataPeriod.area_drone_rgb, Area.id, Target.area_yield)\n",
    "    .join(Area)\n",
    "    .join(Target)\n",
    "    .where(\n",
    "        (DataPeriod.area_drone_rgb.is_null(False)) & \n",
    "        (DataPeriod.date < DATE_DIVIDER) & \n",
    "        (Target.area_yield.is_null(False))))\n",
    "\n",
    "rgb_later = (DataPeriod\n",
    "    .select(DataPeriod.date, DataPeriod.area_drone_rgb, Area.id, Target.area_yield)\n",
    "    .join(Area)\n",
    "    .join(Target)\n",
    "    .where(\n",
    "        (DataPeriod.area_drone_rgb.is_null(False)) & \n",
    "        (DataPeriod.date >= DATE_DIVIDER) & \n",
    "        (Target.area_yield.is_null(False))))\n",
    "\n",
    "ndvi_earlier = (DataPeriod\n",
    "    .select(DataPeriod.date, DataPeriod.area_drone_ndvi, Area.id, Target.area_yield)\n",
    "    .join(Area)\n",
    "    .join(Target)\n",
    "    .where(\n",
    "        (DataPeriod.area_drone_ndvi.is_null(False)) & \n",
    "        (DataPeriod.date < DATE_DIVIDER) & \n",
    "        (Target.area_yield.is_null(False))))\n",
    "\n",
    "ndvi_later = (DataPeriod\n",
    "    .select(DataPeriod.date, DataPeriod.area_drone_ndvi, Area.id, Target.area_yield)\n",
    "    .join(Area)\n",
    "    .join(Target)\n",
    "    .where(\n",
    "        (DataPeriod.area_drone_ndvi.is_null(False)) & \n",
    "        (DataPeriod.date >= DATE_DIVIDER) & \n",
    "        (Target.area_yield.is_null(False))))\n",
    "\n",
    "print(\"RGB:\\tpre-July={}\\tpost-July={}\".format(rgb_earlier.count(),rgb_later.count()))\n",
    "print(\"NDVI:\\tpre-July={}\\tpost-July={}\".format(ndvi_earlier.count(),ndvi_later.count()))"
   ]
  },
  {
   "cell_type": "markdown",
   "metadata": {},
   "source": [
    "The counts align. We'll also attempt selecting an image and a yield from each of the datasets."
   ]
  },
  {
   "cell_type": "code",
   "execution_count": 9,
   "metadata": {},
   "outputs": [
    {
     "name": "stderr",
     "output_type": "stream",
     "text": [
      "C:\\Anaconda3\\envs\\ml\\lib\\site-packages\\numpy\\core\\_methods.py:29: RuntimeWarning: invalid value encountered in reduce\n",
      "  return umr_minimum(a, axis, None, out, keepdims)\n",
      "C:\\Anaconda3\\envs\\ml\\lib\\site-packages\\matplotlib\\cm.py:256: RuntimeWarning: invalid value encountered in less\n",
      "  if norm and xx.max() > 1 or xx.min() < 0:\n"
     ]
    },
    {
     "data": {
      "image/png": "[encoded data removed]",
      "text/plain": [
       "<matplotlib.figure.Figure at 0x22e90de06d8>"
      ]
     },
     "metadata": {},
     "output_type": "display_data"
    }
   ],
   "source": [
    "plt.rcParams['figure.figsize'] = 16,4\n",
    "titles = ['rgb_earlier','rgb_later','ndvi_earlier', 'ndvi_later']\n",
    "\n",
    "for i, dataset in enumerate((rgb_earlier, rgb_later, ndvi_earlier, ndvi_later)):\n",
    "        \n",
    "    title = titles[i]\n",
    "    dataperiod = dataset[0]\n",
    "    target = dataperiod.area.target\n",
    "    \n",
    "    i_1 = 1 + 2*i\n",
    "    i_2 = 2 + 2*i\n",
    "    \n",
    "    plt.subplot(1,8,i_1)\n",
    "    if 'rgb' in title:\n",
    "        \n",
    "        arr_x = pickle.loads(dataperiod.area_drone_rgb)\n",
    "        plt.imshow(arr_x)\n",
    "        \n",
    "    else:\n",
    "        \n",
    "        arr_x = pickle.loads(dataperiod.area_drone_ndvi)\n",
    "        plt.imshow(arr_x, cmap='gray')\n",
    "    \n",
    "    plt.title(title)\n",
    "    plt.axis('off')\n",
    "    \n",
    "    arr_y = pickle.loads(target.area_yield)\n",
    "\n",
    "    plt.subplot(1,8,i_2)\n",
    "    plt.imshow(arr_y, cmap='gray')\n",
    "    plt.title(\"{}_yield\".format(title))\n",
    "    plt.axis('off')\n",
    "\n",
    "plt.show()"
   ]
  },
  {
   "cell_type": "markdown",
   "metadata": {},
   "source": [
    "### 1.4 NaN imputations\n",
    "\n",
    "As it is evident from the error message, there are some NaNs in the datasets. These will prove to be problematic, which is why we'll perform imputations for those values by changin them to zeros. This is should happen before wrapping the arrays to Tensors."
   ]
  },
  {
   "cell_type": "code",
   "execution_count": 12,
   "metadata": {},
   "outputs": [
    {
     "name": "stdout",
     "output_type": "stream",
     "text": [
      "Pre-imputation: [nan nan nan nan nan nan nan nan nan nan]\n",
      "Post-imputation: [0. 0. 0. 0. 0. 0. 0. 0. 0. 0.]\n"
     ]
    }
   ],
   "source": [
    "dataperiod = ndvi_earlier[0]\n",
    "arr = pickle.loads(dataperiod.area_drone_ndvi)\n",
    "print(\"Pre-imputation:\",arr[0][:10])\n",
    "print(\"Post-imputation:\",np.nan_to_num(arr[0])[:10])"
   ]
  },
  {
   "cell_type": "markdown",
   "metadata": {},
   "source": [
    "## 2. Dataloaders"
   ]
  },
  {
   "cell_type": "code",
   "execution_count": 1,
   "metadata": {},
   "outputs": [],
   "source": [
    "import matplotlib.pyplot as plt\n",
    "import numpy as np\n",
    "import traceback\n",
    "import torch\n",
    "from torch.utils.data import DataLoader\n",
    "from field_analysis.model.dataset.dataperiod import DroneRGBEarlier, DroneRGBLater, DroneNDVIEarlier, DroneNDVILater\n",
    "\n",
    "db_name = 'field_analysis_10m_32px.db'"
   ]
  },
  {
   "cell_type": "markdown",
   "metadata": {},
   "source": [
    "### 2.1 Dataset classes for single samples\n",
    "\n",
    "Next up is the building of PyTorch Datasets, which will be accomplished in distinct usable classes. First we'll showcase the item count retrieval. The dataset classes make use of the test queries defined earlier."
   ]
  },
  {
   "cell_type": "code",
   "execution_count": 3,
   "metadata": {
    "scrolled": false
   },
   "outputs": [
    {
     "name": "stdout",
     "output_type": "stream",
     "text": [
      "Training sets:\n",
      "  DroneRGBEarlier\n",
      "\ttrain=5241, test=742\n",
      "  DroneRGBLater\n",
      "\ttrain=4647, test=649\n",
      "  DroneNDVIEarlier\n",
      "\ttrain=5286, test=740\n",
      "  DroneNDVILater\n",
      "\ttrain=5197, test=722\n"
     ]
    }
   ],
   "source": [
    "print(\"Training sets:\")\n",
    "print(\"  DroneRGBEarlier\\n\\ttrain={}, test={}\".format(\n",
    "    DroneRGBEarlier(db_name).size(),DroneRGBEarlier(db_name,test=True).size()))\n",
    "print(\"  DroneRGBLater\\n\\ttrain={}, test={}\".format(\n",
    "    DroneRGBLater(db_name).size(),DroneRGBLater(db_name,test=True).size()))\n",
    "print(\"  DroneNDVIEarlier\\n\\ttrain={}, test={}\".format(\n",
    "    DroneNDVIEarlier(db_name).size(),DroneNDVIEarlier(db_name,test=True).size()))\n",
    "print(\"  DroneNDVILater\\n\\ttrain={}, test={}\".format(\n",
    "    DroneNDVILater(db_name).size(),DroneNDVILater(db_name,test=True).size()))"
   ]
  },
  {
   "cell_type": "markdown",
   "metadata": {},
   "source": [
    "Next we showcase item retrieval from each of the dataset classes. Mind though that the images are converted to Torch Tensors to be properly used by the Torch networks. This is showcased first."
   ]
  },
  {
   "cell_type": "code",
   "execution_count": 2,
   "metadata": {},
   "outputs": [
    {
     "data": {
      "text/plain": [
       "{'x': tensor([[[0.0000, 0.0000, 0.0000,  ..., 0.0000, 0.0000, 0.0000],\n",
       "          [0.0000, 0.0000, 0.0000,  ..., 0.0000, 0.0000, 0.0000],\n",
       "          [0.0000, 0.0000, 0.0000,  ..., 0.0000, 0.0000, 0.0000],\n",
       "          ...,\n",
       "          [0.0000, 0.0000, 0.0000,  ..., 0.8706, 0.7373, 0.8706],\n",
       "          [0.0000, 0.0000, 0.0000,  ..., 0.7255, 0.7804, 0.8353],\n",
       "          [0.0000, 0.0000, 0.0000,  ..., 0.7765, 0.8196, 0.8157]],\n",
       " \n",
       "         [[0.0000, 0.0000, 0.0000,  ..., 0.0000, 0.0000, 0.0000],\n",
       "          [0.0000, 0.0000, 0.0000,  ..., 0.0000, 0.0000, 0.0000],\n",
       "          [0.0000, 0.0000, 0.0000,  ..., 0.0000, 0.0000, 0.0000],\n",
       "          ...,\n",
       "          [0.0000, 0.0000, 0.0000,  ..., 0.8667, 0.7333, 0.7922],\n",
       "          [0.0000, 0.0000, 0.0000,  ..., 0.7451, 0.7451, 0.7922],\n",
       "          [0.0000, 0.0000, 0.0000,  ..., 0.7804, 0.7608, 0.7373]],\n",
       " \n",
       "         [[0.0000, 0.0000, 0.0000,  ..., 0.0000, 0.0000, 0.0000],\n",
       "          [0.0000, 0.0000, 0.0000,  ..., 0.0000, 0.0000, 0.0000],\n",
       "          [0.0000, 0.0000, 0.0000,  ..., 0.0000, 0.0000, 0.0000],\n",
       "          ...,\n",
       "          [0.0000, 0.0000, 0.0000,  ..., 0.6667, 0.5804, 0.7098],\n",
       "          [0.0000, 0.0000, 0.0000,  ..., 0.5529, 0.6000, 0.7137],\n",
       "          [0.0000, 0.0000, 0.0000,  ..., 0.6431, 0.6667, 0.6667]]]),\n",
       " 'y': tensor(2994.6353),\n",
       " 'id': 6090324751,\n",
       " 'date': '2017-06-08',\n",
       " 'corner_top_left': (224225.0, 6831285.0),\n",
       " 'corner_bot_right': (224235.0, 6831275.0)}"
      ]
     },
     "execution_count": 2,
     "metadata": {},
     "output_type": "execute_result"
    }
   ],
   "source": [
    "dataset = DroneRGBEarlier(db_name)\n",
    "dataset[0]"
   ]
  },
  {
   "cell_type": "markdown",
   "metadata": {},
   "source": [
    "Tensors are easily transformed back to Numpy arrays."
   ]
  },
  {
   "cell_type": "code",
   "execution_count": 4,
   "metadata": {},
   "outputs": [
    {
     "name": "stdout",
     "output_type": "stream",
     "text": [
      "x: <class 'numpy.ndarray'> (3, 32, 32)\n"
     ]
    }
   ],
   "source": [
    "x,y,*metadata = dataset[0].values()\n",
    "x_arr = x.numpy()\n",
    "print(\"x:\",type(x_arr),x_arr.shape)"
   ]
  },
  {
   "cell_type": "markdown",
   "metadata": {},
   "source": [
    "We then show also how to retrieve and transform Tensors from each dataset class for visualization. Here we choose a random sample from each dataset."
   ]
  },
  {
   "cell_type": "code",
   "execution_count": 7,
   "metadata": {
    "scrolled": true
   },
   "outputs": [
    {
     "data": {
      "image/png": "[encoded data removed]",
      "text/plain": [
       "<Figure size 1152x288 with 8 Axes>"
      ]
     },
     "metadata": {
      "needs_background": "light"
     },
     "output_type": "display_data"
    }
   ],
   "source": [
    "plt.rcParams['figure.figsize'] = 16,4\n",
    "titles = ['rgb_earlier','rgb_later','ndvi_earlier', 'ndvi_later']\n",
    "\n",
    "for i, dataset_class in enumerate([DroneRGBEarlier, DroneRGBLater, DroneNDVIEarlier, DroneNDVILater]):\n",
    "    \n",
    "    dataset = dataset_class(image_target=True)\n",
    "    \n",
    "    title = titles[i]\n",
    "    \n",
    "    # This is where the dataset transformation to numpy arrays happens\n",
    "    x, y = dataset[np.random.randint(0,dataset.size())].values()\n",
    "    x, y = x.numpy().squeeze(), y.numpy().squeeze()\n",
    "\n",
    "    i_1 = 1 + 2*i\n",
    "    i_2 = 2 + 2*i\n",
    "    \n",
    "    plt.subplot(1,8,i_1)\n",
    "    if 'rgb' in title:\n",
    "        \n",
    "        plt.imshow(x.transpose(1,2,0))\n",
    "        \n",
    "    else:\n",
    "        \n",
    "        plt.imshow(x,cmap='gray')\n",
    "    \n",
    "    plt.title(title)\n",
    "    plt.axis('off')\n",
    "    \n",
    "\n",
    "    plt.subplot(1,8,i_2)\n",
    "    plt.imshow(y, cmap='gray')\n",
    "    plt.title(\"{}_yield\".format(title))\n",
    "    plt.axis('off')\n",
    "\n",
    "plt.tight_layout()\n",
    "plt.show()"
   ]
  },
  {
   "cell_type": "markdown",
   "metadata": {},
   "source": [
    "### 2.2 Single Dataloader\n",
    "\n",
    "The bare dataset classes are not however enough for ML training, as we normally want to train with batches. This is why we'll be implementing Dataloaders for each network. Let's show how they are used with these datasets. We'll begin with only a single dataset by retrieving and visualizing a few batches of samples."
   ]
  },
  {
   "cell_type": "code",
   "execution_count": 8,
   "metadata": {
    "scrolled": false
   },
   "outputs": [
    {
     "name": "stdout",
     "output_type": "stream",
     "text": [
      "Batch 1\n",
      "\tx: torch.Size([16, 3, 32, 32])\n",
      "\ty: torch.Size([16, 1, 32, 32])\n",
      "Batch 2\n",
      "\tx: torch.Size([16, 3, 32, 32])\n",
      "\ty: torch.Size([16, 1, 32, 32])\n",
      "Batch 3\n",
      "\tx: torch.Size([16, 3, 32, 32])\n",
      "\ty: torch.Size([16, 1, 32, 32])\n",
      "Batch 4\n",
      "\tx: torch.Size([16, 3, 32, 32])\n",
      "\ty: torch.Size([16, 1, 32, 32])\n",
      "Total Batches: 328\n",
      "\n"
     ]
    }
   ],
   "source": [
    "from torch.utils.data import DataLoader\n",
    "from field_analysis.model.dataset.dataperiod import DroneRGBEarlier\n",
    "\n",
    "dataset = DroneRGBEarlier(db_name=db_name, image_target=True)\n",
    "dataloader = DataLoader(dataset, batch_size=16, shuffle=True)\n",
    "\n",
    "try:\n",
    "\n",
    "    for i,batch in enumerate(dataloader):\n",
    "        \n",
    "        batch_x = batch['x']\n",
    "        batch_y = batch['y']\n",
    "        \n",
    "        print(\"Batch\",i+1)\n",
    "        print(\"\\tx:\",batch_x.size())\n",
    "        print(\"\\ty:\",batch_y.size())\n",
    "        \n",
    "        if i == 3:\n",
    "            print(\"Total Batches:\",len(dataloader))\n",
    "            print()\n",
    "            break\n",
    "        \n",
    "except Exception:\n",
    "    \n",
    "    traceback.print_exc()"
   ]
  },
  {
   "cell_type": "markdown",
   "metadata": {},
   "source": [
    "#### 2.2.1 Error: inconsistent tensor sizes - Resolved\n",
    "\n",
    "> Resolved by implementing a hard-limit on image shapes.\n",
    "\n",
    "We'll start the troubleshoot by taking few distinct `DataLoader`s and try to locate the problem. Let's try to load a batch with each and see what happens."
   ]
  },
  {
   "cell_type": "code",
   "execution_count": 9,
   "metadata": {},
   "outputs": [
    {
     "name": "stdout",
     "output_type": "stream",
     "text": [
      "DataLoader 1..OK\n",
      "DataLoader 2..OK\n",
      "DataLoader 3..OK\n"
     ]
    }
   ],
   "source": [
    "dl1 = DataLoader(dataset, batch_size=2)\n",
    "dl2 = DataLoader(dataset, batch_size=2, shuffle=True)\n",
    "dl3 = DataLoader(dataset, batch_size=4, shuffle=True)\n",
    "\n",
    "try:\n",
    "    for i, loader in enumerate([dl1,dl2,dl3]):\n",
    "        print(\"DataLoader\",i+1,end=\"..\")\n",
    "        \n",
    "        for batch in loader:\n",
    "            break\n",
    "            \n",
    "        print(\"OK\")\n",
    "        \n",
    "except Exception:\n",
    "    traceback.print_exc()"
   ]
  },
  {
   "cell_type": "markdown",
   "metadata": {},
   "source": [
    "Might the cause be in the sampling method with different `batch_size`? Let's investigate the samplers."
   ]
  },
  {
   "cell_type": "code",
   "execution_count": 10,
   "metadata": {},
   "outputs": [
    {
     "name": "stdout",
     "output_type": "stream",
     "text": [
      "DataLoader 1 sampler: <torch.utils.data.sampler.SequentialSampler object at 0x2abe92aa4400>\n",
      "DataLoader 2 sampler: <torch.utils.data.sampler.RandomSampler object at 0x2abe92aa4b70>\n",
      "DataLoader 3 sampler: <torch.utils.data.sampler.RandomSampler object at 0x2abe92aa49b0>\n"
     ]
    }
   ],
   "source": [
    "print(\"DataLoader 1 sampler:\",dl1.batch_sampler.sampler)\n",
    "print(\"DataLoader 2 sampler:\",dl2.batch_sampler.sampler)\n",
    "print(\"DataLoader 3 sampler:\",dl3.batch_sampler.sampler)"
   ]
  },
  {
   "cell_type": "markdown",
   "metadata": {},
   "source": [
    "It seems the samplers are different. Let's see the difference between different sampler outputs."
   ]
  },
  {
   "cell_type": "code",
   "execution_count": 11,
   "metadata": {},
   "outputs": [
    {
     "name": "stdout",
     "output_type": "stream",
     "text": [
      "Iter 1 sample indices: [0, 1]\n",
      "Iter 2 sample indices: [5200, 5227]\n",
      "Iter 3 sample indices: [2532, 101, 2525, 4394]\n"
     ]
    }
   ],
   "source": [
    "iter_1 = iter(dl1.batch_sampler)\n",
    "iter_2 = iter(dl2.batch_sampler)\n",
    "iter_3 = iter(dl3.batch_sampler)\n",
    "idxs_1 = next(iter_1)\n",
    "idxs_2 = next(iter_2)\n",
    "idxs_3 = next(iter_3)\n",
    "\n",
    "print(\"Iter 1 sample indices:\",idxs_1)\n",
    "print(\"Iter 2 sample indices:\",idxs_2)\n",
    "print(\"Iter 3 sample indices:\",idxs_3)"
   ]
  },
  {
   "cell_type": "markdown",
   "metadata": {},
   "source": [
    "So the `RandomSampler` seems to pick random indices to use. As the problem had to do with tensor size mismatch and the `DataLoader` performs the sampling gracefully, let's check the generated tensors and their sizes."
   ]
  },
  {
   "cell_type": "code",
   "execution_count": 12,
   "metadata": {},
   "outputs": [
    {
     "name": "stdout",
     "output_type": "stream",
     "text": [
      "Unique x tensor shapes: {torch.Size([3, 32, 32])}\n",
      "Unique y tensor shapes: {torch.Size([1, 32, 32])}\n"
     ]
    }
   ],
   "source": [
    "samples_1 = [dataset[i] for i in idxs_1]\n",
    "samples_2 = [dataset[i] for i in idxs_2]\n",
    "samples_3 = [dataset[i] for i in idxs_3]\n",
    "\n",
    "x_shapes = set()\n",
    "y_shapes = set()\n",
    ",\n",
    "[[x_shapes.add(item['x'].size()) for item in samples] for samples in [samples_1,samples_2,samples_3]]\n",
    "[[y_shapes.add(item['y'].size()) for item in samples] for samples in [samples_1,samples_2,samples_3]]\n",
    "\n",
    "print(\"Unique x tensor shapes:\", x_shapes)\n",
    "print(\"Unique y tensor shapes:\", y_shapes)"
   ]
  },
  {
   "cell_type": "markdown",
   "metadata": {},
   "source": [
    "There is mismatch! Some of the `y` tensors have shape `[32, 32]` while others have `[32, 33]`. Uh oh. Time to fix the yield production code."
   ]
  },
  {
   "cell_type": "markdown",
   "metadata": {},
   "source": [
    "### 2.3 Remaining Dataloaders\n",
    "\n",
    "Let's retrieve some batches from all Dataloaders."
   ]
  },
  {
   "cell_type": "code",
   "execution_count": 13,
   "metadata": {},
   "outputs": [
    {
     "name": "stdout",
     "output_type": "stream",
     "text": [
      "DroneNDVIEarlier\n",
      "\tBatch 1\n",
      "\t\tx: torch.Size([16, 1, 32, 32])\n",
      "\t\ty: torch.Size([16])\n",
      "\tBatch 2\n",
      "\t\tx: torch.Size([16, 1, 32, 32])\n",
      "\t\ty: torch.Size([16])\n",
      "\tBatch 3\n",
      "\t\tx: torch.Size([16, 1, 32, 32])\n",
      "\t\ty: torch.Size([16])\n",
      "\tBatch 4\n",
      "\t\tx: torch.Size([16, 1, 32, 32])\n",
      "\t\ty: torch.Size([16])\n",
      "\tTotal Batches: 331\n",
      "\n",
      "DroneNDVILater\n",
      "\tBatch 1\n",
      "\t\tx: torch.Size([16, 1, 32, 32])\n",
      "\t\ty: torch.Size([16])\n",
      "\tBatch 2\n",
      "\t\tx: torch.Size([16, 1, 32, 32])\n",
      "\t\ty: torch.Size([16])\n",
      "\tBatch 3\n",
      "\t\tx: torch.Size([16, 1, 32, 32])\n",
      "\t\ty: torch.Size([16])\n",
      "\tBatch 4\n",
      "\t\tx: torch.Size([16, 1, 32, 32])\n",
      "\t\ty: torch.Size([16])\n",
      "\tTotal Batches: 325\n",
      "\n",
      "DroneRGBEarlier\n",
      "\tBatch 1\n",
      "\t\tx: torch.Size([16, 3, 32, 32])\n",
      "\t\ty: torch.Size([16])\n",
      "\tBatch 2\n",
      "\t\tx: torch.Size([16, 3, 32, 32])\n",
      "\t\ty: torch.Size([16])\n",
      "\tBatch 3\n",
      "\t\tx: torch.Size([16, 3, 32, 32])\n",
      "\t\ty: torch.Size([16])\n",
      "\tBatch 4\n",
      "\t\tx: torch.Size([16, 3, 32, 32])\n",
      "\t\ty: torch.Size([16])\n",
      "\tTotal Batches: 328\n",
      "\n",
      "DroneRGBLater\n",
      "\tBatch 1\n",
      "\t\tx: torch.Size([16, 3, 32, 32])\n",
      "\t\ty: torch.Size([16])\n",
      "\tBatch 2\n",
      "\t\tx: torch.Size([16, 3, 32, 32])\n",
      "\t\ty: torch.Size([16])\n",
      "\tBatch 3\n",
      "\t\tx: torch.Size([16, 3, 32, 32])\n",
      "\t\ty: torch.Size([16])\n",
      "\tBatch 4\n",
      "\t\tx: torch.Size([16, 3, 32, 32])\n",
      "\t\ty: torch.Size([16])\n",
      "\tTotal Batches: 291\n",
      "\n"
     ]
    }
   ],
   "source": [
    "from field_analysis.model.dataset.dataperiod import (DroneRGBEarlier, DroneRGBLater, \n",
    "                                                     DroneNDVIEarlier, DroneNDVILater)\n",
    "\n",
    "for dataset in [DroneNDVIEarlier(db_name), DroneNDVILater(db_name), \n",
    "                DroneRGBEarlier(db_name), DroneRGBLater(db_name)]:\n",
    "    \n",
    "    dataloader = DataLoader(dataset, batch_size=16, shuffle=True)\n",
    "\n",
    "    print(dataset.__class__.__name__)\n",
    "    \n",
    "    for i, batch in enumerate(dataloader):\n",
    "        \n",
    "        batch_x = batch['x']\n",
    "        batch_y = batch['y']\n",
    "        \n",
    "        print(\"\\tBatch\",i+1)\n",
    "        print(\"\\t\\tx:\",batch_x.size())\n",
    "        print(\"\\t\\ty:\",batch_y.size())\n",
    "        \n",
    "        if i == 3:\n",
    "            print(\"\\tTotal Batches:\",len(dataloader))\n",
    "            print()\n",
    "            break"
   ]
  },
  {
   "cell_type": "markdown",
   "metadata": {},
   "source": [
    "### 2.4 Dataset to Dataloader function\n",
    "\n",
    "Then we test if the implemented Dataset-to-Dataloader function works as intended."
   ]
  },
  {
   "cell_type": "code",
   "execution_count": 14,
   "metadata": {},
   "outputs": [
    {
     "name": "stdout",
     "output_type": "stream",
     "text": [
      "DroneNDVIEarlier\n",
      "\tTotal Batches: 331\n",
      "\n",
      "DroneNDVILater\n",
      "\tTotal Batches: 325\n",
      "\n",
      "DroneRGBEarlier\n",
      "\tTotal Batches: 328\n",
      "\n",
      "DroneRGBLater\n",
      "\tTotal Batches: 291\n",
      "\n"
     ]
    }
   ],
   "source": [
    "from field_analysis.model.dataset.dataperiod import (DroneRGBEarlier, DroneRGBLater, \n",
    "                                                     DroneNDVIEarlier, DroneNDVILater)\n",
    "\n",
    "for dataset in [DroneNDVIEarlier(db_name), DroneNDVILater(db_name), DroneRGBEarlier(db_name), DroneRGBLater(db_name)]:\n",
    "    \n",
    "    print(dataset.__class__.__name__)\n",
    "    print(\"\\tTotal Batches:\",len(dataset.to_batches(batch_size=16)))\n",
    "    print()\n"
   ]
  },
  {
   "cell_type": "markdown",
   "metadata": {},
   "source": [
    "It does, great! However in the context of deep learning the use of the whole dataset is neither optimal or the industry standard."
   ]
  },
  {
   "cell_type": "markdown",
   "metadata": {},
   "source": [
    "### 2.5 Dataloader separation\n",
    "\n",
    "Separation to distinct training and validation is the standard for the moment. Thus we'll showcase the implementation of this as well."
   ]
  },
  {
   "cell_type": "code",
   "execution_count": 15,
   "metadata": {
    "scrolled": true
   },
   "outputs": [
    {
     "name": "stdout",
     "output_type": "stream",
     "text": [
      "DroneNDVIEarlier\n",
      "\tTrain size=265, Validation size=67\n",
      "\n",
      "DroneNDVILater\n",
      "\tTrain size=260, Validation size=65\n",
      "\n",
      "DroneRGBEarlier\n",
      "\tTrain size=263, Validation size=66\n",
      "\n",
      "DroneRGBLater\n",
      "\tTrain size=233, Validation size=59\n",
      "\n"
     ]
    }
   ],
   "source": [
    "from field_analysis.model.dataset.dataperiod import (DroneRGBEarlier, DroneRGBLater, \n",
    "                                                     DroneNDVIEarlier, DroneNDVILater)\n",
    "\n",
    "for dataset in [DroneNDVIEarlier(db_name), DroneNDVILater(db_name), DroneRGBEarlier(db_name), DroneRGBLater(db_name)]:\n",
    "    \n",
    "    print(dataset.__class__.__name__)\n",
    "    \n",
    "    train, val = dataset.separate_train_test(batch_size=16, train_ratio=0.8)\n",
    "    \n",
    "    print(\"\\tTrain size={}, Validation size={}\".format(len(train),len(val)))\n",
    "    print()"
   ]
  },
  {
   "cell_type": "markdown",
   "metadata": {},
   "source": [
    "Splendid again! Dataloaders are finished!"
   ]
  },
  {
   "cell_type": "markdown",
   "metadata": {},
   "source": [
    "### 2.6 Troubleshooting notes\n",
    "\n",
    "When using multiple dataloaders within a training instance, it is important to use the initialized dataset at once. Let's take the 32px and 64px datasets as an example. We'll first initialize two datasets sequentially."
   ]
  },
  {
   "cell_type": "code",
   "execution_count": 16,
   "metadata": {},
   "outputs": [
    {
     "name": "stdout",
     "output_type": "stream",
     "text": [
      "torch.Size([1, 64, 64])\n",
      "torch.Size([1, 64, 64])\n"
     ]
    }
   ],
   "source": [
    "from field_analysis.model.dataset.dataperiod import DroneNDVIEarlier\n",
    "\n",
    "db_32 = 'field_analysis_10m_32px.db'\n",
    "db_64 = 'field_analysis_20m_64px.db'\n",
    "datasets = []\n",
    "\n",
    "for db in [db_32, db_64]:\n",
    "    datasets.append(DroneNDVIEarlier(db))\n",
    "    \n",
    "for dataset in datasets:\n",
    "    print(dataset[0]['x'].size())"
   ]
  },
  {
   "cell_type": "markdown",
   "metadata": {},
   "source": [
    "As it is evident, while the first dataset was initialized with the 32px dataset, both retrievals produced similarly shaped results. This is due to dynamic database selection implemented within `field_analysis.db.models` in the function `initialize_db`. The datasets call this initialization function at their initialization time and override the ORM models' database file pointer."
   ]
  },
  {
   "cell_type": "markdown",
   "metadata": {},
   "source": [
    "## 3. Sample Counts"
   ]
  },
  {
   "cell_type": "markdown",
   "metadata": {},
   "source": [
    "We want to find out the total sample counts of complete input-target-pairs. This is to say that we are interested in pairs which contain non-null values for both the target and the input. We do this for each dataset separately."
   ]
  },
  {
   "cell_type": "code",
   "execution_count": 2,
   "metadata": {},
   "outputs": [
    {
     "name": "stdout",
     "output_type": "stream",
     "text": [
      "field_analysis_10m_32px.db\n",
      "\t29811 inputs\n",
      "\t12116 targets\n",
      "\t20371 input-target-pairs\n",
      "\t10527 earlier samples\n",
      "\t9844 later samples\n",
      "field_analysis_20m_64px.db\n",
      "\t29850 inputs\n",
      "\t12067 targets\n",
      "\t20404 input-target-pairs\n",
      "\t10563 earlier samples\n",
      "\t9841 later samples\n",
      "field_analysis_40m_128px.db\n",
      "\t29322 inputs\n",
      "\t11716 targets\n",
      "\t20193 input-target-pairs\n",
      "\t10521 earlier samples\n",
      "\t9672 later samples\n"
     ]
    }
   ],
   "source": [
    "import os\n",
    "\n",
    "import torch\n",
    "from torch.utils.data import DataLoader\n",
    "\n",
    "from field_analysis.settings import model as model_settings\n",
    "from field_analysis.db.models import DataPeriod, Target, initialize_db\n",
    "from field_analysis.model.dataset.dataperiod import (\n",
    "    DroneRGBEarlier, DroneRGBLater, DroneNDVIEarlier, DroneNDVILater)\n",
    "\n",
    "dbs = ['field_analysis_10m_32px.db',\n",
    "       'field_analysis_20m_64px.db',\n",
    "       'field_analysis_40m_128px.db']\n",
    "\n",
    "for db in dbs:\n",
    "    initialize_db(os.path.join(model_settings.DATABASES_DIR, db))\n",
    "    \n",
    "    print(db)\n",
    "\n",
    "    count = 0\n",
    "    count += DataPeriod.select().where(DataPeriod.area_drone_rgb.is_null(False)).count()\n",
    "    count += DataPeriod.select().where(DataPeriod.area_drone_ndvi.is_null(False)).count()\n",
    "    print(\"\\t{} inputs\".format(count))\n",
    "    \n",
    "    print(\"\\t{} targets\".format(Target.select().where(Target.area_yield.is_null(False)).count()))\n",
    "    \n",
    "    size = 0\n",
    "    size += DroneRGBEarlier(db).size()\n",
    "    size += DroneRGBLater(db).size()\n",
    "    size += DroneNDVIEarlier(db).size()\n",
    "    size += DroneNDVILater(db).size()\n",
    "    print(\"\\t{} input-target-pairs\".format(size))\n",
    "    \n",
    "    size = 0\n",
    "    size += DroneRGBEarlier(db).size()\n",
    "    size += DroneNDVIEarlier(db).size()\n",
    "    print(\"\\t{} earlier samples\".format(size))\n",
    "    \n",
    "    size = 0\n",
    "    size += DroneRGBLater(db).size()\n",
    "    size += DroneNDVILater(db).size()\n",
    "    print(\"\\t{} later samples\".format(size))\n",
    "    "
   ]
  },
  {
   "cell_type": "code",
   "execution_count": null,
   "metadata": {},
   "outputs": [],
   "source": []
  }
 ],
 "metadata": {
  "hide_input": false,
  "kernelspec": {
   "display_name": "Python 3",
   "language": "python",
   "name": "python3"
  },
  "language_info": {
   "codemirror_mode": {
    "name": "ipython",
    "version": 3
   },
   "file_extension": ".py",
   "mimetype": "text/x-python",
   "name": "python",
   "nbconvert_exporter": "python",
   "pygments_lexer": "ipython3",
   "version": "3.7.0"
  },
  "toc": {
   "base_numbering": 1,
   "nav_menu": {},
   "number_sections": false,
   "sideBar": true,
   "skip_h1_title": true,
   "title_cell": "Table of Contents",
   "title_sidebar": "Contents",
   "toc_cell": true,
   "toc_position": {
    "height": "calc(100% - 180px)",
    "left": "10px",
    "top": "150px",
    "width": "256px"
   },
   "toc_section_display": true,
   "toc_window_display": true
  }
 },
 "nbformat": 4,
 "nbformat_minor": 2
}
