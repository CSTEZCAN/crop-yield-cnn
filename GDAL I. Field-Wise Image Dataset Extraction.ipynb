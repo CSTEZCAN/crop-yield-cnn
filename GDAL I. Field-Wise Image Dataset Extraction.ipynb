{
 "cells": [
  {
   "cell_type": "markdown",
   "metadata": {},
   "source": [
    "*Initially created at 13.12.2017 by Petteri Nevavuori (<petteri.nevavuori@mtech.fi>)*\n",
    "\n",
    "---\n",
    "\n",
    "# GDAL I. Field-Wise Image Dataset Extraction"
   ]
  },
  {
   "cell_type": "markdown",
   "metadata": {
    "toc": "true"
   },
   "source": [
    "<h1>Table of Contents<span class=\"tocSkip\"></span></h1>\n",
    "<div class=\"toc\"><ul class=\"toc-item\"><li><span><a href=\"#1.-Introduction\" data-toc-modified-id=\"1.-Introduction-1\">1. Introduction</a></span><ul class=\"toc-item\"><li><span><a href=\"#1.1-Folder-structures\" data-toc-modified-id=\"1.1-Folder-structures-1.1\">1.1 Folder structures</a></span><ul class=\"toc-item\"><li><span><a href=\"#1.1.1-Granule-folder-structure\" data-toc-modified-id=\"1.1.1-Granule-folder-structure-1.1.1\">1.1.1 Granule folder structure</a></span></li><li><span><a href=\"#1.1.2-Drone-folder-structure\" data-toc-modified-id=\"1.1.2-Drone-folder-structure-1.1.2\">1.1.2 Drone folder structure</a></span></li><li><span><a href=\"#1.1.3-Output-datasets'-folder-structure\" data-toc-modified-id=\"1.1.3-Output-datasets'-folder-structure-1.1.3\">1.1.3 Output datasets' folder structure</a></span></li></ul></li></ul></li><li><span><a href=\"#3.1.-Sentinel-data\" data-toc-modified-id=\"3.1.-Sentinel-data-2\">3.1. Sentinel data</a></span></li><li><span><a href=\"#3.2.-Drone-data\" data-toc-modified-id=\"3.2.-Drone-data-3\">3.2. Drone data</a></span><ul class=\"toc-item\"><li><span><a href=\"#3.2.1-NDVI-images\" data-toc-modified-id=\"3.2.1-NDVI-images-3.1\">3.2.1 NDVI images</a></span></li><li><span><a href=\"#3.2.2-RGB-images\" data-toc-modified-id=\"3.2.2-RGB-images-3.2\">3.2.2 RGB images</a></span></li></ul></li><li><span><a href=\"#4.-Dataset-date-coverage\" data-toc-modified-id=\"4.-Dataset-date-coverage-4\">4. Dataset date coverage</a></span><ul class=\"toc-item\"><li><span><a href=\"#4.1-Drone-image-dates\" data-toc-modified-id=\"4.1-Drone-image-dates-4.1\">4.1 Drone image dates</a></span></li></ul></li></ul></div>"
   ]
  },
  {
   "cell_type": "markdown",
   "metadata": {},
   "source": [
    "## 1. Introduction\n",
    "\n",
    "This notebook lays out the process of building the spatio-temporal dataset for crop field model development. For those interested in technical details, the corresponding modules and used functions can be inspected from the repository page.\n",
    "\n",
    "The process of image dataset extraction is a multi-stepped one, where first the Sentinel-2A datasets processed for extraction of NDVI-information and reprojection from WGS84 to EPSG:3067 (a.k.a. TM35FIN). After this the fieldwise data is extracted from these NDVI-granules utilizing crop field boundaries acquired from Maaseutuvirasto (MaVi). Then the already processed and generated drone images are resampled to a resolution, where a single Sentinel 2A pixel corresponds to a 32 x 32 px area.\n",
    "\n",
    "In the following section we will extract the NDVI form Sentinel 2A datasets.\n",
    "\n",
    "**Note:** Field with `LOHKO` id of `6090462672` produces computational errors, as Maaseutuvirasto's shapefile dataset doesn't have any proper geometry data for year 2017. It is therefore omitted.\n",
    "\n",
    "There are some prerequisites to make this Notebook work on other machines. First thing is to have the Sentinel Application Platform or SNAP installed and configured to use an existing Python 3.4. The SNAP installer can be found [here](http://step.esa.int/main/download/). This way the SNAP Python API can be utilized via module called `snappy`. The ``osgeo`` package is also a definite requirement along with basic data handling packages such as ``pandas`` and ``numpy``. For visualization we will use ``seaborn``, that makes use of ``matplotlib``. The last thing is to have the Sentinel 2A and drone datasets in a folder structure depicted next.\n",
    "\n",
    "### 1.1 Folder structures\n",
    "\n",
    "At this point the input and output files will still be served from distinct folders. The input datasets, namely the Sentinel 2A granules and Drone NDVI and RGB images, are processed from their corresponding folder structures. The outputs will be persisted to a distinct structure as well.\n",
    "\n",
    "#### 1.1.1 Granule folder structure\n",
    "\n",
    "The presumption is that the granules are as extracted folders in a containing folder. An example folder struct and the one used with the Notebook is as follows:\n",
    "\n",
    "    Sentinel 2A/\n",
    "        |- 2016/\n",
    "        |- 2017/\n",
    "            |- T35VEP/\n",
    "                |- 20170603/\n",
    "                |- 20170610/\n",
    "                |- 20170623/\n",
    "                |- ...\n",
    "            |- T35VLH/\n",
    "                |- ...\n",
    "\n",
    "A point worth noting is that the names of the folders are not as concise by default when downloading the Granules from ESA. The leaf folders correspond to the dates for when the datasets were generated.\n",
    "\n",
    "#### 1.1.2 Drone folder structure\n",
    "\n",
    "The data for the drone files is is arranged in folders like this:\n",
    "\n",
    "    Drone/\n",
    "        |- 2016/\n",
    "        |- 2017/\n",
    "            |- T35VEP/\n",
    "                |- 6090161366/\n",
    "                |- 6090205523/\n",
    "                |- 6090324751/\n",
    "                |- ...\n",
    "            |- T35VLH/\n",
    "                |- ...\n",
    "\n",
    "The leaf folders correspond to field block IDs, to which the date-named files are related to.\n",
    "\n",
    "#### 1.1.3 Output datasets' folder structure\n",
    "\n",
    "The output structure will follow the convention of ``DATASET_NAME/YEAR/GRANULE/BLOCK_ID``. An example representation and the one used in the notebook is as follows:\n",
    "\n",
    "    Lohkodatat/\n",
    "        |- 2016/\n",
    "        |- 2017/\n",
    "            |- T35VEP/\n",
    "                |- 6090161366/\n",
    "                |- 6090205523/\n",
    "                |- 6090324751/\n",
    "                |- ...\n",
    "            |- T35VLH/\n",
    "                |- ...\n",
    "\n",
    "The leaf folders correspond to field block IDs, to which the date-named files are related to."
   ]
  },
  {
   "cell_type": "markdown",
   "metadata": {},
   "source": [
    "# 2. Prepare Sentinel-2A NDVI-images\n",
    "\n",
    "First we extract the [NDVI](https://wikipedia.org/wiki/NDVI) from a batch of Sentinel-2 data granules.The granules are preprocessed to Level 2A as defined in-depth in documentation for [Level-2A Algorithm](https://sentinel.esa.int/web/sentinel/technical-guides/sentinel-2-msi/level-2a/algorithm). This means that there is no need for calculating the atmospheric correction and that the granules already contain coarse pixel-wise classification information for the following classes:\n",
    "\n",
    "![Pre-computed classification labels for Sentinel-2 granules](https://sentinel.esa.int/documents/247904/322303/SUH-WIKI-MSI-230_Scene_Classification_figure_3.png)\n",
    "\n",
    "We will make use of this information for extracting only the relevant classes and excluding the rest for calculating the NDVI for only the vegetation and soil data. The Sentinel-2A's corresponding NDVI equation is as follows. This function will be used in the *BandMaths* operation in the extraction process:\n",
    "\n",
    "![Sentinel-2A's NDVI equation with corresponding bands](https://sentinel.esa.int/documents/247904/322303/Level-2A_Algorithms_Equation_2a.jpg)\n",
    "\n",
    "The processes are executed by utilizing SNAP's Graph Processing Framework or ``GPF``. The ``GPF`` provides exactly same operations that are present in SNAP GUI's Graph Builder. The whole pipeline is constructed of the following operations:\n",
    "\n",
    "    [Read] -> [Resample] -> [BandMaths] -> [Reproject] -> [Write]\n",
    "    \n",
    "Where the operations are:\n",
    " - *Read*: Read the downloaded Sentinel-2A granule.\n",
    " - *Resample*: Increase the resolution for classification information layer. Information on default resolutions for distinct bands can be found in [Sentinel-2: Resolution and Swath](https://sentinel.esa.int/web/sentinel/missions/sentinel-2/instrument-payload/resolution-and-swath).\n",
    " - *BandMaths*: Exclude non-vegetation and non-soil pixels and then calculate the NDVI. This operation also reduces the number of bands, thus reducing the computation time for Reprojection.\n",
    " - *Reproject*: The default WGS-84 coordinate system is projected into Finnish TM35 (EPSG:3067).\n",
    " - *Write*: Write the processed granule as a GTiff file.\n",
    " - *Scale*: The image is scaled upwards for sharper cutlines in the raster clipping stages later on.\n",
    "\n",
    "The code has been built to implement these operations consecutively for each Sentinel 2A granule."
   ]
  },
  {
   "cell_type": "code",
   "execution_count": 1,
   "metadata": {
    "scrolled": false
   },
   "outputs": [
    {
     "name": "stdout",
     "output_type": "stream",
     "text": [
      "Performing SNAP GPF ops on Sentinel2A Granules\n",
      "Processing 20170603 from D:\\Data\\Sentinel 2A\\2017\\T35VEP\\20170603\\MTD_MSIL2A.xml\n",
      "\tRead, path=D:\\Data\\Sentinel 2A\\2017\\T35VEP\\20170603\\MTD_MSIL2A.xml\n",
      "\tResample, product=20170603\n",
      "\tBandMaths, product=20170603_resampled\n",
      "\tReproject, product=20170603_resampled_BandMath\n",
      "\tWrite, file_path=D:\\Data\\Sentinel 2A\\2017\\T35VEP\\20170603_sentinel_ndvi.tif\n",
      "\tProcessing done in 3m 29s\n",
      "Processing 20170610 from D:\\Data\\Sentinel 2A\\2017\\T35VEP\\20170610\\MTD_MSIL2A.xml\n",
      "\tRead, path=D:\\Data\\Sentinel 2A\\2017\\T35VEP\\20170610\\MTD_MSIL2A.xml\n",
      "\tResample, product=20170610\n",
      "\tBandMaths, product=20170610_resampled\n",
      "\tReproject, product=20170610_resampled_BandMath\n",
      "\tWrite, file_path=D:\\Data\\Sentinel 2A\\2017\\T35VEP\\20170610_sentinel_ndvi.tif\n",
      "\tProcessing done in 3m 34s\n",
      "Processing 20170623 from D:\\Data\\Sentinel 2A\\2017\\T35VEP\\20170623\\MTD_MSIL2A.xml\n",
      "\tRead, path=D:\\Data\\Sentinel 2A\\2017\\T35VEP\\20170623\\MTD_MSIL2A.xml\n",
      "\tResample, product=20170623\n",
      "\tBandMaths, product=20170623_resampled\n",
      "\tReproject, product=20170623_resampled_BandMath\n",
      "\tWrite, file_path=D:\\Data\\Sentinel 2A\\2017\\T35VEP\\20170623_sentinel_ndvi.tif\n",
      "\tProcessing done in 3m 40s\n",
      "Processing 20170630 from D:\\Data\\Sentinel 2A\\2017\\T35VEP\\20170630\\MTD_MSIL2A.xml\n",
      "\tRead, path=D:\\Data\\Sentinel 2A\\2017\\T35VEP\\20170630\\MTD_MSIL2A.xml\n",
      "\tResample, product=20170630\n",
      "\tBandMaths, product=20170630_resampled\n",
      "\tReproject, product=20170630_resampled_BandMath\n",
      "\tWrite, file_path=D:\\Data\\Sentinel 2A\\2017\\T35VEP\\20170630_sentinel_ndvi.tif\n",
      "\tProcessing done in 3m 38s\n",
      "Processing 20170720 from D:\\Data\\Sentinel 2A\\2017\\T35VEP\\20170720\\MTD_MSIL2A.xml\n",
      "\tRead, path=D:\\Data\\Sentinel 2A\\2017\\T35VEP\\20170720\\MTD_MSIL2A.xml\n",
      "\tResample, product=20170720\n",
      "\tBandMaths, product=20170720_resampled\n",
      "\tReproject, product=20170720_resampled_BandMath\n",
      "\tWrite, file_path=D:\\Data\\Sentinel 2A\\2017\\T35VEP\\20170720_sentinel_ndvi.tif\n",
      "\tProcessing done in 3m 41s\n",
      "Processing 20170723 from D:\\Data\\Sentinel 2A\\2017\\T35VEP\\20170723\\MTD_MSIL2A.xml\n",
      "\tRead, path=D:\\Data\\Sentinel 2A\\2017\\T35VEP\\20170723\\MTD_MSIL2A.xml\n",
      "\tResample, product=20170723\n",
      "\tBandMaths, product=20170723_resampled\n",
      "\tReproject, product=20170723_resampled_BandMath\n",
      "\tWrite, file_path=D:\\Data\\Sentinel 2A\\2017\\T35VEP\\20170723_sentinel_ndvi.tif\n",
      "\tProcessing done in 3m 39s\n",
      "Processing 20170911 from D:\\Data\\Sentinel 2A\\2017\\T35VEP\\20170911\\MTD_MSIL2A.xml\n",
      "\tRead, path=D:\\Data\\Sentinel 2A\\2017\\T35VEP\\20170911\\MTD_MSIL2A.xml\n",
      "\tResample, product=20170911\n",
      "\tBandMaths, product=20170911_resampled\n",
      "\tReproject, product=20170911_resampled_BandMath\n",
      "\tWrite, file_path=D:\\Data\\Sentinel 2A\\2017\\T35VEP\\20170911_sentinel_ndvi.tif\n",
      "\tProcessing done in 3m 41s\n",
      "Done in 25m 23s\n"
     ]
    }
   ],
   "source": [
    "from field_analysis.extraction.snap_gpf import Sentinel2A\n",
    "\n",
    "sentinel = Sentinel2A()\n",
    "sentinel.extract()"
   ]
  },
  {
   "cell_type": "markdown",
   "metadata": {},
   "source": [
    "# 3. Export field wise datasets\n",
    "\n",
    "In this section we lay out the process of extracting field-wise data from Sentinel-2A granules and drone orthomosaics with geological boundaries. After many trials and errors, the easiest solution for clipping the granules to shape boundaries was to use `gdal.Warp` almost identically to CLI-command `gdalwarp`. In essence, the utility is fed three paths (output path, input granule path and shapefile path), the OGR SQL for selecting proper shape and a boolean to enable cropping to cutline. The utility will then produce rasters corresponding to blocks' shapes.\n",
    "\n",
    "We will also use ``gdal.Transform`` to rescale single and multi band values to a desired float range.\n",
    "\n",
    "The output resolutions are the following:\n",
    " - **Sentinel-2A:** 10 m/px, which is the best resolution in the raw satellite dataset.\n",
    " - **Drone:** 0.3125 m/px or 10/32 m/px to have a 32x32 pixel window for each 10m x 10m area\n",
    "\n",
    "The Sentinel-2A datasets are extracted saved with an output resolution of 10m per pixel, which is the best available resolution in the raw satellite dataset. The drone datasets have an output resolution of 10 m per 32 px to allow for handling the 10 x 10 m areas as distinct 32 x 32 px images.\n",
    "\n",
    "Regardless of the specific implementation, the code is constructed to first build the input-output path pairs. Then the field blocks are extracted from the input images by cutting the images with block wise shapefiles."
   ]
  },
  {
   "cell_type": "markdown",
   "metadata": {},
   "source": [
    "## 3.1. Sentinel data\n",
    "First we precompute all the paths to streamline the clipping process and create non-existent containing folders for generated datasets. Thus we iterate over each granule and each block to extract the field-wise NDVI-data only."
   ]
  },
  {
   "cell_type": "code",
   "execution_count": 1,
   "metadata": {
    "scrolled": true
   },
   "outputs": [
    {
     "name": "stdout",
     "output_type": "stream",
     "text": [
      "6090006368\tFrom\tD:\\Data\\Sentinel 2A\\2017\\T35VEP\\20170603_sentinel_ndvi.tif\n",
      "\t\tTo\tD:\\Data\\Blocks\\2017\\T35VEP\\6090006368\\20170603_sentinel_ndvi.tif\n"
     ]
    },
    {
     "data": {
      "image/png": "[encoded data removed]",
      "text/plain": [
       "<matplotlib.figure.Figure at 0x720efd0>"
      ]
     },
     "metadata": {},
     "output_type": "display_data"
    },
    {
     "name": "stdout",
     "output_type": "stream",
     "text": [
      "6090006469\tFrom\tD:\\Data\\Sentinel 2A\\2017\\T35VEP\\20170603_sentinel_ndvi.tif\n",
      "\t\tTo\tD:\\Data\\Blocks\\2017\\T35VEP\\6090006469\\20170603_sentinel_ndvi.tif\n"
     ]
    },
    {
     "data": {
      "image/png": "[encoded data removed]",
      "text/plain": [
       "<matplotlib.figure.Figure at 0xa083a90>"
      ]
     },
     "metadata": {},
     "output_type": "display_data"
    },
    {
     "name": "stdout",
     "output_type": "stream",
     "text": [
      "6090161265\tFrom\tD:\\Data\\Sentinel 2A\\2017\\T35VEP\\20170603_sentinel_ndvi.tif\n",
      "\t\tTo\tD:\\Data\\Blocks\\2017\\T35VEP\\6090161265\\20170603_sentinel_ndvi.tif\n"
     ]
    },
    {
     "data": {
      "image/png": "[encoded data removed]",
      "text/plain": [
       "<matplotlib.figure.Figure at 0xa0a7240>"
      ]
     },
     "metadata": {},
     "output_type": "display_data"
    },
    {
     "name": "stdout",
     "output_type": "stream",
     "text": [
      "6090161366\tFrom\tD:\\Data\\Sentinel 2A\\2017\\T35VEP\\20170603_sentinel_ndvi.tif\n",
      "\t\tTo\tD:\\Data\\Blocks\\2017\\T35VEP\\6090161366\\20170603_sentinel_ndvi.tif\n"
     ]
    },
    {
     "data": {
      "image/png": "[encoded data removed]",
      "text/plain": [
       "<matplotlib.figure.Figure at 0xa114be0>"
      ]
     },
     "metadata": {},
     "output_type": "display_data"
    },
    {
     "name": "stdout",
     "output_type": "stream",
     "text": [
      "6090205523\tFrom\tD:\\Data\\Sentinel 2A\\2017\\T35VEP\\20170603_sentinel_ndvi.tif\n",
      "\t\tTo\tD:\\Data\\Blocks\\2017\\T35VEP\\6090205523\\20170603_sentinel_ndvi.tif\n"
     ]
    },
    {
     "data": {
      "image/png": "[encoded data removed]",
      "text/plain": [
       "<matplotlib.figure.Figure at 0xa16a5f8>"
      ]
     },
     "metadata": {},
     "output_type": "display_data"
    },
    {
     "name": "stdout",
     "output_type": "stream",
     "text": [
      "6090324751\tFrom\tD:\\Data\\Sentinel 2A\\2017\\T35VEP\\20170603_sentinel_ndvi.tif\n",
      "\t\tTo\tD:\\Data\\Blocks\\2017\\T35VEP\\6090324751\\20170603_sentinel_ndvi.tif\n"
     ]
    },
    {
     "data": {
      "image/png": "[encoded data removed]",
      "text/plain": [
       "<matplotlib.figure.Figure at 0x2b8c048>"
      ]
     },
     "metadata": {},
     "output_type": "display_data"
    },
    {
     "name": "stdout",
     "output_type": "stream",
     "text": [
      "6090328993\tFrom\tD:\\Data\\Sentinel 2A\\2017\\T35VEP\\20170603_sentinel_ndvi.tif\n",
      "\t\tTo\tD:\\Data\\Blocks\\2017\\T35VEP\\6090328993\\20170603_sentinel_ndvi.tif\n"
     ]
    },
    {
     "data": {
      "image/png": "[encoded data removed]",
      "text/plain": [
       "<matplotlib.figure.Figure at 0xa163b38>"
      ]
     },
     "metadata": {},
     "output_type": "display_data"
    },
    {
     "name": "stdout",
     "output_type": "stream",
     "text": [
      "6090340818\tFrom\tD:\\Data\\Sentinel 2A\\2017\\T35VEP\\20170603_sentinel_ndvi.tif\n",
      "\t\tTo\tD:\\Data\\Blocks\\2017\\T35VEP\\6090340818\\20170603_sentinel_ndvi.tif\n"
     ]
    },
    {
     "data": {
      "image/png": "[encoded data removed]",
      "text/plain": [
       "<matplotlib.figure.Figure at 0x2c36b00>"
      ]
     },
     "metadata": {},
     "output_type": "display_data"
    },
    {
     "name": "stdout",
     "output_type": "stream",
     "text": [
      "6090342838\tFrom\tD:\\Data\\Sentinel 2A\\2017\\T35VEP\\20170603_sentinel_ndvi.tif\n",
      "\t\tTo\tD:\\Data\\Blocks\\2017\\T35VEP\\6090342838\\20170603_sentinel_ndvi.tif\n"
     ]
    },
    {
     "data": {
      "image/png": "[encoded data removed]",
      "text/plain": [
       "<matplotlib.figure.Figure at 0x2be0400>"
      ]
     },
     "metadata": {},
     "output_type": "display_data"
    },
    {
     "name": "stdout",
     "output_type": "stream",
     "text": [
      "6090345161\tFrom\tD:\\Data\\Sentinel 2A\\2017\\T35VEP\\20170603_sentinel_ndvi.tif\n",
      "\t\tTo\tD:\\Data\\Blocks\\2017\\T35VEP\\6090345161\\20170603_sentinel_ndvi.tif\n"
     ]
    },
    {
     "data": {
      "image/png": "[encoded data removed]",
      "text/plain": [
       "<matplotlib.figure.Figure at 0x2c8f240>"
      ]
     },
     "metadata": {},
     "output_type": "display_data"
    },
    {
     "name": "stdout",
     "output_type": "stream",
     "text": [
      "6090345969\tFrom\tD:\\Data\\Sentinel 2A\\2017\\T35VEP\\20170603_sentinel_ndvi.tif\n",
      "\t\tTo\tD:\\Data\\Blocks\\2017\\T35VEP\\6090345969\\20170603_sentinel_ndvi.tif\n"
     ]
    },
    {
     "data": {
      "image/png": "[encoded data removed]",
      "text/plain": [
       "<matplotlib.figure.Figure at 0x2ce34a8>"
      ]
     },
     "metadata": {},
     "output_type": "display_data"
    },
    {
     "name": "stdout",
     "output_type": "stream",
     "text": [
      "6090346171\tFrom\tD:\\Data\\Sentinel 2A\\2017\\T35VEP\\20170603_sentinel_ndvi.tif\n",
      "\t\tTo\tD:\\Data\\Blocks\\2017\\T35VEP\\6090346171\\20170603_sentinel_ndvi.tif\n"
     ]
    },
    {
     "data": {
      "image/png": "[encoded data removed]",
      "text/plain": [
       "<matplotlib.figure.Figure at 0x2d792b0>"
      ]
     },
     "metadata": {},
     "output_type": "display_data"
    },
    {
     "name": "stdout",
     "output_type": "stream",
     "text": [
      "6090347888\tFrom\tD:\\Data\\Sentinel 2A\\2017\\T35VEP\\20170603_sentinel_ndvi.tif\n",
      "\t\tTo\tD:\\Data\\Blocks\\2017\\T35VEP\\6090347888\\20170603_sentinel_ndvi.tif\n"
     ]
    },
    {
     "data": {
      "image/png": "[encoded data removed]",
      "text/plain": [
       "<matplotlib.figure.Figure at 0x2d8d3c8>"
      ]
     },
     "metadata": {},
     "output_type": "display_data"
    },
    {
     "name": "stdout",
     "output_type": "stream",
     "text": [
      "6090348292\tFrom\tD:\\Data\\Sentinel 2A\\2017\\T35VEP\\20170603_sentinel_ndvi.tif\n",
      "\t\tTo\tD:\\Data\\Blocks\\2017\\T35VEP\\6090348292\\20170603_sentinel_ndvi.tif\n"
     ]
    },
    {
     "data": {
      "image/png": "[encoded data removed]",
      "text/plain": [
       "<matplotlib.figure.Figure at 0x2decb70>"
      ]
     },
     "metadata": {},
     "output_type": "display_data"
    },
    {
     "name": "stdout",
     "output_type": "stream",
     "text": [
      "6090672133\tFrom\tD:\\Data\\Sentinel 2A\\2017\\T35VEP\\20170603_sentinel_ndvi.tif\n",
      "\t\tTo\tD:\\Data\\Blocks\\2017\\T35VEP\\6090672133\\20170603_sentinel_ndvi.tif\n"
     ]
    },
    {
     "data": {
      "image/png": "[encoded data removed]",
      "text/plain": [
       "<matplotlib.figure.Figure at 0x2d60a20>"
      ]
     },
     "metadata": {},
     "output_type": "display_data"
    },
    {
     "name": "stdout",
     "output_type": "stream",
     "text": [
      "8860017483\tFrom\tD:\\Data\\Sentinel 2A\\2017\\T35VEP\\20170603_sentinel_ndvi.tif\n",
      "\t\tTo\tD:\\Data\\Blocks\\2017\\T35VEP\\8860017483\\20170603_sentinel_ndvi.tif\n"
     ]
    },
    {
     "data": {
      "image/png": "[encoded data removed]",
      "text/plain": [
       "<matplotlib.figure.Figure at 0x2c759b0>"
      ]
     },
     "metadata": {},
     "output_type": "display_data"
    },
    {
     "name": "stdout",
     "output_type": "stream",
     "text": [
      "8860091851\tFrom\tD:\\Data\\Sentinel 2A\\2017\\T35VEP\\20170603_sentinel_ndvi.tif\n",
      "\t\tTo\tD:\\Data\\Blocks\\2017\\T35VEP\\8860091851\\20170603_sentinel_ndvi.tif\n"
     ]
    },
    {
     "data": {
      "image/png": "[encoded data removed]",
      "text/plain": [
       "<matplotlib.figure.Figure at 0x2b51e80>"
      ]
     },
     "metadata": {},
     "output_type": "display_data"
    },
    {
     "name": "stdout",
     "output_type": "stream",
     "text": [
      "8860095891\tFrom\tD:\\Data\\Sentinel 2A\\2017\\T35VEP\\20170603_sentinel_ndvi.tif\n",
      "\t\tTo\tD:\\Data\\Blocks\\2017\\T35VEP\\8860095891\\20170603_sentinel_ndvi.tif\n"
     ]
    },
    {
     "data": {
      "image/png": "[encoded data removed]",
      "text/plain": [
       "<matplotlib.figure.Figure at 0xa10a5c0>"
      ]
     },
     "metadata": {},
     "output_type": "display_data"
    },
    {
     "name": "stdout",
     "output_type": "stream",
     "text": [
      "8860095992\tFrom\tD:\\Data\\Sentinel 2A\\2017\\T35VEP\\20170603_sentinel_ndvi.tif\n",
      "\t\tTo\tD:\\Data\\Blocks\\2017\\T35VEP\\8860095992\\20170603_sentinel_ndvi.tif\n"
     ]
    },
    {
     "data": {
      "image/png": "[encoded data removed]",
      "text/plain": [
       "<matplotlib.figure.Figure at 0x2e0e8d0>"
      ]
     },
     "metadata": {},
     "output_type": "display_data"
    },
    {
     "name": "stdout",
     "output_type": "stream",
     "text": [
      "8860195925\tFrom\tD:\\Data\\Sentinel 2A\\2017\\T35VEP\\20170603_sentinel_ndvi.tif\n",
      "\t\tTo\tD:\\Data\\Blocks\\2017\\T35VEP\\8860195925\\20170603_sentinel_ndvi.tif\n"
     ]
    },
    {
     "data": {
      "image/png": "[encoded data removed]",
      "text/plain": [
       "<matplotlib.figure.Figure at 0x2d060f0>"
      ]
     },
     "metadata": {},
     "output_type": "display_data"
    },
    {
     "name": "stdout",
     "output_type": "stream",
     "text": [
      "9880016034\tFrom\tD:\\Data\\Sentinel 2A\\2017\\T35VEP\\20170603_sentinel_ndvi.tif\n",
      "\t\tTo\tD:\\Data\\Blocks\\2017\\T35VEP\\9880016034\\20170603_sentinel_ndvi.tif\n"
     ]
    },
    {
     "data": {
      "image/png": "[encoded data removed]",
      "text/plain": [
       "<matplotlib.figure.Figure at 0x2c54240>"
      ]
     },
     "metadata": {},
     "output_type": "display_data"
    },
    {
     "name": "stdout",
     "output_type": "stream",
     "text": [
      "9880016135\tFrom\tD:\\Data\\Sentinel 2A\\2017\\T35VEP\\20170603_sentinel_ndvi.tif\n",
      "\t\tTo\tD:\\Data\\Blocks\\2017\\T35VEP\\9880016135\\20170603_sentinel_ndvi.tif\n"
     ]
    },
    {
     "data": {
      "image/png": "[encoded data removed]",
      "text/plain": [
       "<matplotlib.figure.Figure at 0xa126240>"
      ]
     },
     "metadata": {},
     "output_type": "display_data"
    },
    {
     "name": "stdout",
     "output_type": "stream",
     "text": [
      "9880167291\tFrom\tD:\\Data\\Sentinel 2A\\2017\\T35VEP\\20170603_sentinel_ndvi.tif\n",
      "\t\tTo\tD:\\Data\\Blocks\\2017\\T35VEP\\9880167291\\20170603_sentinel_ndvi.tif\n"
     ]
    },
    {
     "data": {
      "image/png": "[encoded data removed]",
      "text/plain": [
       "<matplotlib.figure.Figure at 0x2d0a320>"
      ]
     },
     "metadata": {},
     "output_type": "display_data"
    },
    {
     "name": "stdout",
     "output_type": "stream",
     "text": [
      "9880217714\tFrom\tD:\\Data\\Sentinel 2A\\2017\\T35VEP\\20170603_sentinel_ndvi.tif\n",
      "\t\tTo\tD:\\Data\\Blocks\\2017\\T35VEP\\9880217714\\20170603_sentinel_ndvi.tif\n"
     ]
    },
    {
     "data": {
      "image/png": "[encoded data removed]",
      "text/plain": [
       "<matplotlib.figure.Figure at 0x2b4f978>"
      ]
     },
     "metadata": {},
     "output_type": "display_data"
    },
    {
     "name": "stdout",
     "output_type": "stream",
     "text": [
      "6090006368\tFrom\tD:\\Data\\Sentinel 2A\\2017\\T35VEP\\20170610_sentinel_ndvi.tif\n",
      "\t\tTo\tD:\\Data\\Blocks\\2017\\T35VEP\\6090006368\\20170610_sentinel_ndvi.tif\n"
     ]
    },
    {
     "data": {
      "image/png": "[encoded data removed]",
      "text/plain": [
       "<matplotlib.figure.Figure at 0x2b97898>"
      ]
     },
     "metadata": {},
     "output_type": "display_data"
    },
    {
     "name": "stdout",
     "output_type": "stream",
     "text": [
      "6090006469\tFrom\tD:\\Data\\Sentinel 2A\\2017\\T35VEP\\20170610_sentinel_ndvi.tif\n",
      "\t\tTo\tD:\\Data\\Blocks\\2017\\T35VEP\\6090006469\\20170610_sentinel_ndvi.tif\n"
     ]
    },
    {
     "data": {
      "image/png": "[encoded data removed]",
      "text/plain": [
       "<matplotlib.figure.Figure at 0xa16aa90>"
      ]
     },
     "metadata": {},
     "output_type": "display_data"
    },
    {
     "name": "stdout",
     "output_type": "stream",
     "text": [
      "6090161265\tFrom\tD:\\Data\\Sentinel 2A\\2017\\T35VEP\\20170610_sentinel_ndvi.tif\n",
      "\t\tTo\tD:\\Data\\Blocks\\2017\\T35VEP\\6090161265\\20170610_sentinel_ndvi.tif\n"
     ]
    },
    {
     "data": {
      "image/png": "[encoded data removed]",
      "text/plain": [
       "<matplotlib.figure.Figure at 0x2d1fba8>"
      ]
     },
     "metadata": {},
     "output_type": "display_data"
    },
    {
     "name": "stdout",
     "output_type": "stream",
     "text": [
      "6090161366\tFrom\tD:\\Data\\Sentinel 2A\\2017\\T35VEP\\20170610_sentinel_ndvi.tif\n",
      "\t\tTo\tD:\\Data\\Blocks\\2017\\T35VEP\\6090161366\\20170610_sentinel_ndvi.tif\n"
     ]
    },
    {
     "data": {
      "image/png": "[encoded data removed]",
      "text/plain": [
       "<matplotlib.figure.Figure at 0xa089e48>"
      ]
     },
     "metadata": {},
     "output_type": "display_data"
    },
    {
     "name": "stdout",
     "output_type": "stream",
     "text": [
      "6090205523\tFrom\tD:\\Data\\Sentinel 2A\\2017\\T35VEP\\20170610_sentinel_ndvi.tif\n",
      "\t\tTo\tD:\\Data\\Blocks\\2017\\T35VEP\\6090205523\\20170610_sentinel_ndvi.tif\n"
     ]
    },
    {
     "data": {
      "image/png": "[encoded data removed]",
      "text/plain": [
       "<matplotlib.figure.Figure at 0x2d18320>"
      ]
     },
     "metadata": {},
     "output_type": "display_data"
    },
    {
     "name": "stdout",
     "output_type": "stream",
     "text": [
      "6090324751\tFrom\tD:\\Data\\Sentinel 2A\\2017\\T35VEP\\20170610_sentinel_ndvi.tif\n",
      "\t\tTo\tD:\\Data\\Blocks\\2017\\T35VEP\\6090324751\\20170610_sentinel_ndvi.tif\n"
     ]
    },
    {
     "data": {
      "image/png": "[encoded data removed]",
      "text/plain": [
       "<matplotlib.figure.Figure at 0x2dcad30>"
      ]
     },
     "metadata": {},
     "output_type": "display_data"
    },
    {
     "name": "stdout",
     "output_type": "stream",
     "text": [
      "6090328993\tFrom\tD:\\Data\\Sentinel 2A\\2017\\T35VEP\\20170610_sentinel_ndvi.tif\n",
      "\t\tTo\tD:\\Data\\Blocks\\2017\\T35VEP\\6090328993\\20170610_sentinel_ndvi.tif\n"
     ]
    },
    {
     "data": {
      "image/png": "[encoded data removed]",
      "text/plain": [
       "<matplotlib.figure.Figure at 0x2ca3080>"
      ]
     },
     "metadata": {},
     "output_type": "display_data"
    },
    {
     "name": "stdout",
     "output_type": "stream",
     "text": [
      "6090340818\tFrom\tD:\\Data\\Sentinel 2A\\2017\\T35VEP\\20170610_sentinel_ndvi.tif\n",
      "\t\tTo\tD:\\Data\\Blocks\\2017\\T35VEP\\6090340818\\20170610_sentinel_ndvi.tif\n"
     ]
    },
    {
     "data": {
      "image/png": "[encoded data removed]",
      "text/plain": [
       "<matplotlib.figure.Figure at 0x2bb79b0>"
      ]
     },
     "metadata": {},
     "output_type": "display_data"
    },
    {
     "name": "stdout",
     "output_type": "stream",
     "text": [
      "6090342838\tFrom\tD:\\Data\\Sentinel 2A\\2017\\T35VEP\\20170610_sentinel_ndvi.tif\n",
      "\t\tTo\tD:\\Data\\Blocks\\2017\\T35VEP\\6090342838\\20170610_sentinel_ndvi.tif\n"
     ]
    },
    {
     "data": {
      "image/png": "[encoded data removed]",
      "text/plain": [
       "<matplotlib.figure.Figure at 0x2d040b8>"
      ]
     },
     "metadata": {},
     "output_type": "display_data"
    },
    {
     "name": "stdout",
     "output_type": "stream",
     "text": [
      "6090345161\tFrom\tD:\\Data\\Sentinel 2A\\2017\\T35VEP\\20170610_sentinel_ndvi.tif\n",
      "\t\tTo\tD:\\Data\\Blocks\\2017\\T35VEP\\6090345161\\20170610_sentinel_ndvi.tif\n"
     ]
    },
    {
     "data": {
      "image/png": "[encoded data removed]",
      "text/plain": [
       "<matplotlib.figure.Figure at 0x2ceaef0>"
      ]
     },
     "metadata": {},
     "output_type": "display_data"
    },
    {
     "name": "stdout",
     "output_type": "stream",
     "text": [
      "6090345969\tFrom\tD:\\Data\\Sentinel 2A\\2017\\T35VEP\\20170610_sentinel_ndvi.tif\n",
      "\t\tTo\tD:\\Data\\Blocks\\2017\\T35VEP\\6090345969\\20170610_sentinel_ndvi.tif\n"
     ]
    },
    {
     "data": {
      "image/png": "[encoded data removed]",
      "text/plain": [
       "<matplotlib.figure.Figure at 0x2c3b898>"
      ]
     },
     "metadata": {},
     "output_type": "display_data"
    },
    {
     "name": "stdout",
     "output_type": "stream",
     "text": [
      "6090346171\tFrom\tD:\\Data\\Sentinel 2A\\2017\\T35VEP\\20170610_sentinel_ndvi.tif\n",
      "\t\tTo\tD:\\Data\\Blocks\\2017\\T35VEP\\6090346171\\20170610_sentinel_ndvi.tif\n"
     ]
    },
    {
     "data": {
      "image/png": "[encoded data removed]",
      "text/plain": [
       "<matplotlib.figure.Figure at 0x2d5fb70>"
      ]
     },
     "metadata": {},
     "output_type": "display_data"
    },
    {
     "name": "stdout",
     "output_type": "stream",
     "text": [
      "6090347888\tFrom\tD:\\Data\\Sentinel 2A\\2017\\T35VEP\\20170610_sentinel_ndvi.tif\n",
      "\t\tTo\tD:\\Data\\Blocks\\2017\\T35VEP\\6090347888\\20170610_sentinel_ndvi.tif\n"
     ]
    },
    {
     "data": {
      "image/png": "[encoded data removed]",
      "text/plain": [
       "<matplotlib.figure.Figure at 0x2be5c88>"
      ]
     },
     "metadata": {},
     "output_type": "display_data"
    },
    {
     "name": "stdout",
     "output_type": "stream",
     "text": [
      "6090348292\tFrom\tD:\\Data\\Sentinel 2A\\2017\\T35VEP\\20170610_sentinel_ndvi.tif\n",
      "\t\tTo\tD:\\Data\\Blocks\\2017\\T35VEP\\6090348292\\20170610_sentinel_ndvi.tif\n"
     ]
    },
    {
     "data": {
      "image/png": "[encoded data removed]",
      "text/plain": [
       "<matplotlib.figure.Figure at 0x2bb7358>"
      ]
     },
     "metadata": {},
     "output_type": "display_data"
    },
    {
     "name": "stdout",
     "output_type": "stream",
     "text": [
      "6090672133\tFrom\tD:\\Data\\Sentinel 2A\\2017\\T35VEP\\20170610_sentinel_ndvi.tif\n",
      "\t\tTo\tD:\\Data\\Blocks\\2017\\T35VEP\\6090672133\\20170610_sentinel_ndvi.tif\n"
     ]
    },
    {
     "data": {
      "image/png": "[encoded data removed]",
      "text/plain": [
       "<matplotlib.figure.Figure at 0x9e0add8>"
      ]
     },
     "metadata": {},
     "output_type": "display_data"
    },
    {
     "name": "stdout",
     "output_type": "stream",
     "text": [
      "8860017483\tFrom\tD:\\Data\\Sentinel 2A\\2017\\T35VEP\\20170610_sentinel_ndvi.tif\n",
      "\t\tTo\tD:\\Data\\Blocks\\2017\\T35VEP\\8860017483\\20170610_sentinel_ndvi.tif\n"
     ]
    },
    {
     "data": {
      "image/png": "[encoded data removed]",
      "text/plain": [
       "<matplotlib.figure.Figure at 0xa11b240>"
      ]
     },
     "metadata": {},
     "output_type": "display_data"
    },
    {
     "name": "stdout",
     "output_type": "stream",
     "text": [
      "8860091851\tFrom\tD:\\Data\\Sentinel 2A\\2017\\T35VEP\\20170610_sentinel_ndvi.tif\n",
      "\t\tTo\tD:\\Data\\Blocks\\2017\\T35VEP\\8860091851\\20170610_sentinel_ndvi.tif\n"
     ]
    },
    {
     "data": {
      "image/png": "[encoded data removed]",
      "text/plain": [
       "<matplotlib.figure.Figure at 0x2e00160>"
      ]
     },
     "metadata": {},
     "output_type": "display_data"
    },
    {
     "name": "stdout",
     "output_type": "stream",
     "text": [
      "8860095891\tFrom\tD:\\Data\\Sentinel 2A\\2017\\T35VEP\\20170610_sentinel_ndvi.tif\n",
      "\t\tTo\tD:\\Data\\Blocks\\2017\\T35VEP\\8860095891\\20170610_sentinel_ndvi.tif\n"
     ]
    },
    {
     "data": {
      "image/png": "[encoded data removed]",
      "text/plain": [
       "<matplotlib.figure.Figure at 0xa116400>"
      ]
     },
     "metadata": {},
     "output_type": "display_data"
    },
    {
     "name": "stdout",
     "output_type": "stream",
     "text": [
      "8860095992\tFrom\tD:\\Data\\Sentinel 2A\\2017\\T35VEP\\20170610_sentinel_ndvi.tif\n",
      "\t\tTo\tD:\\Data\\Blocks\\2017\\T35VEP\\8860095992\\20170610_sentinel_ndvi.tif\n"
     ]
    },
    {
     "data": {
      "image/png": "[encoded data removed]",
      "text/plain": [
       "<matplotlib.figure.Figure at 0x2d61198>"
      ]
     },
     "metadata": {},
     "output_type": "display_data"
    },
    {
     "name": "stdout",
     "output_type": "stream",
     "text": [
      "8860195925\tFrom\tD:\\Data\\Sentinel 2A\\2017\\T35VEP\\20170610_sentinel_ndvi.tif\n",
      "\t\tTo\tD:\\Data\\Blocks\\2017\\T35VEP\\8860195925\\20170610_sentinel_ndvi.tif\n"
     ]
    },
    {
     "data": {
      "image/png": "[encoded data removed]",
      "text/plain": [
       "<matplotlib.figure.Figure at 0xa152a58>"
      ]
     },
     "metadata": {},
     "output_type": "display_data"
    },
    {
     "name": "stdout",
     "output_type": "stream",
     "text": [
      "9880016034\tError (warp): Warped image contains only NaNs\n",
      "\t\tFrom\tD:\\Data\\Sentinel 2A\\2017\\T35VEP\\20170610_sentinel_ndvi.tif\n",
      "\t\tTo\tD:\\Data\\Temp\\temp.tif\n",
      "9880016135\tError (warp): Warped image contains only NaNs\n",
      "\t\tFrom\tD:\\Data\\Sentinel 2A\\2017\\T35VEP\\20170610_sentinel_ndvi.tif\n",
      "\t\tTo\tD:\\Data\\Temp\\temp.tif\n",
      "9880167291\tError (warp): Warped image contains only NaNs\n",
      "\t\tFrom\tD:\\Data\\Sentinel 2A\\2017\\T35VEP\\20170610_sentinel_ndvi.tif\n",
      "\t\tTo\tD:\\Data\\Temp\\temp.tif\n",
      "9880217714\tFrom\tD:\\Data\\Sentinel 2A\\2017\\T35VEP\\20170610_sentinel_ndvi.tif\n",
      "\t\tTo\tD:\\Data\\Blocks\\2017\\T35VEP\\9880217714\\20170610_sentinel_ndvi.tif\n"
     ]
    },
    {
     "data": {
      "image/png": "[encoded data removed]",
      "text/plain": [
       "<matplotlib.figure.Figure at 0x2d32240>"
      ]
     },
     "metadata": {},
     "output_type": "display_data"
    },
    {
     "name": "stdout",
     "output_type": "stream",
     "text": [
      "6090006368\tFrom\tD:\\Data\\Sentinel 2A\\2017\\T35VEP\\20170623_sentinel_ndvi.tif\n",
      "\t\tTo\tD:\\Data\\Blocks\\2017\\T35VEP\\6090006368\\20170623_sentinel_ndvi.tif\n"
     ]
    },
    {
     "data": {
      "image/png": "[encoded data removed]",
      "text/plain": [
       "<matplotlib.figure.Figure at 0x2b5c860>"
      ]
     },
     "metadata": {},
     "output_type": "display_data"
    },
    {
     "name": "stdout",
     "output_type": "stream",
     "text": [
      "6090006469\tFrom\tD:\\Data\\Sentinel 2A\\2017\\T35VEP\\20170623_sentinel_ndvi.tif\n",
      "\t\tTo\tD:\\Data\\Blocks\\2017\\T35VEP\\6090006469\\20170623_sentinel_ndvi.tif\n"
     ]
    },
    {
     "data": {
      "image/png": "[encoded data removed]",
      "text/plain": [
       "<matplotlib.figure.Figure at 0x2b5e860>"
      ]
     },
     "metadata": {},
     "output_type": "display_data"
    },
    {
     "name": "stdout",
     "output_type": "stream",
     "text": [
      "6090161265\tFrom\tD:\\Data\\Sentinel 2A\\2017\\T35VEP\\20170623_sentinel_ndvi.tif\n",
      "\t\tTo\tD:\\Data\\Blocks\\2017\\T35VEP\\6090161265\\20170623_sentinel_ndvi.tif\n"
     ]
    },
    {
     "data": {
      "image/png": "[encoded data removed]",
      "text/plain": [
       "<matplotlib.figure.Figure at 0xa15d8d0>"
      ]
     },
     "metadata": {},
     "output_type": "display_data"
    },
    {
     "name": "stdout",
     "output_type": "stream",
     "text": [
      "6090161366\tFrom\tD:\\Data\\Sentinel 2A\\2017\\T35VEP\\20170623_sentinel_ndvi.tif\n",
      "\t\tTo\tD:\\Data\\Blocks\\2017\\T35VEP\\6090161366\\20170623_sentinel_ndvi.tif\n"
     ]
    },
    {
     "data": {
      "image/png": "[encoded data removed]",
      "text/plain": [
       "<matplotlib.figure.Figure at 0x2d29898>"
      ]
     },
     "metadata": {},
     "output_type": "display_data"
    },
    {
     "name": "stdout",
     "output_type": "stream",
     "text": [
      "6090205523\tFrom\tD:\\Data\\Sentinel 2A\\2017\\T35VEP\\20170623_sentinel_ndvi.tif\n",
      "\t\tTo\tD:\\Data\\Blocks\\2017\\T35VEP\\6090205523\\20170623_sentinel_ndvi.tif\n"
     ]
    },
    {
     "data": {
      "image/png": "[encoded data removed]",
      "text/plain": [
       "<matplotlib.figure.Figure at 0x2d73e80>"
      ]
     },
     "metadata": {},
     "output_type": "display_data"
    },
    {
     "name": "stdout",
     "output_type": "stream",
     "text": [
      "6090324751\tFrom\tD:\\Data\\Sentinel 2A\\2017\\T35VEP\\20170623_sentinel_ndvi.tif\n",
      "\t\tTo\tD:\\Data\\Blocks\\2017\\T35VEP\\6090324751\\20170623_sentinel_ndvi.tif\n"
     ]
    },
    {
     "data": {
      "image/png": "[encoded data removed]",
      "text/plain": [
       "<matplotlib.figure.Figure at 0x2d05358>"
      ]
     },
     "metadata": {},
     "output_type": "display_data"
    },
    {
     "name": "stdout",
     "output_type": "stream",
     "text": [
      "6090328993\tFrom\tD:\\Data\\Sentinel 2A\\2017\\T35VEP\\20170623_sentinel_ndvi.tif\n",
      "\t\tTo\tD:\\Data\\Blocks\\2017\\T35VEP\\6090328993\\20170623_sentinel_ndvi.tif\n"
     ]
    },
    {
     "data": {
      "image/png": "[encoded data removed]",
      "text/plain": [
       "<matplotlib.figure.Figure at 0xa0bfcc0>"
      ]
     },
     "metadata": {},
     "output_type": "display_data"
    },
    {
     "name": "stdout",
     "output_type": "stream",
     "text": [
      "6090340818\tFrom\tD:\\Data\\Sentinel 2A\\2017\\T35VEP\\20170623_sentinel_ndvi.tif\n",
      "\t\tTo\tD:\\Data\\Blocks\\2017\\T35VEP\\6090340818\\20170623_sentinel_ndvi.tif\n"
     ]
    },
    {
     "data": {
      "image/png": "[encoded data removed]",
      "text/plain": [
       "<matplotlib.figure.Figure at 0xa111be0>"
      ]
     },
     "metadata": {},
     "output_type": "display_data"
    },
    {
     "name": "stdout",
     "output_type": "stream",
     "text": [
      "6090342838\tFrom\tD:\\Data\\Sentinel 2A\\2017\\T35VEP\\20170623_sentinel_ndvi.tif\n",
      "\t\tTo\tD:\\Data\\Blocks\\2017\\T35VEP\\6090342838\\20170623_sentinel_ndvi.tif\n"
     ]
    },
    {
     "data": {
      "image/png": "[encoded data removed]",
      "text/plain": [
       "<matplotlib.figure.Figure at 0x2d46208>"
      ]
     },
     "metadata": {},
     "output_type": "display_data"
    },
    {
     "name": "stdout",
     "output_type": "stream",
     "text": [
      "6090345161\tFrom\tD:\\Data\\Sentinel 2A\\2017\\T35VEP\\20170623_sentinel_ndvi.tif\n",
      "\t\tTo\tD:\\Data\\Blocks\\2017\\T35VEP\\6090345161\\20170623_sentinel_ndvi.tif\n"
     ]
    },
    {
     "data": {
      "image/png": "[encoded data removed]",
      "text/plain": [
       "<matplotlib.figure.Figure at 0x2dc3550>"
      ]
     },
     "metadata": {},
     "output_type": "display_data"
    },
    {
     "name": "stdout",
     "output_type": "stream",
     "text": [
      "6090345969\tFrom\tD:\\Data\\Sentinel 2A\\2017\\T35VEP\\20170623_sentinel_ndvi.tif\n",
      "\t\tTo\tD:\\Data\\Blocks\\2017\\T35VEP\\6090345969\\20170623_sentinel_ndvi.tif\n"
     ]
    },
    {
     "data": {
      "image/png": "[encoded data removed]",
      "text/plain": [
       "<matplotlib.figure.Figure at 0x2c22e10>"
      ]
     },
     "metadata": {},
     "output_type": "display_data"
    },
    {
     "name": "stdout",
     "output_type": "stream",
     "text": [
      "6090346171\tFrom\tD:\\Data\\Sentinel 2A\\2017\\T35VEP\\20170623_sentinel_ndvi.tif\n",
      "\t\tTo\tD:\\Data\\Blocks\\2017\\T35VEP\\6090346171\\20170623_sentinel_ndvi.tif\n"
     ]
    },
    {
     "data": {
      "image/png": "[encoded data removed]",
      "text/plain": [
       "<matplotlib.figure.Figure at 0x2bb1550>"
      ]
     },
     "metadata": {},
     "output_type": "display_data"
    },
    {
     "name": "stdout",
     "output_type": "stream",
     "text": [
      "6090347888\tFrom\tD:\\Data\\Sentinel 2A\\2017\\T35VEP\\20170623_sentinel_ndvi.tif\n",
      "\t\tTo\tD:\\Data\\Blocks\\2017\\T35VEP\\6090347888\\20170623_sentinel_ndvi.tif\n"
     ]
    },
    {
     "data": {
      "image/png": "[encoded data removed]",
      "text/plain": [
       "<matplotlib.figure.Figure at 0x2d15b38>"
      ]
     },
     "metadata": {},
     "output_type": "display_data"
    },
    {
     "name": "stdout",
     "output_type": "stream",
     "text": [
      "6090348292\tFrom\tD:\\Data\\Sentinel 2A\\2017\\T35VEP\\20170623_sentinel_ndvi.tif\n",
      "\t\tTo\tD:\\Data\\Blocks\\2017\\T35VEP\\6090348292\\20170623_sentinel_ndvi.tif\n"
     ]
    },
    {
     "data": {
      "image/png": "[encoded data removed]",
      "text/plain": [
       "<matplotlib.figure.Figure at 0x2de7710>"
      ]
     },
     "metadata": {},
     "output_type": "display_data"
    },
    {
     "name": "stdout",
     "output_type": "stream",
     "text": [
      "6090672133\tFrom\tD:\\Data\\Sentinel 2A\\2017\\T35VEP\\20170623_sentinel_ndvi.tif\n",
      "\t\tTo\tD:\\Data\\Blocks\\2017\\T35VEP\\6090672133\\20170623_sentinel_ndvi.tif\n"
     ]
    },
    {
     "data": {
      "image/png": "[encoded data removed]",
      "text/plain": [
       "<matplotlib.figure.Figure at 0x2c8a390>"
      ]
     },
     "metadata": {},
     "output_type": "display_data"
    },
    {
     "name": "stdout",
     "output_type": "stream",
     "text": [
      "8860017483\tFrom\tD:\\Data\\Sentinel 2A\\2017\\T35VEP\\20170623_sentinel_ndvi.tif\n",
      "\t\tTo\tD:\\Data\\Blocks\\2017\\T35VEP\\8860017483\\20170623_sentinel_ndvi.tif\n"
     ]
    },
    {
     "data": {
      "image/png": "[encoded data removed]",
      "text/plain": [
       "<matplotlib.figure.Figure at 0x2d6bdd8>"
      ]
     },
     "metadata": {},
     "output_type": "display_data"
    },
    {
     "name": "stdout",
     "output_type": "stream",
     "text": [
      "8860091851\tFrom\tD:\\Data\\Sentinel 2A\\2017\\T35VEP\\20170623_sentinel_ndvi.tif\n",
      "\t\tTo\tD:\\Data\\Blocks\\2017\\T35VEP\\8860091851\\20170623_sentinel_ndvi.tif\n"
     ]
    },
    {
     "data": {
      "image/png": "[encoded data removed]",
      "text/plain": [
       "<matplotlib.figure.Figure at 0x2d6b1d0>"
      ]
     },
     "metadata": {},
     "output_type": "display_data"
    },
    {
     "name": "stdout",
     "output_type": "stream",
     "text": [
      "8860095891\tFrom\tD:\\Data\\Sentinel 2A\\2017\\T35VEP\\20170623_sentinel_ndvi.tif\n",
      "\t\tTo\tD:\\Data\\Blocks\\2017\\T35VEP\\8860095891\\20170623_sentinel_ndvi.tif\n"
     ]
    },
    {
     "data": {
      "image/png": "[encoded data removed]",
      "text/plain": [
       "<matplotlib.figure.Figure at 0x2e12908>"
      ]
     },
     "metadata": {},
     "output_type": "display_data"
    },
    {
     "name": "stdout",
     "output_type": "stream",
     "text": [
      "8860095992\tFrom\tD:\\Data\\Sentinel 2A\\2017\\T35VEP\\20170623_sentinel_ndvi.tif\n",
      "\t\tTo\tD:\\Data\\Blocks\\2017\\T35VEP\\8860095992\\20170623_sentinel_ndvi.tif\n"
     ]
    },
    {
     "data": {
      "image/png": "[encoded data removed]",
      "text/plain": [
       "<matplotlib.figure.Figure at 0x2dd3be0>"
      ]
     },
     "metadata": {},
     "output_type": "display_data"
    },
    {
     "name": "stdout",
     "output_type": "stream",
     "text": [
      "8860195925\tError (warp): Warped image contains only NaNs\n",
      "\t\tFrom\tD:\\Data\\Sentinel 2A\\2017\\T35VEP\\20170623_sentinel_ndvi.tif\n",
      "\t\tTo\tD:\\Data\\Temp\\temp.tif\n",
      "9880016034\tFrom\tD:\\Data\\Sentinel 2A\\2017\\T35VEP\\20170623_sentinel_ndvi.tif\n",
      "\t\tTo\tD:\\Data\\Blocks\\2017\\T35VEP\\9880016034\\20170623_sentinel_ndvi.tif\n"
     ]
    },
    {
     "data": {
      "image/png": "[encoded data removed]",
      "text/plain": [
       "<matplotlib.figure.Figure at 0x2d0f9b0>"
      ]
     },
     "metadata": {},
     "output_type": "display_data"
    },
    {
     "name": "stdout",
     "output_type": "stream",
     "text": [
      "9880016135\tFrom\tD:\\Data\\Sentinel 2A\\2017\\T35VEP\\20170623_sentinel_ndvi.tif\n",
      "\t\tTo\tD:\\Data\\Blocks\\2017\\T35VEP\\9880016135\\20170623_sentinel_ndvi.tif\n"
     ]
    },
    {
     "data": {
      "image/png": "[encoded data removed]",
      "text/plain": [
       "<matplotlib.figure.Figure at 0x2d5f4e0>"
      ]
     },
     "metadata": {},
     "output_type": "display_data"
    },
    {
     "name": "stdout",
     "output_type": "stream",
     "text": [
      "9880167291\tFrom\tD:\\Data\\Sentinel 2A\\2017\\T35VEP\\20170623_sentinel_ndvi.tif\n",
      "\t\tTo\tD:\\Data\\Blocks\\2017\\T35VEP\\9880167291\\20170623_sentinel_ndvi.tif\n"
     ]
    },
    {
     "data": {
      "image/png": "[encoded data removed]",
      "text/plain": [
       "<matplotlib.figure.Figure at 0x2c8cda0>"
      ]
     },
     "metadata": {},
     "output_type": "display_data"
    },
    {
     "name": "stdout",
     "output_type": "stream",
     "text": [
      "9880217714\tFrom\tD:\\Data\\Sentinel 2A\\2017\\T35VEP\\20170623_sentinel_ndvi.tif\n",
      "\t\tTo\tD:\\Data\\Blocks\\2017\\T35VEP\\9880217714\\20170623_sentinel_ndvi.tif\n"
     ]
    },
    {
     "data": {
      "image/png": "[encoded data removed]",
      "text/plain": [
       "<matplotlib.figure.Figure at 0xa15a198>"
      ]
     },
     "metadata": {},
     "output_type": "display_data"
    },
    {
     "name": "stdout",
     "output_type": "stream",
     "text": [
      "6090006368\tFrom\tD:\\Data\\Sentinel 2A\\2017\\T35VEP\\20170630_sentinel_ndvi.tif\n",
      "\t\tTo\tD:\\Data\\Blocks\\2017\\T35VEP\\6090006368\\20170630_sentinel_ndvi.tif\n"
     ]
    },
    {
     "data": {
      "image/png": "[encoded data removed]",
      "text/plain": [
       "<matplotlib.figure.Figure at 0xa15f550>"
      ]
     },
     "metadata": {},
     "output_type": "display_data"
    },
    {
     "name": "stdout",
     "output_type": "stream",
     "text": [
      "6090006469\tFrom\tD:\\Data\\Sentinel 2A\\2017\\T35VEP\\20170630_sentinel_ndvi.tif\n",
      "\t\tTo\tD:\\Data\\Blocks\\2017\\T35VEP\\6090006469\\20170630_sentinel_ndvi.tif\n"
     ]
    },
    {
     "data": {
      "image/png": "[encoded data removed]",
      "text/plain": [
       "<matplotlib.figure.Figure at 0x2d556a0>"
      ]
     },
     "metadata": {},
     "output_type": "display_data"
    },
    {
     "name": "stdout",
     "output_type": "stream",
     "text": [
      "6090161265\tFrom\tD:\\Data\\Sentinel 2A\\2017\\T35VEP\\20170630_sentinel_ndvi.tif\n",
      "\t\tTo\tD:\\Data\\Blocks\\2017\\T35VEP\\6090161265\\20170630_sentinel_ndvi.tif\n"
     ]
    },
    {
     "data": {
      "image/png": "[encoded data removed]",
      "text/plain": [
       "<matplotlib.figure.Figure at 0x2e3ba20>"
      ]
     },
     "metadata": {},
     "output_type": "display_data"
    },
    {
     "name": "stdout",
     "output_type": "stream",
     "text": [
      "6090161366\tError (warp): Warped image contains only NaNs\n",
      "\t\tFrom\tD:\\Data\\Sentinel 2A\\2017\\T35VEP\\20170630_sentinel_ndvi.tif\n",
      "\t\tTo\tD:\\Data\\Temp\\temp.tif\n",
      "6090205523\tFrom\tD:\\Data\\Sentinel 2A\\2017\\T35VEP\\20170630_sentinel_ndvi.tif\n",
      "\t\tTo\tD:\\Data\\Blocks\\2017\\T35VEP\\6090205523\\20170630_sentinel_ndvi.tif\n"
     ]
    },
    {
     "data": {
      "image/png": "[encoded data removed]",
      "text/plain": [
       "<matplotlib.figure.Figure at 0x2e28eb8>"
      ]
     },
     "metadata": {},
     "output_type": "display_data"
    },
    {
     "name": "stdout",
     "output_type": "stream",
     "text": [
      "6090324751\tFrom\tD:\\Data\\Sentinel 2A\\2017\\T35VEP\\20170630_sentinel_ndvi.tif\n",
      "\t\tTo\tD:\\Data\\Blocks\\2017\\T35VEP\\6090324751\\20170630_sentinel_ndvi.tif\n"
     ]
    },
    {
     "data": {
      "image/png": "[encoded data removed]",
      "text/plain": [
       "<matplotlib.figure.Figure at 0x2c255c0>"
      ]
     },
     "metadata": {},
     "output_type": "display_data"
    },
    {
     "name": "stdout",
     "output_type": "stream",
     "text": [
      "6090328993\tFrom\tD:\\Data\\Sentinel 2A\\2017\\T35VEP\\20170630_sentinel_ndvi.tif\n",
      "\t\tTo\tD:\\Data\\Blocks\\2017\\T35VEP\\6090328993\\20170630_sentinel_ndvi.tif\n"
     ]
    },
    {
     "data": {
      "image/png": "[encoded data removed]",
      "text/plain": [
       "<matplotlib.figure.Figure at 0x2da7dd8>"
      ]
     },
     "metadata": {},
     "output_type": "display_data"
    },
    {
     "name": "stdout",
     "output_type": "stream",
     "text": [
      "6090340818\tFrom\tD:\\Data\\Sentinel 2A\\2017\\T35VEP\\20170630_sentinel_ndvi.tif\n",
      "\t\tTo\tD:\\Data\\Blocks\\2017\\T35VEP\\6090340818\\20170630_sentinel_ndvi.tif\n"
     ]
    },
    {
     "data": {
      "image/png": "[encoded data removed]",
      "text/plain": [
       "<matplotlib.figure.Figure at 0x2d732e8>"
      ]
     },
     "metadata": {},
     "output_type": "display_data"
    },
    {
     "name": "stdout",
     "output_type": "stream",
     "text": [
      "6090342838\tError (warp): Warped image contains only NaNs\n",
      "\t\tFrom\tD:\\Data\\Sentinel 2A\\2017\\T35VEP\\20170630_sentinel_ndvi.tif\n",
      "\t\tTo\tD:\\Data\\Temp\\temp.tif\n",
      "6090345161\tFrom\tD:\\Data\\Sentinel 2A\\2017\\T35VEP\\20170630_sentinel_ndvi.tif\n",
      "\t\tTo\tD:\\Data\\Blocks\\2017\\T35VEP\\6090345161\\20170630_sentinel_ndvi.tif\n"
     ]
    },
    {
     "data": {
      "image/png": "[encoded data removed]",
      "text/plain": [
       "<matplotlib.figure.Figure at 0x2c95208>"
      ]
     },
     "metadata": {},
     "output_type": "display_data"
    },
    {
     "name": "stdout",
     "output_type": "stream",
     "text": [
      "6090345969\tFrom\tD:\\Data\\Sentinel 2A\\2017\\T35VEP\\20170630_sentinel_ndvi.tif\n",
      "\t\tTo\tD:\\Data\\Blocks\\2017\\T35VEP\\6090345969\\20170630_sentinel_ndvi.tif\n"
     ]
    },
    {
     "data": {
      "image/png": "[encoded data removed]",
      "text/plain": [
       "<matplotlib.figure.Figure at 0x2df3048>"
      ]
     },
     "metadata": {},
     "output_type": "display_data"
    },
    {
     "name": "stdout",
     "output_type": "stream",
     "text": [
      "6090346171\tFrom\tD:\\Data\\Sentinel 2A\\2017\\T35VEP\\20170630_sentinel_ndvi.tif\n",
      "\t\tTo\tD:\\Data\\Blocks\\2017\\T35VEP\\6090346171\\20170630_sentinel_ndvi.tif\n"
     ]
    },
    {
     "data": {
      "image/png": "[encoded data removed]",
      "text/plain": [
       "<matplotlib.figure.Figure at 0x2e0ae10>"
      ]
     },
     "metadata": {},
     "output_type": "display_data"
    },
    {
     "name": "stdout",
     "output_type": "stream",
     "text": [
      "6090347888\tFrom\tD:\\Data\\Sentinel 2A\\2017\\T35VEP\\20170630_sentinel_ndvi.tif\n",
      "\t\tTo\tD:\\Data\\Blocks\\2017\\T35VEP\\6090347888\\20170630_sentinel_ndvi.tif\n"
     ]
    },
    {
     "data": {
      "image/png": "[encoded data removed]",
      "text/plain": [
       "<matplotlib.figure.Figure at 0x2c33198>"
      ]
     },
     "metadata": {},
     "output_type": "display_data"
    },
    {
     "name": "stdout",
     "output_type": "stream",
     "text": [
      "6090348292\tFrom\tD:\\Data\\Sentinel 2A\\2017\\T35VEP\\20170630_sentinel_ndvi.tif\n",
      "\t\tTo\tD:\\Data\\Blocks\\2017\\T35VEP\\6090348292\\20170630_sentinel_ndvi.tif\n"
     ]
    },
    {
     "data": {
      "image/png": "[encoded data removed]",
      "text/plain": [
       "<matplotlib.figure.Figure at 0x2bec5c0>"
      ]
     },
     "metadata": {},
     "output_type": "display_data"
    },
    {
     "name": "stdout",
     "output_type": "stream",
     "text": [
      "6090672133\tFrom\tD:\\Data\\Sentinel 2A\\2017\\T35VEP\\20170630_sentinel_ndvi.tif\n",
      "\t\tTo\tD:\\Data\\Blocks\\2017\\T35VEP\\6090672133\\20170630_sentinel_ndvi.tif\n"
     ]
    },
    {
     "data": {
      "image/png": "[encoded data removed]",
      "text/plain": [
       "<matplotlib.figure.Figure at 0x9e65ef0>"
      ]
     },
     "metadata": {},
     "output_type": "display_data"
    },
    {
     "name": "stdout",
     "output_type": "stream",
     "text": [
      "8860017483\tFrom\tD:\\Data\\Sentinel 2A\\2017\\T35VEP\\20170630_sentinel_ndvi.tif\n",
      "\t\tTo\tD:\\Data\\Blocks\\2017\\T35VEP\\8860017483\\20170630_sentinel_ndvi.tif\n"
     ]
    },
    {
     "data": {
      "image/png": "[encoded data removed]",
      "text/plain": [
       "<matplotlib.figure.Figure at 0xa11f080>"
      ]
     },
     "metadata": {},
     "output_type": "display_data"
    },
    {
     "name": "stdout",
     "output_type": "stream",
     "text": [
      "8860091851\tFrom\tD:\\Data\\Sentinel 2A\\2017\\T35VEP\\20170630_sentinel_ndvi.tif\n",
      "\t\tTo\tD:\\Data\\Blocks\\2017\\T35VEP\\8860091851\\20170630_sentinel_ndvi.tif\n"
     ]
    },
    {
     "data": {
      "image/png": "[encoded data removed]",
      "text/plain": [
       "<matplotlib.figure.Figure at 0xa138128>"
      ]
     },
     "metadata": {},
     "output_type": "display_data"
    },
    {
     "name": "stdout",
     "output_type": "stream",
     "text": [
      "8860095891\tError (warp): Warped image contains only NaNs\n",
      "\t\tFrom\tD:\\Data\\Sentinel 2A\\2017\\T35VEP\\20170630_sentinel_ndvi.tif\n",
      "\t\tTo\tD:\\Data\\Temp\\temp.tif\n",
      "8860095992\tError (warp): Warped image contains only NaNs\n",
      "\t\tFrom\tD:\\Data\\Sentinel 2A\\2017\\T35VEP\\20170630_sentinel_ndvi.tif\n",
      "\t\tTo\tD:\\Data\\Temp\\temp.tif\n",
      "8860195925\tFrom\tD:\\Data\\Sentinel 2A\\2017\\T35VEP\\20170630_sentinel_ndvi.tif\n",
      "\t\tTo\tD:\\Data\\Blocks\\2017\\T35VEP\\8860195925\\20170630_sentinel_ndvi.tif\n"
     ]
    },
    {
     "data": {
      "image/png": "[encoded data removed]",
      "text/plain": [
       "<matplotlib.figure.Figure at 0xa094da0>"
      ]
     },
     "metadata": {},
     "output_type": "display_data"
    },
    {
     "name": "stdout",
     "output_type": "stream",
     "text": [
      "9880016034\tFrom\tD:\\Data\\Sentinel 2A\\2017\\T35VEP\\20170630_sentinel_ndvi.tif\n",
      "\t\tTo\tD:\\Data\\Blocks\\2017\\T35VEP\\9880016034\\20170630_sentinel_ndvi.tif\n"
     ]
    },
    {
     "data": {
      "image/png": "[encoded data removed]",
      "text/plain": [
       "<matplotlib.figure.Figure at 0x2de4710>"
      ]
     },
     "metadata": {},
     "output_type": "display_data"
    },
    {
     "name": "stdout",
     "output_type": "stream",
     "text": [
      "9880016135\tFrom\tD:\\Data\\Sentinel 2A\\2017\\T35VEP\\20170630_sentinel_ndvi.tif\n",
      "\t\tTo\tD:\\Data\\Blocks\\2017\\T35VEP\\9880016135\\20170630_sentinel_ndvi.tif\n"
     ]
    },
    {
     "data": {
      "image/png": "[encoded data removed]",
      "text/plain": [
       "<matplotlib.figure.Figure at 0x2be1390>"
      ]
     },
     "metadata": {},
     "output_type": "display_data"
    },
    {
     "name": "stdout",
     "output_type": "stream",
     "text": [
      "9880167291\tFrom\tD:\\Data\\Sentinel 2A\\2017\\T35VEP\\20170630_sentinel_ndvi.tif\n",
      "\t\tTo\tD:\\Data\\Blocks\\2017\\T35VEP\\9880167291\\20170630_sentinel_ndvi.tif\n"
     ]
    },
    {
     "data": {
      "image/png": "[encoded data removed]",
      "text/plain": [
       "<matplotlib.figure.Figure at 0xa11dc50>"
      ]
     },
     "metadata": {},
     "output_type": "display_data"
    },
    {
     "name": "stdout",
     "output_type": "stream",
     "text": [
      "9880217714\tFrom\tD:\\Data\\Sentinel 2A\\2017\\T35VEP\\20170630_sentinel_ndvi.tif\n",
      "\t\tTo\tD:\\Data\\Blocks\\2017\\T35VEP\\9880217714\\20170630_sentinel_ndvi.tif\n"
     ]
    },
    {
     "data": {
      "image/png": "[encoded data removed]",
      "text/plain": [
       "<matplotlib.figure.Figure at 0x2cbf0f0>"
      ]
     },
     "metadata": {},
     "output_type": "display_data"
    },
    {
     "name": "stdout",
     "output_type": "stream",
     "text": [
      "6090006368\tError (warp): Warped image contains only NaNs\n",
      "\t\tFrom\tD:\\Data\\Sentinel 2A\\2017\\T35VEP\\20170720_sentinel_ndvi.tif\n",
      "\t\tTo\tD:\\Data\\Temp\\temp.tif\n",
      "6090006469\tError (warp): Warped image contains only NaNs\n",
      "\t\tFrom\tD:\\Data\\Sentinel 2A\\2017\\T35VEP\\20170720_sentinel_ndvi.tif\n",
      "\t\tTo\tD:\\Data\\Temp\\temp.tif\n",
      "6090161265\tFrom\tD:\\Data\\Sentinel 2A\\2017\\T35VEP\\20170720_sentinel_ndvi.tif\n",
      "\t\tTo\tD:\\Data\\Blocks\\2017\\T35VEP\\6090161265\\20170720_sentinel_ndvi.tif\n"
     ]
    },
    {
     "data": {
      "image/png": "[encoded data removed]",
      "text/plain": [
       "<matplotlib.figure.Figure at 0x2cb3dd8>"
      ]
     },
     "metadata": {},
     "output_type": "display_data"
    },
    {
     "name": "stdout",
     "output_type": "stream",
     "text": [
      "6090161366\tFrom\tD:\\Data\\Sentinel 2A\\2017\\T35VEP\\20170720_sentinel_ndvi.tif\n",
      "\t\tTo\tD:\\Data\\Blocks\\2017\\T35VEP\\6090161366\\20170720_sentinel_ndvi.tif\n"
     ]
    },
    {
     "data": {
      "image/png": "[encoded data removed]",
      "text/plain": [
       "<matplotlib.figure.Figure at 0xa142cf8>"
      ]
     },
     "metadata": {},
     "output_type": "display_data"
    },
    {
     "name": "stdout",
     "output_type": "stream",
     "text": [
      "6090205523\tError (warp): Warped image contains only NaNs\n",
      "\t\tFrom\tD:\\Data\\Sentinel 2A\\2017\\T35VEP\\20170720_sentinel_ndvi.tif\n",
      "\t\tTo\tD:\\Data\\Temp\\temp.tif\n",
      "6090324751\tError (warp): Warped image contains only NaNs\n",
      "\t\tFrom\tD:\\Data\\Sentinel 2A\\2017\\T35VEP\\20170720_sentinel_ndvi.tif\n",
      "\t\tTo\tD:\\Data\\Temp\\temp.tif\n",
      "6090328993\tError (warp): Warped image contains only NaNs\n",
      "\t\tFrom\tD:\\Data\\Sentinel 2A\\2017\\T35VEP\\20170720_sentinel_ndvi.tif\n",
      "\t\tTo\tD:\\Data\\Temp\\temp.tif\n",
      "6090340818\tFrom\tD:\\Data\\Sentinel 2A\\2017\\T35VEP\\20170720_sentinel_ndvi.tif\n",
      "\t\tTo\tD:\\Data\\Blocks\\2017\\T35VEP\\6090340818\\20170720_sentinel_ndvi.tif\n"
     ]
    },
    {
     "data": {
      "image/png": "[encoded data removed]",
      "text/plain": [
       "<matplotlib.figure.Figure at 0x2b79e80>"
      ]
     },
     "metadata": {},
     "output_type": "display_data"
    },
    {
     "name": "stdout",
     "output_type": "stream",
     "text": [
      "6090342838\tFrom\tD:\\Data\\Sentinel 2A\\2017\\T35VEP\\20170720_sentinel_ndvi.tif\n",
      "\t\tTo\tD:\\Data\\Blocks\\2017\\T35VEP\\6090342838\\20170720_sentinel_ndvi.tif\n"
     ]
    },
    {
     "data": {
      "image/png": "[encoded data removed]",
      "text/plain": [
       "<matplotlib.figure.Figure at 0x2b59630>"
      ]
     },
     "metadata": {},
     "output_type": "display_data"
    },
    {
     "name": "stdout",
     "output_type": "stream",
     "text": [
      "6090345161\tFrom\tD:\\Data\\Sentinel 2A\\2017\\T35VEP\\20170720_sentinel_ndvi.tif\n",
      "\t\tTo\tD:\\Data\\Blocks\\2017\\T35VEP\\6090345161\\20170720_sentinel_ndvi.tif\n"
     ]
    },
    {
     "data": {
      "image/png": "[encoded data removed]",
      "text/plain": [
       "<matplotlib.figure.Figure at 0x2dabb70>"
      ]
     },
     "metadata": {},
     "output_type": "display_data"
    },
    {
     "name": "stdout",
     "output_type": "stream",
     "text": [
      "6090345969\tFrom\tD:\\Data\\Sentinel 2A\\2017\\T35VEP\\20170720_sentinel_ndvi.tif\n",
      "\t\tTo\tD:\\Data\\Blocks\\2017\\T35VEP\\6090345969\\20170720_sentinel_ndvi.tif\n"
     ]
    },
    {
     "data": {
      "image/png": "[encoded data removed]",
      "text/plain": [
       "<matplotlib.figure.Figure at 0x2bfb710>"
      ]
     },
     "metadata": {},
     "output_type": "display_data"
    },
    {
     "name": "stdout",
     "output_type": "stream",
     "text": [
      "6090346171\tFrom\tD:\\Data\\Sentinel 2A\\2017\\T35VEP\\20170720_sentinel_ndvi.tif\n",
      "\t\tTo\tD:\\Data\\Blocks\\2017\\T35VEP\\6090346171\\20170720_sentinel_ndvi.tif\n"
     ]
    },
    {
     "data": {
      "image/png": "[encoded data removed]",
      "text/plain": [
       "<matplotlib.figure.Figure at 0xa1106d8>"
      ]
     },
     "metadata": {},
     "output_type": "display_data"
    },
    {
     "name": "stdout",
     "output_type": "stream",
     "text": [
      "6090347888\tFrom\tD:\\Data\\Sentinel 2A\\2017\\T35VEP\\20170720_sentinel_ndvi.tif\n",
      "\t\tTo\tD:\\Data\\Blocks\\2017\\T35VEP\\6090347888\\20170720_sentinel_ndvi.tif\n"
     ]
    },
    {
     "data": {
      "image/png": "[encoded data removed]",
      "text/plain": [
       "<matplotlib.figure.Figure at 0x2bec048>"
      ]
     },
     "metadata": {},
     "output_type": "display_data"
    },
    {
     "name": "stdout",
     "output_type": "stream",
     "text": [
      "6090348292\tFrom\tD:\\Data\\Sentinel 2A\\2017\\T35VEP\\20170720_sentinel_ndvi.tif\n",
      "\t\tTo\tD:\\Data\\Blocks\\2017\\T35VEP\\6090348292\\20170720_sentinel_ndvi.tif\n"
     ]
    },
    {
     "data": {
      "image/png": "[encoded data removed]",
      "text/plain": [
       "<matplotlib.figure.Figure at 0x2b5eba8>"
      ]
     },
     "metadata": {},
     "output_type": "display_data"
    },
    {
     "name": "stdout",
     "output_type": "stream",
     "text": [
      "6090672133\tFrom\tD:\\Data\\Sentinel 2A\\2017\\T35VEP\\20170720_sentinel_ndvi.tif\n",
      "\t\tTo\tD:\\Data\\Blocks\\2017\\T35VEP\\6090672133\\20170720_sentinel_ndvi.tif\n"
     ]
    },
    {
     "data": {
      "image/png": "[encoded data removed]",
      "text/plain": [
       "<matplotlib.figure.Figure at 0x2dc3c88>"
      ]
     },
     "metadata": {},
     "output_type": "display_data"
    },
    {
     "name": "stdout",
     "output_type": "stream",
     "text": [
      "8860017483\tFrom\tD:\\Data\\Sentinel 2A\\2017\\T35VEP\\20170720_sentinel_ndvi.tif\n",
      "\t\tTo\tD:\\Data\\Blocks\\2017\\T35VEP\\8860017483\\20170720_sentinel_ndvi.tif\n"
     ]
    },
    {
     "data": {
      "image/png": "[encoded data removed]",
      "text/plain": [
       "<matplotlib.figure.Figure at 0x2c014a8>"
      ]
     },
     "metadata": {},
     "output_type": "display_data"
    },
    {
     "name": "stdout",
     "output_type": "stream",
     "text": [
      "8860091851\tFrom\tD:\\Data\\Sentinel 2A\\2017\\T35VEP\\20170720_sentinel_ndvi.tif\n",
      "\t\tTo\tD:\\Data\\Blocks\\2017\\T35VEP\\8860091851\\20170720_sentinel_ndvi.tif\n"
     ]
    },
    {
     "data": {
      "image/png": "[encoded data removed]",
      "text/plain": [
       "<matplotlib.figure.Figure at 0x2cb14e0>"
      ]
     },
     "metadata": {},
     "output_type": "display_data"
    },
    {
     "name": "stdout",
     "output_type": "stream",
     "text": [
      "8860095891\tFrom\tD:\\Data\\Sentinel 2A\\2017\\T35VEP\\20170720_sentinel_ndvi.tif\n",
      "\t\tTo\tD:\\Data\\Blocks\\2017\\T35VEP\\8860095891\\20170720_sentinel_ndvi.tif\n"
     ]
    },
    {
     "data": {
      "image/png": "[encoded data removed]",
      "text/plain": [
       "<matplotlib.figure.Figure at 0x2e23860>"
      ]
     },
     "metadata": {},
     "output_type": "display_data"
    },
    {
     "name": "stdout",
     "output_type": "stream",
     "text": [
      "8860095992\tFrom\tD:\\Data\\Sentinel 2A\\2017\\T35VEP\\20170720_sentinel_ndvi.tif\n",
      "\t\tTo\tD:\\Data\\Blocks\\2017\\T35VEP\\8860095992\\20170720_sentinel_ndvi.tif\n"
     ]
    },
    {
     "data": {
      "image/png": "[encoded data removed]",
      "text/plain": [
       "<matplotlib.figure.Figure at 0x2e25748>"
      ]
     },
     "metadata": {},
     "output_type": "display_data"
    },
    {
     "name": "stdout",
     "output_type": "stream",
     "text": [
      "8860195925\tFrom\tD:\\Data\\Sentinel 2A\\2017\\T35VEP\\20170720_sentinel_ndvi.tif\n",
      "\t\tTo\tD:\\Data\\Blocks\\2017\\T35VEP\\8860195925\\20170720_sentinel_ndvi.tif\n"
     ]
    },
    {
     "data": {
      "image/png": "[encoded data removed]",
      "text/plain": [
       "<matplotlib.figure.Figure at 0x2bd4f98>"
      ]
     },
     "metadata": {},
     "output_type": "display_data"
    },
    {
     "name": "stdout",
     "output_type": "stream",
     "text": [
      "9880016034\tError (warp): Warped image contains only NaNs\n",
      "\t\tFrom\tD:\\Data\\Sentinel 2A\\2017\\T35VEP\\20170720_sentinel_ndvi.tif\n",
      "\t\tTo\tD:\\Data\\Temp\\temp.tif\n",
      "9880016135\tError (warp): Warped image contains only NaNs\n",
      "\t\tFrom\tD:\\Data\\Sentinel 2A\\2017\\T35VEP\\20170720_sentinel_ndvi.tif\n",
      "\t\tTo\tD:\\Data\\Temp\\temp.tif\n",
      "9880167291\tError (warp): Warped image contains only NaNs\n",
      "\t\tFrom\tD:\\Data\\Sentinel 2A\\2017\\T35VEP\\20170720_sentinel_ndvi.tif\n",
      "\t\tTo\tD:\\Data\\Temp\\temp.tif\n",
      "9880217714\tError (warp): Warped image contains only NaNs\n",
      "\t\tFrom\tD:\\Data\\Sentinel 2A\\2017\\T35VEP\\20170720_sentinel_ndvi.tif\n",
      "\t\tTo\tD:\\Data\\Temp\\temp.tif\n",
      "6090006368\tError (warp): Warped image contains only NaNs\n",
      "\t\tFrom\tD:\\Data\\Sentinel 2A\\2017\\T35VEP\\20170723_sentinel_ndvi.tif\n",
      "\t\tTo\tD:\\Data\\Temp\\temp.tif\n",
      "6090006469\tFrom\tD:\\Data\\Sentinel 2A\\2017\\T35VEP\\20170723_sentinel_ndvi.tif\n",
      "\t\tTo\tD:\\Data\\Blocks\\2017\\T35VEP\\6090006469\\20170723_sentinel_ndvi.tif\n"
     ]
    },
    {
     "data": {
      "image/png": "[encoded data removed]",
      "text/plain": [
       "<matplotlib.figure.Figure at 0x2b53d68>"
      ]
     },
     "metadata": {},
     "output_type": "display_data"
    },
    {
     "name": "stdout",
     "output_type": "stream",
     "text": [
      "6090161265\tFrom\tD:\\Data\\Sentinel 2A\\2017\\T35VEP\\20170723_sentinel_ndvi.tif\n",
      "\t\tTo\tD:\\Data\\Blocks\\2017\\T35VEP\\6090161265\\20170723_sentinel_ndvi.tif\n"
     ]
    },
    {
     "data": {
      "image/png": "[encoded data removed]",
      "text/plain": [
       "<matplotlib.figure.Figure at 0x2ca1940>"
      ]
     },
     "metadata": {},
     "output_type": "display_data"
    },
    {
     "name": "stdout",
     "output_type": "stream",
     "text": [
      "6090161366\tFrom\tD:\\Data\\Sentinel 2A\\2017\\T35VEP\\20170723_sentinel_ndvi.tif\n",
      "\t\tTo\tD:\\Data\\Blocks\\2017\\T35VEP\\6090161366\\20170723_sentinel_ndvi.tif\n"
     ]
    },
    {
     "data": {
      "image/png": "[encoded data removed]",
      "text/plain": [
       "<matplotlib.figure.Figure at 0x2d0a860>"
      ]
     },
     "metadata": {},
     "output_type": "display_data"
    },
    {
     "name": "stdout",
     "output_type": "stream",
     "text": [
      "6090205523\tFrom\tD:\\Data\\Sentinel 2A\\2017\\T35VEP\\20170723_sentinel_ndvi.tif\n",
      "\t\tTo\tD:\\Data\\Blocks\\2017\\T35VEP\\6090205523\\20170723_sentinel_ndvi.tif\n"
     ]
    },
    {
     "data": {
      "image/png": "[encoded data removed]",
      "text/plain": [
       "<matplotlib.figure.Figure at 0x2c382e8>"
      ]
     },
     "metadata": {},
     "output_type": "display_data"
    },
    {
     "name": "stdout",
     "output_type": "stream",
     "text": [
      "6090324751\tFrom\tD:\\Data\\Sentinel 2A\\2017\\T35VEP\\20170723_sentinel_ndvi.tif\n",
      "\t\tTo\tD:\\Data\\Blocks\\2017\\T35VEP\\6090324751\\20170723_sentinel_ndvi.tif\n"
     ]
    },
    {
     "data": {
      "image/png": "[encoded data removed]",
      "text/plain": [
       "<matplotlib.figure.Figure at 0x2cda128>"
      ]
     },
     "metadata": {},
     "output_type": "display_data"
    },
    {
     "name": "stdout",
     "output_type": "stream",
     "text": [
      "6090328993\tFrom\tD:\\Data\\Sentinel 2A\\2017\\T35VEP\\20170723_sentinel_ndvi.tif\n",
      "\t\tTo\tD:\\Data\\Blocks\\2017\\T35VEP\\6090328993\\20170723_sentinel_ndvi.tif\n"
     ]
    },
    {
     "data": {
      "image/png": "[encoded data removed]",
      "text/plain": [
       "<matplotlib.figure.Figure at 0x2b79898>"
      ]
     },
     "metadata": {},
     "output_type": "display_data"
    },
    {
     "name": "stdout",
     "output_type": "stream",
     "text": [
      "6090340818\tFrom\tD:\\Data\\Sentinel 2A\\2017\\T35VEP\\20170723_sentinel_ndvi.tif\n",
      "\t\tTo\tD:\\Data\\Blocks\\2017\\T35VEP\\6090340818\\20170723_sentinel_ndvi.tif\n"
     ]
    },
    {
     "data": {
      "image/png": "[encoded data removed]",
      "text/plain": [
       "<matplotlib.figure.Figure at 0x2d2e048>"
      ]
     },
     "metadata": {},
     "output_type": "display_data"
    },
    {
     "name": "stdout",
     "output_type": "stream",
     "text": [
      "6090342838\tFrom\tD:\\Data\\Sentinel 2A\\2017\\T35VEP\\20170723_sentinel_ndvi.tif\n",
      "\t\tTo\tD:\\Data\\Blocks\\2017\\T35VEP\\6090342838\\20170723_sentinel_ndvi.tif\n"
     ]
    },
    {
     "data": {
      "image/png": "[encoded data removed]",
      "text/plain": [
       "<matplotlib.figure.Figure at 0x2b63ef0>"
      ]
     },
     "metadata": {},
     "output_type": "display_data"
    },
    {
     "name": "stdout",
     "output_type": "stream",
     "text": [
      "6090345161\tFrom\tD:\\Data\\Sentinel 2A\\2017\\T35VEP\\20170723_sentinel_ndvi.tif\n",
      "\t\tTo\tD:\\Data\\Blocks\\2017\\T35VEP\\6090345161\\20170723_sentinel_ndvi.tif\n"
     ]
    },
    {
     "data": {
      "image/png": "[encoded data removed]",
      "text/plain": [
       "<matplotlib.figure.Figure at 0x2d96198>"
      ]
     },
     "metadata": {},
     "output_type": "display_data"
    },
    {
     "name": "stdout",
     "output_type": "stream",
     "text": [
      "6090345969\tFrom\tD:\\Data\\Sentinel 2A\\2017\\T35VEP\\20170723_sentinel_ndvi.tif\n",
      "\t\tTo\tD:\\Data\\Blocks\\2017\\T35VEP\\6090345969\\20170723_sentinel_ndvi.tif\n"
     ]
    },
    {
     "data": {
      "image/png": "[encoded data removed]",
      "text/plain": [
       "<matplotlib.figure.Figure at 0x2db40f0>"
      ]
     },
     "metadata": {},
     "output_type": "display_data"
    },
    {
     "name": "stdout",
     "output_type": "stream",
     "text": [
      "6090346171\tFrom\tD:\\Data\\Sentinel 2A\\2017\\T35VEP\\20170723_sentinel_ndvi.tif\n",
      "\t\tTo\tD:\\Data\\Blocks\\2017\\T35VEP\\6090346171\\20170723_sentinel_ndvi.tif\n"
     ]
    },
    {
     "data": {
      "image/png": "[encoded data removed]",
      "text/plain": [
       "<matplotlib.figure.Figure at 0x2c44978>"
      ]
     },
     "metadata": {},
     "output_type": "display_data"
    },
    {
     "name": "stdout",
     "output_type": "stream",
     "text": [
      "6090347888\tFrom\tD:\\Data\\Sentinel 2A\\2017\\T35VEP\\20170723_sentinel_ndvi.tif\n",
      "\t\tTo\tD:\\Data\\Blocks\\2017\\T35VEP\\6090347888\\20170723_sentinel_ndvi.tif\n"
     ]
    },
    {
     "data": {
      "image/png": "[encoded data removed]",
      "text/plain": [
       "<matplotlib.figure.Figure at 0x2c2c9e8>"
      ]
     },
     "metadata": {},
     "output_type": "display_data"
    },
    {
     "name": "stdout",
     "output_type": "stream",
     "text": [
      "6090348292\tFrom\tD:\\Data\\Sentinel 2A\\2017\\T35VEP\\20170723_sentinel_ndvi.tif\n",
      "\t\tTo\tD:\\Data\\Blocks\\2017\\T35VEP\\6090348292\\20170723_sentinel_ndvi.tif\n"
     ]
    },
    {
     "data": {
      "image/png": "[encoded data removed]",
      "text/plain": [
       "<matplotlib.figure.Figure at 0x2ca1c50>"
      ]
     },
     "metadata": {},
     "output_type": "display_data"
    },
    {
     "name": "stdout",
     "output_type": "stream",
     "text": [
      "6090672133\tFrom\tD:\\Data\\Sentinel 2A\\2017\\T35VEP\\20170723_sentinel_ndvi.tif\n",
      "\t\tTo\tD:\\Data\\Blocks\\2017\\T35VEP\\6090672133\\20170723_sentinel_ndvi.tif\n"
     ]
    },
    {
     "data": {
      "image/png": "[encoded data removed]",
      "text/plain": [
       "<matplotlib.figure.Figure at 0x2c6ff98>"
      ]
     },
     "metadata": {},
     "output_type": "display_data"
    },
    {
     "name": "stdout",
     "output_type": "stream",
     "text": [
      "8860017483\tFrom\tD:\\Data\\Sentinel 2A\\2017\\T35VEP\\20170723_sentinel_ndvi.tif\n",
      "\t\tTo\tD:\\Data\\Blocks\\2017\\T35VEP\\8860017483\\20170723_sentinel_ndvi.tif\n"
     ]
    },
    {
     "data": {
      "image/png": "[encoded data removed]",
      "text/plain": [
       "<matplotlib.figure.Figure at 0xa0c0278>"
      ]
     },
     "metadata": {},
     "output_type": "display_data"
    },
    {
     "name": "stdout",
     "output_type": "stream",
     "text": [
      "8860091851\tFrom\tD:\\Data\\Sentinel 2A\\2017\\T35VEP\\20170723_sentinel_ndvi.tif\n",
      "\t\tTo\tD:\\Data\\Blocks\\2017\\T35VEP\\8860091851\\20170723_sentinel_ndvi.tif\n"
     ]
    },
    {
     "data": {
      "image/png": "[encoded data removed]",
      "text/plain": [
       "<matplotlib.figure.Figure at 0x2d70630>"
      ]
     },
     "metadata": {},
     "output_type": "display_data"
    },
    {
     "name": "stdout",
     "output_type": "stream",
     "text": [
      "8860095891\tFrom\tD:\\Data\\Sentinel 2A\\2017\\T35VEP\\20170723_sentinel_ndvi.tif\n",
      "\t\tTo\tD:\\Data\\Blocks\\2017\\T35VEP\\8860095891\\20170723_sentinel_ndvi.tif\n"
     ]
    },
    {
     "data": {
      "image/png": "[encoded data removed]",
      "text/plain": [
       "<matplotlib.figure.Figure at 0x2c2c588>"
      ]
     },
     "metadata": {},
     "output_type": "display_data"
    },
    {
     "name": "stdout",
     "output_type": "stream",
     "text": [
      "8860095992\tFrom\tD:\\Data\\Sentinel 2A\\2017\\T35VEP\\20170723_sentinel_ndvi.tif\n",
      "\t\tTo\tD:\\Data\\Blocks\\2017\\T35VEP\\8860095992\\20170723_sentinel_ndvi.tif\n"
     ]
    },
    {
     "data": {
      "image/png": "[encoded data removed]",
      "text/plain": [
       "<matplotlib.figure.Figure at 0x2c0d128>"
      ]
     },
     "metadata": {},
     "output_type": "display_data"
    },
    {
     "name": "stdout",
     "output_type": "stream",
     "text": [
      "8860195925\tFrom\tD:\\Data\\Sentinel 2A\\2017\\T35VEP\\20170723_sentinel_ndvi.tif\n",
      "\t\tTo\tD:\\Data\\Blocks\\2017\\T35VEP\\8860195925\\20170723_sentinel_ndvi.tif\n"
     ]
    },
    {
     "data": {
      "image/png": "[encoded data removed]",
      "text/plain": [
       "<matplotlib.figure.Figure at 0xa13ae10>"
      ]
     },
     "metadata": {},
     "output_type": "display_data"
    },
    {
     "name": "stdout",
     "output_type": "stream",
     "text": [
      "9880016034\tFrom\tD:\\Data\\Sentinel 2A\\2017\\T35VEP\\20170723_sentinel_ndvi.tif\n",
      "\t\tTo\tD:\\Data\\Blocks\\2017\\T35VEP\\9880016034\\20170723_sentinel_ndvi.tif\n"
     ]
    },
    {
     "data": {
      "image/png": "[encoded data removed]",
      "text/plain": [
       "<matplotlib.figure.Figure at 0x2cec198>"
      ]
     },
     "metadata": {},
     "output_type": "display_data"
    },
    {
     "name": "stdout",
     "output_type": "stream",
     "text": [
      "9880016135\tFrom\tD:\\Data\\Sentinel 2A\\2017\\T35VEP\\20170723_sentinel_ndvi.tif\n",
      "\t\tTo\tD:\\Data\\Blocks\\2017\\T35VEP\\9880016135\\20170723_sentinel_ndvi.tif\n"
     ]
    },
    {
     "data": {
      "image/png": "[encoded data removed]",
      "text/plain": [
       "<matplotlib.figure.Figure at 0x2ce5198>"
      ]
     },
     "metadata": {},
     "output_type": "display_data"
    },
    {
     "name": "stdout",
     "output_type": "stream",
     "text": [
      "9880167291\tFrom\tD:\\Data\\Sentinel 2A\\2017\\T35VEP\\20170723_sentinel_ndvi.tif\n",
      "\t\tTo\tD:\\Data\\Blocks\\2017\\T35VEP\\9880167291\\20170723_sentinel_ndvi.tif\n"
     ]
    },
    {
     "data": {
      "image/png": "[encoded data removed]",
      "text/plain": [
       "<matplotlib.figure.Figure at 0x2c07160>"
      ]
     },
     "metadata": {},
     "output_type": "display_data"
    },
    {
     "name": "stdout",
     "output_type": "stream",
     "text": [
      "9880217714\tFrom\tD:\\Data\\Sentinel 2A\\2017\\T35VEP\\20170723_sentinel_ndvi.tif\n",
      "\t\tTo\tD:\\Data\\Blocks\\2017\\T35VEP\\9880217714\\20170723_sentinel_ndvi.tif\n"
     ]
    },
    {
     "data": {
      "image/png": "[encoded data removed]",
      "text/plain": [
       "<matplotlib.figure.Figure at 0x2ba2748>"
      ]
     },
     "metadata": {},
     "output_type": "display_data"
    },
    {
     "name": "stdout",
     "output_type": "stream",
     "text": [
      "6090006368\tFrom\tD:\\Data\\Sentinel 2A\\2017\\T35VEP\\20170911_sentinel_ndvi.tif\n",
      "\t\tTo\tD:\\Data\\Blocks\\2017\\T35VEP\\6090006368\\20170911_sentinel_ndvi.tif\n"
     ]
    },
    {
     "data": {
      "image/png": "[encoded data removed]",
      "text/plain": [
       "<matplotlib.figure.Figure at 0xa1109b0>"
      ]
     },
     "metadata": {},
     "output_type": "display_data"
    },
    {
     "name": "stdout",
     "output_type": "stream",
     "text": [
      "6090006469\tFrom\tD:\\Data\\Sentinel 2A\\2017\\T35VEP\\20170911_sentinel_ndvi.tif\n",
      "\t\tTo\tD:\\Data\\Blocks\\2017\\T35VEP\\6090006469\\20170911_sentinel_ndvi.tif\n"
     ]
    },
    {
     "data": {
      "image/png": "[encoded data removed]",
      "text/plain": [
       "<matplotlib.figure.Figure at 0x2d6e5c0>"
      ]
     },
     "metadata": {},
     "output_type": "display_data"
    },
    {
     "name": "stdout",
     "output_type": "stream",
     "text": [
      "6090161265\tFrom\tD:\\Data\\Sentinel 2A\\2017\\T35VEP\\20170911_sentinel_ndvi.tif\n",
      "\t\tTo\tD:\\Data\\Blocks\\2017\\T35VEP\\6090161265\\20170911_sentinel_ndvi.tif\n"
     ]
    },
    {
     "data": {
      "image/png": "[encoded data removed]",
      "text/plain": [
       "<matplotlib.figure.Figure at 0x2c1b5f8>"
      ]
     },
     "metadata": {},
     "output_type": "display_data"
    },
    {
     "name": "stdout",
     "output_type": "stream",
     "text": [
      "6090161366\tFrom\tD:\\Data\\Sentinel 2A\\2017\\T35VEP\\20170911_sentinel_ndvi.tif\n",
      "\t\tTo\tD:\\Data\\Blocks\\2017\\T35VEP\\6090161366\\20170911_sentinel_ndvi.tif\n"
     ]
    },
    {
     "data": {
      "image/png": "[encoded data removed]",
      "text/plain": [
       "<matplotlib.figure.Figure at 0x2c15080>"
      ]
     },
     "metadata": {},
     "output_type": "display_data"
    },
    {
     "name": "stdout",
     "output_type": "stream",
     "text": [
      "6090205523\tFrom\tD:\\Data\\Sentinel 2A\\2017\\T35VEP\\20170911_sentinel_ndvi.tif\n",
      "\t\tTo\tD:\\Data\\Blocks\\2017\\T35VEP\\6090205523\\20170911_sentinel_ndvi.tif\n"
     ]
    },
    {
     "data": {
      "image/png": "[encoded data removed]",
      "text/plain": [
       "<matplotlib.figure.Figure at 0x2e1fc50>"
      ]
     },
     "metadata": {},
     "output_type": "display_data"
    },
    {
     "name": "stdout",
     "output_type": "stream",
     "text": [
      "6090324751\tFrom\tD:\\Data\\Sentinel 2A\\2017\\T35VEP\\20170911_sentinel_ndvi.tif\n",
      "\t\tTo\tD:\\Data\\Blocks\\2017\\T35VEP\\6090324751\\20170911_sentinel_ndvi.tif\n"
     ]
    },
    {
     "data": {
      "image/png": "[encoded data removed]",
      "text/plain": [
       "<matplotlib.figure.Figure at 0xa1379b0>"
      ]
     },
     "metadata": {},
     "output_type": "display_data"
    },
    {
     "name": "stdout",
     "output_type": "stream",
     "text": [
      "6090328993\tFrom\tD:\\Data\\Sentinel 2A\\2017\\T35VEP\\20170911_sentinel_ndvi.tif\n",
      "\t\tTo\tD:\\Data\\Blocks\\2017\\T35VEP\\6090328993\\20170911_sentinel_ndvi.tif\n"
     ]
    },
    {
     "data": {
      "image/png": "[encoded data removed]",
      "text/plain": [
       "<matplotlib.figure.Figure at 0x2b7a4a8>"
      ]
     },
     "metadata": {},
     "output_type": "display_data"
    },
    {
     "name": "stdout",
     "output_type": "stream",
     "text": [
      "6090340818\tFrom\tD:\\Data\\Sentinel 2A\\2017\\T35VEP\\20170911_sentinel_ndvi.tif\n",
      "\t\tTo\tD:\\Data\\Blocks\\2017\\T35VEP\\6090340818\\20170911_sentinel_ndvi.tif\n"
     ]
    },
    {
     "data": {
      "image/png": "[encoded data removed]",
      "text/plain": [
       "<matplotlib.figure.Figure at 0x2d7a978>"
      ]
     },
     "metadata": {},
     "output_type": "display_data"
    },
    {
     "name": "stdout",
     "output_type": "stream",
     "text": [
      "6090342838\tFrom\tD:\\Data\\Sentinel 2A\\2017\\T35VEP\\20170911_sentinel_ndvi.tif\n",
      "\t\tTo\tD:\\Data\\Blocks\\2017\\T35VEP\\6090342838\\20170911_sentinel_ndvi.tif\n"
     ]
    },
    {
     "data": {
      "image/png": "[encoded data removed]",
      "text/plain": [
       "<matplotlib.figure.Figure at 0x2bda2b0>"
      ]
     },
     "metadata": {},
     "output_type": "display_data"
    },
    {
     "name": "stdout",
     "output_type": "stream",
     "text": [
      "6090345161\tError (warp): Warped image contains only NaNs\n",
      "\t\tFrom\tD:\\Data\\Sentinel 2A\\2017\\T35VEP\\20170911_sentinel_ndvi.tif\n",
      "\t\tTo\tD:\\Data\\Temp\\temp.tif\n",
      "6090345969\tFrom\tD:\\Data\\Sentinel 2A\\2017\\T35VEP\\20170911_sentinel_ndvi.tif\n",
      "\t\tTo\tD:\\Data\\Blocks\\2017\\T35VEP\\6090345969\\20170911_sentinel_ndvi.tif\n"
     ]
    },
    {
     "data": {
      "image/png": "[encoded data removed]",
      "text/plain": [
       "<matplotlib.figure.Figure at 0x2b61f98>"
      ]
     },
     "metadata": {},
     "output_type": "display_data"
    },
    {
     "name": "stdout",
     "output_type": "stream",
     "text": [
      "6090346171\tError (warp): Warped image contains only NaNs\n",
      "\t\tFrom\tD:\\Data\\Sentinel 2A\\2017\\T35VEP\\20170911_sentinel_ndvi.tif\n",
      "\t\tTo\tD:\\Data\\Temp\\temp.tif\n",
      "6090347888\tFrom\tD:\\Data\\Sentinel 2A\\2017\\T35VEP\\20170911_sentinel_ndvi.tif\n",
      "\t\tTo\tD:\\Data\\Blocks\\2017\\T35VEP\\6090347888\\20170911_sentinel_ndvi.tif\n"
     ]
    },
    {
     "data": {
      "image/png": "[encoded data removed]",
      "text/plain": [
       "<matplotlib.figure.Figure at 0x2e1fc50>"
      ]
     },
     "metadata": {},
     "output_type": "display_data"
    },
    {
     "name": "stdout",
     "output_type": "stream",
     "text": [
      "6090348292\tError (warp): Warped image contains only NaNs\n",
      "\t\tFrom\tD:\\Data\\Sentinel 2A\\2017\\T35VEP\\20170911_sentinel_ndvi.tif\n",
      "\t\tTo\tD:\\Data\\Temp\\temp.tif\n",
      "6090672133\tFrom\tD:\\Data\\Sentinel 2A\\2017\\T35VEP\\20170911_sentinel_ndvi.tif\n",
      "\t\tTo\tD:\\Data\\Blocks\\2017\\T35VEP\\6090672133\\20170911_sentinel_ndvi.tif\n"
     ]
    },
    {
     "data": {
      "image/png": "[encoded data removed]",
      "text/plain": [
       "<matplotlib.figure.Figure at 0x2cef240>"
      ]
     },
     "metadata": {},
     "output_type": "display_data"
    },
    {
     "name": "stdout",
     "output_type": "stream",
     "text": [
      "8860017483\tError (warp): Warped image contains only NaNs\n",
      "\t\tFrom\tD:\\Data\\Sentinel 2A\\2017\\T35VEP\\20170911_sentinel_ndvi.tif\n",
      "\t\tTo\tD:\\Data\\Temp\\temp.tif\n",
      "8860091851\tFrom\tD:\\Data\\Sentinel 2A\\2017\\T35VEP\\20170911_sentinel_ndvi.tif\n",
      "\t\tTo\tD:\\Data\\Blocks\\2017\\T35VEP\\8860091851\\20170911_sentinel_ndvi.tif\n"
     ]
    },
    {
     "data": {
      "image/png": "[encoded data removed]",
      "text/plain": [
       "<matplotlib.figure.Figure at 0x2c07da0>"
      ]
     },
     "metadata": {},
     "output_type": "display_data"
    },
    {
     "name": "stdout",
     "output_type": "stream",
     "text": [
      "8860095891\tFrom\tD:\\Data\\Sentinel 2A\\2017\\T35VEP\\20170911_sentinel_ndvi.tif\n",
      "\t\tTo\tD:\\Data\\Blocks\\2017\\T35VEP\\8860095891\\20170911_sentinel_ndvi.tif\n"
     ]
    },
    {
     "data": {
      "image/png": "[encoded data removed]",
      "text/plain": [
       "<matplotlib.figure.Figure at 0x2dc8748>"
      ]
     },
     "metadata": {},
     "output_type": "display_data"
    },
    {
     "name": "stdout",
     "output_type": "stream",
     "text": [
      "8860095992\tFrom\tD:\\Data\\Sentinel 2A\\2017\\T35VEP\\20170911_sentinel_ndvi.tif\n",
      "\t\tTo\tD:\\Data\\Blocks\\2017\\T35VEP\\8860095992\\20170911_sentinel_ndvi.tif\n"
     ]
    },
    {
     "data": {
      "image/png": "[encoded data removed]",
      "text/plain": [
       "<matplotlib.figure.Figure at 0xa12f0b8>"
      ]
     },
     "metadata": {},
     "output_type": "display_data"
    },
    {
     "name": "stdout",
     "output_type": "stream",
     "text": [
      "8860195925\tError (warp): Warped image contains only NaNs\n",
      "\t\tFrom\tD:\\Data\\Sentinel 2A\\2017\\T35VEP\\20170911_sentinel_ndvi.tif\n",
      "\t\tTo\tD:\\Data\\Temp\\temp.tif\n",
      "9880016034\tError (warp): Warped image contains only NaNs\n",
      "\t\tFrom\tD:\\Data\\Sentinel 2A\\2017\\T35VEP\\20170911_sentinel_ndvi.tif\n",
      "\t\tTo\tD:\\Data\\Temp\\temp.tif\n",
      "9880016135\tError (warp): Warped image contains only NaNs\n",
      "\t\tFrom\tD:\\Data\\Sentinel 2A\\2017\\T35VEP\\20170911_sentinel_ndvi.tif\n",
      "\t\tTo\tD:\\Data\\Temp\\temp.tif\n",
      "9880167291\tError (warp): Warped image contains only NaNs\n",
      "\t\tFrom\tD:\\Data\\Sentinel 2A\\2017\\T35VEP\\20170911_sentinel_ndvi.tif\n",
      "\t\tTo\tD:\\Data\\Temp\\temp.tif\n",
      "9880217714\tError (warp): Warped image contains only NaNs\n",
      "\t\tFrom\tD:\\Data\\Sentinel 2A\\2017\\T35VEP\\20170911_sentinel_ndvi.tif\n",
      "\t\tTo\tD:\\Data\\Temp\\temp.tif\n",
      "Processed 141 field blocks in 36m 25s\n",
      "Asserting filenames: All generated block datasets named correctly!\n"
     ]
    }
   ],
   "source": [
    "import numpy as np\n",
    "from field_analysis.extraction.blocks import Sentinel2ANDVI\n",
    "\n",
    "sentinel_ndvi = Sentinel2ANDVI(target_resolution=10, source_range=(-1,1), \n",
    "                           dest_range=(-1,1),source_nodata=np.nan)\n",
    "sentinel_ndvi.extract()"
   ]
  },
  {
   "cell_type": "markdown",
   "metadata": {},
   "source": [
    "## 3.2. Drone data\n",
    "\n",
    "In this section we will iterate over fields with data recorded by drones. The data is either in NDVI or RGB. The images are large by default and are thus downsampled to math the resolution of the Sentinel images.\n",
    "\n",
    "\n",
    "                \n",
    "The numbers under granules are the fields' block IDs.\n",
    "\n",
    "Like previously, we first precompute all the necessary paths. Then we iterate over each drone data folder with a process similar to the preceding section. The filenames are in the following format:\n",
    "\n",
    "    YYYYMMDD_format.tif\n",
    "\n",
    "The `format` is either `ndvi` or `rgb`, according to the image's datatype and the source value ranges correspond with the datatype. These files are in their corresponding block IDs' folder roots."
   ]
  },
  {
   "cell_type": "markdown",
   "metadata": {},
   "source": [
    "### 3.2.1 NDVI images"
   ]
  },
  {
   "cell_type": "code",
   "execution_count": null,
   "metadata": {
    "scrolled": true
   },
   "outputs": [
    {
     "name": "stdout",
     "output_type": "stream",
     "text": [
      "6090161366\tFrom\tD:\\Data\\Drone\\2017\\T35VEP\\6090161366\\20170821_drone_ndvi.tif\n",
      "\t\tTo\tD:\\Data\\Blocks\\2017\\T35VEP\\6090161366\\20170821_drone_ndvi.tif\n"
     ]
    },
    {
     "data": {
      "image/png": "[encoded data removed]",
      "text/plain": [
       "<matplotlib.figure.Figure at 0x2bc27b8>"
      ]
     },
     "metadata": {},
     "output_type": "display_data"
    },
    {
     "name": "stdout",
     "output_type": "stream",
     "text": [
      "6090205523\tFrom\tD:\\Data\\Drone\\2017\\T35VEP\\6090205523\\20170614_drone_ndvi.tif\n",
      "\t\tTo\tD:\\Data\\Blocks\\2017\\T35VEP\\6090205523\\20170614_drone_ndvi.tif\n"
     ]
    },
    {
     "data": {
      "image/png": "[encoded data removed]",
      "text/plain": [
       "<matplotlib.figure.Figure at 0xa134c18>"
      ]
     },
     "metadata": {},
     "output_type": "display_data"
    },
    {
     "name": "stdout",
     "output_type": "stream",
     "text": [
      "6090205523\tFrom\tD:\\Data\\Drone\\2017\\T35VEP\\6090205523\\20170729_drone_ndvi.tif\n",
      "\t\tTo\tD:\\Data\\Blocks\\2017\\T35VEP\\6090205523\\20170729_drone_ndvi.tif\n"
     ]
    },
    {
     "data": {
      "image/png": "[encoded data removed]",
      "text/plain": [
       "<matplotlib.figure.Figure at 0x2ba8710>"
      ]
     },
     "metadata": {},
     "output_type": "display_data"
    },
    {
     "name": "stdout",
     "output_type": "stream",
     "text": [
      "6090324751\tFrom\tD:\\Data\\Drone\\2017\\T35VEP\\6090324751\\20170609_drone_ndvi.tif\n",
      "\t\tTo\tD:\\Data\\Blocks\\2017\\T35VEP\\6090324751\\20170609_drone_ndvi.tif\n"
     ]
    },
    {
     "data": {
      "image/png": "[encoded data removed]",
      "text/plain": [
       "<matplotlib.figure.Figure at 0x2c2f7f0>"
      ]
     },
     "metadata": {},
     "output_type": "display_data"
    },
    {
     "name": "stdout",
     "output_type": "stream",
     "text": [
      "6090324751\tFrom\tD:\\Data\\Drone\\2017\\T35VEP\\6090324751\\20170613_drone_ndvi.tif\n",
      "\t\tTo\tD:\\Data\\Blocks\\2017\\T35VEP\\6090324751\\20170613_drone_ndvi.tif\n"
     ]
    },
    {
     "data": {
      "image/png": "[encoded data removed]",
      "text/plain": [
       "<matplotlib.figure.Figure at 0x2d36b00>"
      ]
     },
     "metadata": {},
     "output_type": "display_data"
    },
    {
     "name": "stdout",
     "output_type": "stream",
     "text": [
      "6090324751\tFrom\tD:\\Data\\Drone\\2017\\T35VEP\\6090324751\\20170729_drone_ndvi.tif\n",
      "\t\tTo\tD:\\Data\\Blocks\\2017\\T35VEP\\6090324751\\20170729_drone_ndvi.tif\n"
     ]
    },
    {
     "data": {
      "image/png": "[encoded data removed]",
      "text/plain": [
       "<matplotlib.figure.Figure at 0x2c1e278>"
      ]
     },
     "metadata": {},
     "output_type": "display_data"
    },
    {
     "name": "stdout",
     "output_type": "stream",
     "text": [
      "6090328993\tFrom\tD:\\Data\\Drone\\2017\\T35VEP\\6090328993\\20170609_drone_ndvi.tif\n",
      "\t\tTo\tD:\\Data\\Blocks\\2017\\T35VEP\\6090328993\\20170609_drone_ndvi.tif\n"
     ]
    },
    {
     "data": {
      "image/png": "[encoded data removed]",
      "text/plain": [
       "<matplotlib.figure.Figure at 0x2b4b128>"
      ]
     },
     "metadata": {},
     "output_type": "display_data"
    },
    {
     "name": "stdout",
     "output_type": "stream",
     "text": [
      "6090328993\tFrom\tD:\\Data\\Drone\\2017\\T35VEP\\6090328993\\20170729_drone_ndvi.tif\n",
      "\t\tTo\tD:\\Data\\Blocks\\2017\\T35VEP\\6090328993\\20170729_drone_ndvi.tif\n"
     ]
    },
    {
     "data": {
      "image/png": "[encoded data removed]",
      "text/plain": [
       "<matplotlib.figure.Figure at 0x2c48be0>"
      ]
     },
     "metadata": {},
     "output_type": "display_data"
    },
    {
     "name": "stdout",
     "output_type": "stream",
     "text": [
      "6090342838\tFrom\tD:\\Data\\Drone\\2017\\T35VEP\\6090342838\\20170707_drone_ndvi.tif\n",
      "\t\tTo\tD:\\Data\\Blocks\\2017\\T35VEP\\6090342838\\20170707_drone_ndvi.tif\n"
     ]
    },
    {
     "data": {
      "image/png": "[encoded data removed]",
      "text/plain": [
       "<matplotlib.figure.Figure at 0x9e0aeb8>"
      ]
     },
     "metadata": {},
     "output_type": "display_data"
    },
    {
     "name": "stdout",
     "output_type": "stream",
     "text": [
      "6090345161\tFrom\tD:\\Data\\Drone\\2017\\T35VEP\\6090345161\\20170619_drone_ndvi.tif\n",
      "\t\tTo\tD:\\Data\\Blocks\\2017\\T35VEP\\6090345161\\20170619_drone_ndvi.tif\n"
     ]
    },
    {
     "data": {
      "image/png": "[encoded data removed]",
      "text/plain": [
       "<matplotlib.figure.Figure at 0x2d7e828>"
      ]
     },
     "metadata": {},
     "output_type": "display_data"
    },
    {
     "name": "stdout",
     "output_type": "stream",
     "text": [
      "6090345969\tFrom\tD:\\Data\\Drone\\2017\\T35VEP\\6090345969\\20170628_drone_ndvi.tif\n",
      "\t\tTo\tD:\\Data\\Blocks\\2017\\T35VEP\\6090345969\\20170628_drone_ndvi.tif\n"
     ]
    },
    {
     "data": {
      "image/png": "[encoded data removed]",
      "text/plain": [
       "<matplotlib.figure.Figure at 0x2b46198>"
      ]
     },
     "metadata": {},
     "output_type": "display_data"
    },
    {
     "name": "stdout",
     "output_type": "stream",
     "text": [
      "6090345969\tFrom\tD:\\Data\\Drone\\2017\\T35VEP\\6090345969\\20170727_drone_ndvi.tif\n",
      "\t\tTo\tD:\\Data\\Blocks\\2017\\T35VEP\\6090345969\\20170727_drone_ndvi.tif\n"
     ]
    },
    {
     "data": {
      "image/png": "[encoded data removed]",
      "text/plain": [
       "<matplotlib.figure.Figure at 0xa0fcc88>"
      ]
     },
     "metadata": {},
     "output_type": "display_data"
    },
    {
     "name": "stdout",
     "output_type": "stream",
     "text": [
      "6090346171\tFrom\tD:\\Data\\Drone\\2017\\T35VEP\\6090346171\\20170619_drone_ndvi.tif\n",
      "\t\tTo\tD:\\Data\\Blocks\\2017\\T35VEP\\6090346171\\20170619_drone_ndvi.tif\n"
     ]
    },
    {
     "data": {
      "image/png": "[encoded data removed]",
      "text/plain": [
       "<matplotlib.figure.Figure at 0x2dc99e8>"
      ]
     },
     "metadata": {},
     "output_type": "display_data"
    },
    {
     "name": "stdout",
     "output_type": "stream",
     "text": [
      "6090347888\tFrom\tD:\\Data\\Drone\\2017\\T35VEP\\6090347888\\20170628_drone_ndvi.tif\n",
      "\t\tTo\tD:\\Data\\Blocks\\2017\\T35VEP\\6090347888\\20170628_drone_ndvi.tif\n"
     ]
    },
    {
     "data": {
      "image/png": "[encoded data removed]",
      "text/plain": [
       "<matplotlib.figure.Figure at 0x2d8d208>"
      ]
     },
     "metadata": {},
     "output_type": "display_data"
    },
    {
     "name": "stdout",
     "output_type": "stream",
     "text": [
      "6090347888\tFrom\tD:\\Data\\Drone\\2017\\T35VEP\\6090347888\\20170727_drone_ndvi.tif\n",
      "\t\tTo\tD:\\Data\\Blocks\\2017\\T35VEP\\6090347888\\20170727_drone_ndvi.tif\n"
     ]
    },
    {
     "data": {
      "image/png": "[encoded data removed]",
      "text/plain": [
       "<matplotlib.figure.Figure at 0x2d4a7f0>"
      ]
     },
     "metadata": {},
     "output_type": "display_data"
    },
    {
     "name": "stdout",
     "output_type": "stream",
     "text": [
      "6090348292\tFrom\tD:\\Data\\Drone\\2017\\T35VEP\\6090348292\\20170707_drone_ndvi.tif\n",
      "\t\tTo\tD:\\Data\\Blocks\\2017\\T35VEP\\6090348292\\20170707_drone_ndvi.tif\n"
     ]
    },
    {
     "data": {
      "image/png": "[encoded data removed]",
      "text/plain": [
       "<matplotlib.figure.Figure at 0x2c5dbe0>"
      ]
     },
     "metadata": {},
     "output_type": "display_data"
    },
    {
     "name": "stdout",
     "output_type": "stream",
     "text": [
      "6090672133\tFrom\tD:\\Data\\Drone\\2017\\T35VEP\\6090672133\\20170606_drone_ndvi.tif\n",
      "\t\tTo\tD:\\Data\\Blocks\\2017\\T35VEP\\6090672133\\20170606_drone_ndvi.tif\n"
     ]
    },
    {
     "data": {
      "image/png": "[encoded data removed]",
      "text/plain": [
       "<matplotlib.figure.Figure at 0x2be50f0>"
      ]
     },
     "metadata": {},
     "output_type": "display_data"
    },
    {
     "name": "stdout",
     "output_type": "stream",
     "text": [
      "6090672133\tFrom\tD:\\Data\\Drone\\2017\\T35VEP\\6090672133\\20170718_drone_ndvi.tif\n",
      "\t\tTo\tD:\\Data\\Blocks\\2017\\T35VEP\\6090672133\\20170718_drone_ndvi.tif\n"
     ]
    },
    {
     "data": {
      "image/png": "[encoded data removed]",
      "text/plain": [
       "<matplotlib.figure.Figure at 0x2cf5908>"
      ]
     },
     "metadata": {},
     "output_type": "display_data"
    },
    {
     "name": "stdout",
     "output_type": "stream",
     "text": [
      "8860017483\tFrom\tD:\\Data\\Drone\\2017\\T35VEP\\8860017483\\20170729_drone_ndvi.tif\n",
      "\t\tTo\tD:\\Data\\Blocks\\2017\\T35VEP\\8860017483\\20170729_drone_ndvi.tif\n"
     ]
    },
    {
     "data": {
      "image/png": "[encoded data removed]",
      "text/plain": [
       "<matplotlib.figure.Figure at 0xa089cc0>"
      ]
     },
     "metadata": {},
     "output_type": "display_data"
    },
    {
     "name": "stdout",
     "output_type": "stream",
     "text": [
      "8860095891\tFrom\tD:\\Data\\Drone\\2017\\T35VEP\\8860095891\\20170814_drone_ndvi.tif\n",
      "\t\tTo\tD:\\Data\\Blocks\\2017\\T35VEP\\8860095891\\20170814_drone_ndvi.tif\n"
     ]
    },
    {
     "data": {
      "image/png": "[encoded data removed]",
      "text/plain": [
       "<matplotlib.figure.Figure at 0x2e3d240>"
      ]
     },
     "metadata": {},
     "output_type": "display_data"
    },
    {
     "name": "stdout",
     "output_type": "stream",
     "text": [
      "8860095992\tFrom\tD:\\Data\\Drone\\2017\\T35VEP\\8860095992\\20170615_drone_ndvi.tif\n",
      "\t\tTo\tD:\\Data\\Blocks\\2017\\T35VEP\\8860095992\\20170615_drone_ndvi.tif\n"
     ]
    },
    {
     "data": {
      "image/png": "[encoded data removed]",
      "text/plain": [
       "<matplotlib.figure.Figure at 0x2d4a518>"
      ]
     },
     "metadata": {},
     "output_type": "display_data"
    },
    {
     "name": "stdout",
     "output_type": "stream",
     "text": [
      "8860195925\tFrom\tD:\\Data\\Drone\\2017\\T35VEP\\8860195925\\20170729_drone_ndvi.tif\n",
      "\t\tTo\tD:\\Data\\Blocks\\2017\\T35VEP\\8860195925\\20170729_drone_ndvi.tif\n"
     ]
    },
    {
     "data": {
      "image/png": "[encoded data removed]",
      "text/plain": [
       "<matplotlib.figure.Figure at 0xa0a7198>"
      ]
     },
     "metadata": {},
     "output_type": "display_data"
    },
    {
     "name": "stdout",
     "output_type": "stream",
     "text": [
      "9880016034\tFrom\tD:\\Data\\Drone\\2017\\T35VEP\\9880016034\\20170629_drone_ndvi.tif\n",
      "\t\tTo\tD:\\Data\\Blocks\\2017\\T35VEP\\9880016034\\20170629_drone_ndvi.tif\n"
     ]
    },
    {
     "data": {
      "image/png": "[encoded data removed]",
      "text/plain": [
       "<matplotlib.figure.Figure at 0x2bf0080>"
      ]
     },
     "metadata": {},
     "output_type": "display_data"
    },
    {
     "name": "stdout",
     "output_type": "stream",
     "text": [
      "9880217714\tFrom\tD:\\Data\\Drone\\2017\\T35VEP\\9880217714\\20170716_drone_ndvi.tif\n",
      "\t\tTo\tD:\\Data\\Blocks\\2017\\T35VEP\\9880217714\\20170716_drone_ndvi.tif\n"
     ]
    },
    {
     "data": {
      "image/png": "[encoded data removed]",
      "text/plain": [
       "<matplotlib.figure.Figure at 0x2ca2fd0>"
      ]
     },
     "metadata": {},
     "output_type": "display_data"
    },
    {
     "name": "stdout",
     "output_type": "stream",
     "text": [
      "Processed 24 field blocks in 8m 49s\n",
      "Asserting filenames: All generated block datasets named correctly!\n"
     ]
    }
   ],
   "source": [
    "from field_analysis.extraction.blocks import DroneNDVI\n",
    "\n",
    "drone_ndvi = DroneNDVI(target_resolution=10/32, source_range=(-1,1), \n",
    "                       dest_range=(-1,1), source_nodata=-10000)\n",
    "drone_ndvi.extract()"
   ]
  },
  {
   "cell_type": "markdown",
   "metadata": {},
   "source": [
    "### 3.2.2 RGB images"
   ]
  },
  {
   "cell_type": "code",
   "execution_count": 1,
   "metadata": {
    "scrolled": false
   },
   "outputs": [
    {
     "name": "stdout",
     "output_type": "stream",
     "text": [
      "6090161366\tFrom\tD:\\Data\\Drone\\2017\\T35VEP\\6090161366\\20170821_drone_rgb.tif\n",
      "\t\tTo\tD:\\Data\\Blocks\\2017\\T35VEP\\6090161366\\20170821_drone_rgb.tif\n"
     ]
    },
    {
     "data": {
      "image/png": "[encoded data removed]",
      "text/plain": [
       "<matplotlib.figure.Figure at 0x9bdb588>"
      ]
     },
     "metadata": {},
     "output_type": "display_data"
    },
    {
     "name": "stdout",
     "output_type": "stream",
     "text": [
      "6090205523\tFrom\tD:\\Data\\Drone\\2017\\T35VEP\\6090205523\\20170614_drone_rgb.tif\n",
      "\t\tTo\tD:\\Data\\Blocks\\2017\\T35VEP\\6090205523\\20170614_drone_rgb.tif\n"
     ]
    },
    {
     "data": {
      "image/png": "[encoded data removed]",
      "text/plain": [
       "<matplotlib.figure.Figure at 0x2a8c0b8>"
      ]
     },
     "metadata": {},
     "output_type": "display_data"
    },
    {
     "name": "stdout",
     "output_type": "stream",
     "text": [
      "6090205523\tFrom\tD:\\Data\\Drone\\2017\\T35VEP\\6090205523\\20170729_drone_rgb.tif\n",
      "\t\tTo\tD:\\Data\\Blocks\\2017\\T35VEP\\6090205523\\20170729_drone_rgb.tif\n"
     ]
    },
    {
     "data": {
      "image/png": "[encoded data removed]",
      "text/plain": [
       "<matplotlib.figure.Figure at 0x9be0470>"
      ]
     },
     "metadata": {},
     "output_type": "display_data"
    },
    {
     "name": "stdout",
     "output_type": "stream",
     "text": [
      "6090324751\tFrom\tD:\\Data\\Drone\\2017\\T35VEP\\6090324751\\20170609_drone_rgb.tif\n",
      "\t\tTo\tD:\\Data\\Blocks\\2017\\T35VEP\\6090324751\\20170609_drone_rgb.tif\n"
     ]
    },
    {
     "data": {
      "image/png": "[encoded data removed]",
      "text/plain": [
       "<matplotlib.figure.Figure at 0x2f3b358>"
      ]
     },
     "metadata": {},
     "output_type": "display_data"
    },
    {
     "name": "stdout",
     "output_type": "stream",
     "text": [
      "6090324751\tFrom\tD:\\Data\\Drone\\2017\\T35VEP\\6090324751\\20170729_drone_rgb.tif\n",
      "\t\tTo\tD:\\Data\\Blocks\\2017\\T35VEP\\6090324751\\20170729_drone_rgb.tif\n"
     ]
    },
    {
     "data": {
      "image/png": "[encoded data removed]",
      "text/plain": [
       "<matplotlib.figure.Figure at 0x42320>"
      ]
     },
     "metadata": {},
     "output_type": "display_data"
    },
    {
     "name": "stdout",
     "output_type": "stream",
     "text": [
      "6090328993\tFrom\tD:\\Data\\Drone\\2017\\T35VEP\\6090328993\\20170609_drone_rgb.tif\n",
      "\t\tTo\tD:\\Data\\Blocks\\2017\\T35VEP\\6090328993\\20170609_drone_rgb.tif\n"
     ]
    },
    {
     "data": {
      "image/png": "[encoded data removed]",
      "text/plain": [
       "<matplotlib.figure.Figure at 0x962e8>"
      ]
     },
     "metadata": {},
     "output_type": "display_data"
    },
    {
     "name": "stdout",
     "output_type": "stream",
     "text": [
      "6090328993\tFrom\tD:\\Data\\Drone\\2017\\T35VEP\\6090328993\\20170729_drone_rgb.tif\n",
      "\t\tTo\tD:\\Data\\Blocks\\2017\\T35VEP\\6090328993\\20170729_drone_rgb.tif\n"
     ]
    },
    {
     "data": {
      "image/png": "[encoded data removed]",
      "text/plain": [
       "<matplotlib.figure.Figure at 0xe92b0>"
      ]
     },
     "metadata": {},
     "output_type": "display_data"
    },
    {
     "name": "stdout",
     "output_type": "stream",
     "text": [
      "6090342838\tError (warp): 'NoneType' object has no attribute 'ReadAsArray'\n",
      "\t\tFrom\tD:\\Data\\Drone\\2017\\T35VEP\\6090342838\\20170707_drone_rgb.tif\n",
      "\t\tTo\tD:\\Data\\Temp\\temp.tif\n",
      "6090345161\tFrom\tD:\\Data\\Drone\\2017\\T35VEP\\6090345161\\20170619_drone_rgb.tif\n",
      "\t\tTo\tD:\\Data\\Blocks\\2017\\T35VEP\\6090345161\\20170619_drone_rgb.tif\n"
     ]
    },
    {
     "data": {
      "image/png": "[encoded data removed]",
      "text/plain": [
       "<matplotlib.figure.Figure at 0x146278>"
      ]
     },
     "metadata": {},
     "output_type": "display_data"
    },
    {
     "name": "stdout",
     "output_type": "stream",
     "text": [
      "6090345969\tFrom\tD:\\Data\\Drone\\2017\\T35VEP\\6090345969\\20170628_drone_rgb.tif\n",
      "\t\tTo\tD:\\Data\\Blocks\\2017\\T35VEP\\6090345969\\20170628_drone_rgb.tif\n"
     ]
    },
    {
     "data": {
      "image/png": "[encoded data removed]",
      "text/plain": [
       "<matplotlib.figure.Figure at 0x12f898>"
      ]
     },
     "metadata": {},
     "output_type": "display_data"
    },
    {
     "name": "stdout",
     "output_type": "stream",
     "text": [
      "6090345969\tFrom\tD:\\Data\\Drone\\2017\\T35VEP\\6090345969\\20170727_drone_rgb.tif\n",
      "\t\tTo\tD:\\Data\\Blocks\\2017\\T35VEP\\6090345969\\20170727_drone_rgb.tif\n"
     ]
    },
    {
     "data": {
      "image/png": "[encoded data removed]",
      "text/plain": [
       "<matplotlib.figure.Figure at 0x1e9860>"
      ]
     },
     "metadata": {},
     "output_type": "display_data"
    },
    {
     "name": "stdout",
     "output_type": "stream",
     "text": [
      "6090346171\tFrom\tD:\\Data\\Drone\\2017\\T35VEP\\6090346171\\20170619_drone_rgb.tif\n",
      "\t\tTo\tD:\\Data\\Blocks\\2017\\T35VEP\\6090346171\\20170619_drone_rgb.tif\n"
     ]
    },
    {
     "data": {
      "image/png": "[encoded data removed]",
      "text/plain": [
       "<matplotlib.figure.Figure at 0x2f8d550>"
      ]
     },
     "metadata": {},
     "output_type": "display_data"
    },
    {
     "name": "stdout",
     "output_type": "stream",
     "text": [
      "6090347888\tFrom\tD:\\Data\\Drone\\2017\\T35VEP\\6090347888\\20170628_drone_rgb.tif\n",
      "\t\tTo\tD:\\Data\\Blocks\\2017\\T35VEP\\6090347888\\20170628_drone_rgb.tif\n"
     ]
    },
    {
     "data": {
      "image/png": "[encoded data removed]",
      "text/plain": [
       "<matplotlib.figure.Figure at 0x2fed438>"
      ]
     },
     "metadata": {},
     "output_type": "display_data"
    },
    {
     "name": "stdout",
     "output_type": "stream",
     "text": [
      "6090347888\tFrom\tD:\\Data\\Drone\\2017\\T35VEP\\6090347888\\20170727_drone_rgb.tif\n",
      "\t\tTo\tD:\\Data\\Blocks\\2017\\T35VEP\\6090347888\\20170727_drone_rgb.tif\n"
     ]
    },
    {
     "data": {
      "image/png": "[encoded data removed]",
      "text/plain": [
       "<matplotlib.figure.Figure at 0x2fe9978>"
      ]
     },
     "metadata": {},
     "output_type": "display_data"
    },
    {
     "name": "stdout",
     "output_type": "stream",
     "text": [
      "6090348292\tError (warp): 'NoneType' object has no attribute 'ReadAsArray'\n",
      "\t\tFrom\tD:\\Data\\Drone\\2017\\T35VEP\\6090348292\\20170707_drone_rgb.tif\n",
      "\t\tTo\tD:\\Data\\Temp\\temp.tif\n",
      "6090672133\tFrom\tD:\\Data\\Drone\\2017\\T35VEP\\6090672133\\20170606_drone_rgb.tif\n",
      "\t\tTo\tD:\\Data\\Blocks\\2017\\T35VEP\\6090672133\\20170606_drone_rgb.tif\n"
     ]
    },
    {
     "data": {
      "image/png": "[encoded data removed]",
      "text/plain": [
       "<matplotlib.figure.Figure at 0x30461d0>"
      ]
     },
     "metadata": {},
     "output_type": "display_data"
    },
    {
     "name": "stdout",
     "output_type": "stream",
     "text": [
      "6090672133\tFrom\tD:\\Data\\Drone\\2017\\T35VEP\\6090672133\\20170718_drone_rgb.tif\n",
      "\t\tTo\tD:\\Data\\Blocks\\2017\\T35VEP\\6090672133\\20170718_drone_rgb.tif\n"
     ]
    },
    {
     "data": {
      "image/png": "[encoded data removed]",
      "text/plain": [
       "<matplotlib.figure.Figure at 0x2fe9080>"
      ]
     },
     "metadata": {},
     "output_type": "display_data"
    },
    {
     "name": "stdout",
     "output_type": "stream",
     "text": [
      "8860017483\tFrom\tD:\\Data\\Drone\\2017\\T35VEP\\8860017483\\20170729_drone_rgb.tif\n",
      "\t\tTo\tD:\\Data\\Blocks\\2017\\T35VEP\\8860017483\\20170729_drone_rgb.tif\n"
     ]
    },
    {
     "data": {
      "image/png": "[encoded data removed]",
      "text/plain": [
       "<matplotlib.figure.Figure at 0x19e710>"
      ]
     },
     "metadata": {},
     "output_type": "display_data"
    },
    {
     "name": "stdout",
     "output_type": "stream",
     "text": [
      "8860095891\tFrom\tD:\\Data\\Drone\\2017\\T35VEP\\8860095891\\20170817_drone_rgb.tif\n",
      "\t\tTo\tD:\\Data\\Blocks\\2017\\T35VEP\\8860095891\\20170817_drone_rgb.tif\n"
     ]
    },
    {
     "data": {
      "image/png": "[encoded data removed]",
      "text/plain": [
       "<matplotlib.figure.Figure at 0xcf358>"
      ]
     },
     "metadata": {},
     "output_type": "display_data"
    },
    {
     "name": "stdout",
     "output_type": "stream",
     "text": [
      "8860095992\tFrom\tD:\\Data\\Drone\\2017\\T35VEP\\8860095992\\20170615_drone_rgb.tif\n",
      "\t\tTo\tD:\\Data\\Blocks\\2017\\T35VEP\\8860095992\\20170615_drone_rgb.tif\n"
     ]
    },
    {
     "data": {
      "image/png": "[encoded data removed]",
      "text/plain": [
       "<matplotlib.figure.Figure at 0x9be0278>"
      ]
     },
     "metadata": {},
     "output_type": "display_data"
    },
    {
     "name": "stdout",
     "output_type": "stream",
     "text": [
      "8860095992\tFrom\tD:\\Data\\Drone\\2017\\T35VEP\\8860095992\\20170710_drone_rgb.tif\n",
      "\t\tTo\tD:\\Data\\Blocks\\2017\\T35VEP\\8860095992\\20170710_drone_rgb.tif\n"
     ]
    },
    {
     "data": {
      "image/png": "[encoded data removed]",
      "text/plain": [
       "<matplotlib.figure.Figure at 0x2f6a2b0>"
      ]
     },
     "metadata": {},
     "output_type": "display_data"
    },
    {
     "name": "stdout",
     "output_type": "stream",
     "text": [
      "8860195925\tFrom\tD:\\Data\\Drone\\2017\\T35VEP\\8860195925\\20170729_drone_rgb.tif\n",
      "\t\tTo\tD:\\Data\\Blocks\\2017\\T35VEP\\8860195925\\20170729_drone_rgb.tif\n"
     ]
    },
    {
     "data": {
      "image/png": "[encoded data removed]",
      "text/plain": [
       "<matplotlib.figure.Figure at 0x1372b0>"
      ]
     },
     "metadata": {},
     "output_type": "display_data"
    },
    {
     "name": "stdout",
     "output_type": "stream",
     "text": [
      "9880016034\tFrom\tD:\\Data\\Drone\\2017\\T35VEP\\9880016034\\20170629_drone_rgb.tif\n",
      "\t\tTo\tD:\\Data\\Blocks\\2017\\T35VEP\\9880016034\\20170629_drone_rgb.tif\n"
     ]
    },
    {
     "data": {
      "image/png": "[encoded data removed]",
      "text/plain": [
       "<matplotlib.figure.Figure at 0x2fa6390>"
      ]
     },
     "metadata": {},
     "output_type": "display_data"
    },
    {
     "name": "stdout",
     "output_type": "stream",
     "text": [
      "9880217714\tFrom\tD:\\Data\\Drone\\2017\\T35VEP\\9880217714\\20170716_drone_rgb.tif\n",
      "\t\tTo\tD:\\Data\\Blocks\\2017\\T35VEP\\9880217714\\20170716_drone_rgb.tif\n"
     ]
    },
    {
     "data": {
      "image/png": "[encoded data removed]",
      "text/plain": [
       "<matplotlib.figure.Figure at 0xf4eb8>"
      ]
     },
     "metadata": {},
     "output_type": "display_data"
    },
    {
     "name": "stdout",
     "output_type": "stream",
     "text": [
      "Processed 22 field blocks in 260m 27s\n",
      "Asserting filenames: All generated block datasets named correctly!\n"
     ]
    }
   ],
   "source": [
    "from field_analysis.extraction.blocks import DroneRGB\n",
    "\n",
    "drone_rgb = DroneRGB(target_resolution=10/32, source_range=(0,255),   \n",
    "                     dest_range=(0,1), source_nodata=0)\n",
    "drone_rgb.extract()"
   ]
  },
  {
   "cell_type": "markdown",
   "metadata": {},
   "source": [
    "## 4. Dataset date coverage\n",
    "\n",
    "Here we then map out the dates for distinct file types where there exists a dataset. We will go through individual block fields, as they represent the real time series datasets and are thus of greater importance. The daterange is presumed to be known a priori.\n",
    "\n",
    "In this step visualize we the data coverage in the field- and date-wise images for NDVI datasets. Reason for addressing the datasets in NDVI exclusively is that the only partial datasets originate from satellite sources due to possible cloud masks. When the data source isn't satellite, the proportion of currant data in the shape boundaries is assumed at 100%.\n",
    "\n",
    "The code is divided here to two parts, to the data coverage calculations and to the visualization. The first block of code is a modified implementation of the tutorial [Calculate zonal statistics](https://pcjericks.github.io/py-gdalogr-cookbook/raster_layers.html#calculate-zonal-statistics). The other makes use of ``seaborn`` packages ``heatmap`` functionality to visualize the relative data coverage day wise."
   ]
  },
  {
   "cell_type": "code",
   "execution_count": 2,
   "metadata": {
    "scrolled": false
   },
   "outputs": [
    {
     "name": "stdout",
     "output_type": "stream",
     "text": [
      "Calculating overall data coverage\n",
      ".............................................................................................................................................\n",
      "Drawing the heatmap\n"
     ]
    },
    {
     "data": {
      "image/png": "[encoded data removed]",
      "text/plain": [
       "<matplotlib.figure.Figure at 0xa7d30f0>"
      ]
     },
     "metadata": {},
     "output_type": "display_data"
    }
   ],
   "source": [
    "from field_analysis.extraction import coverage\n",
    "\n",
    "coverage.draw_heatmap()"
   ]
  },
  {
   "cell_type": "markdown",
   "metadata": {},
   "source": [
    "### 4.1 Drone image dates\n",
    "\n",
    "We also print out the dates of imaging in readily usable LaTEX table format."
   ]
  },
  {
   "cell_type": "code",
   "execution_count": 75,
   "metadata": {},
   "outputs": [
    {
     "name": "stdout",
     "output_type": "stream",
     "text": [
      "\t& \\rotatebox{90}{06.06}\t& \\rotatebox{90}{09.06}\t& \\rotatebox{90}{13.06}\t& \\rotatebox{90}{14.06}\t& \\rotatebox{90}{15.06}\t& \\rotatebox{90}{19.06}\t& \\rotatebox{90}{28.06}\t& \\rotatebox{90}{29.06}\t& \\rotatebox{90}{07.07}\t& \\rotatebox{90}{10.07}\t& \\rotatebox{90}{16.07}\t& \\rotatebox{90}{18.07}\t& \\rotatebox{90}{27.07}\t& \\rotatebox{90}{29.07}\t& \\rotatebox{90}{14.08}\t& \\rotatebox{90}{17.08}\t& \\rotatebox{90}{21.08}\\\\ \\hline\n",
      "\\textbf{{Earlier}}\t& x\t& x\t& x\t& x\t& x\t& x\t& x\t& x\t& \t& \t& \t& \t& \t& \t& \t& \t& \\\\ \\hline\n",
      "\\textbf{{Later}}\t& \t& \t& \t& \t& \t& \t& \t& \t& x\t& x\t& x\t& x\t& x\t& x\t& x\t& x\t& x\\\\ \\hline\n"
     ]
    }
   ],
   "source": [
    "import datetime\n",
    "import numpy as np\n",
    "output='''6090161366 From D:\\\\Data\\\\Drone\\\\2017\\\\T35VEP\\\\6090161366\\\\20170821_drone_rgb.tif\n",
    "  To D:\\\\Data\\\\Blocks\\\\2017\\\\T35VEP\\\\6090161366\\\\20170821_drone_rgb.tif\n",
    "\n",
    "6090205523 From D:\\\\Data\\\\Drone\\\\2017\\\\T35VEP\\\\6090205523\\\\20170614_drone_rgb.tif\n",
    "  To D:\\\\Data\\\\Blocks\\\\2017\\\\T35VEP\\\\6090205523\\\\20170614_drone_rgb.tif\n",
    "\n",
    "6090205523 From D:\\\\Data\\\\Drone\\\\2017\\\\T35VEP\\\\6090205523\\\\20170729_drone_rgb.tif\n",
    "  To D:\\\\Data\\\\Blocks\\\\2017\\\\T35VEP\\\\6090205523\\\\20170729_drone_rgb.tif\n",
    "\n",
    "6090324751 From D:\\\\Data\\\\Drone\\\\2017\\\\T35VEP\\\\6090324751\\\\20170609_drone_rgb.tif\n",
    "  To D:\\\\Data\\\\Blocks\\\\2017\\\\T35VEP\\\\6090324751\\\\20170609_drone_rgb.tif\n",
    "\n",
    "6090324751 From D:\\\\Data\\\\Drone\\\\2017\\\\T35VEP\\\\6090324751\\\\20170729_drone_rgb.tif\n",
    "  To D:\\\\Data\\\\Blocks\\\\2017\\\\T35VEP\\\\6090324751\\\\20170729_drone_rgb.tif\n",
    "\n",
    "6090328993 From D:\\\\Data\\\\Drone\\\\2017\\\\T35VEP\\\\6090328993\\\\20170609_drone_rgb.tif\n",
    "  To D:\\\\Data\\\\Blocks\\\\2017\\\\T35VEP\\\\6090328993\\\\20170609_drone_rgb.tif\n",
    "\n",
    "6090328993 From D:\\\\Data\\\\Drone\\\\2017\\\\T35VEP\\\\6090328993\\\\20170729_drone_rgb.tif\n",
    "  To D:\\\\Data\\\\Blocks\\\\2017\\\\T35VEP\\\\6090328993\\\\20170729_drone_rgb.tif\n",
    "\n",
    "6090342838 Error (warp): 'NoneType' object has no attribute 'ReadAsArray'\n",
    "  From D:\\\\Data\\\\Drone\\\\2017\\\\T35VEP\\\\6090342838\\\\20170707_drone_rgb.tif\n",
    "  To D:\\\\Data\\\\Temp\\\\temp.tif\n",
    "  \n",
    "6090345161 From D:\\\\Data\\\\Drone\\\\2017\\\\T35VEP\\\\6090345161\\\\20170619_drone_rgb.tif\n",
    "  To D:\\\\Data\\\\Blocks\\\\2017\\\\T35VEP\\\\6090345161\\\\20170619_drone_rgb.tif\n",
    "\n",
    "6090345969 From D:\\\\Data\\\\Drone\\\\2017\\\\T35VEP\\\\6090345969\\\\20170628_drone_rgb.tif\n",
    "  To D:\\\\Data\\\\Blocks\\\\2017\\\\T35VEP\\\\6090345969\\\\20170628_drone_rgb.tif\n",
    "\n",
    "6090345969 From D:\\\\Data\\\\Drone\\\\2017\\\\T35VEP\\\\6090345969\\\\20170727_drone_rgb.tif\n",
    "  To D:\\\\Data\\\\Blocks\\\\2017\\\\T35VEP\\\\6090345969\\\\20170727_drone_rgb.tif\n",
    "\n",
    "6090346171 From D:\\\\Data\\\\Drone\\\\2017\\\\T35VEP\\\\6090346171\\\\20170619_drone_rgb.tif\n",
    "  To D:\\\\Data\\\\Blocks\\\\2017\\\\T35VEP\\\\6090346171\\\\20170619_drone_rgb.tif\n",
    "\n",
    "6090347888 From D:\\\\Data\\\\Drone\\\\2017\\\\T35VEP\\\\6090347888\\\\20170628_drone_rgb.tif\n",
    "  To D:\\\\Data\\\\Blocks\\\\2017\\\\T35VEP\\\\6090347888\\\\20170628_drone_rgb.tif\n",
    "\n",
    "6090347888 From D:\\\\Data\\\\Drone\\\\2017\\\\T35VEP\\\\6090347888\\\\20170727_drone_rgb.tif\n",
    "  To D:\\\\Data\\\\Blocks\\\\2017\\\\T35VEP\\\\6090347888\\\\20170727_drone_rgb.tif\n",
    "\n",
    "6090348292 Error (warp): 'NoneType' object has no attribute 'ReadAsArray'\n",
    "  From D:\\\\Data\\\\Drone\\\\2017\\\\T35VEP\\\\6090348292\\\\20170707_drone_rgb.tif\n",
    "  To D:\\\\Data\\\\Temp\\\\temp.tif\n",
    "  \n",
    "6090672133 From D:\\\\Data\\\\Drone\\\\2017\\\\T35VEP\\\\6090672133\\\\20170606_drone_rgb.tif\n",
    "  To D:\\\\Data\\\\Blocks\\\\2017\\\\T35VEP\\\\6090672133\\\\20170606_drone_rgb.tif\n",
    "\n",
    "6090672133 From D:\\\\Data\\\\Drone\\\\2017\\\\T35VEP\\\\6090672133\\\\20170718_drone_rgb.tif\n",
    "  To D:\\\\Data\\\\Blocks\\\\2017\\\\T35VEP\\\\6090672133\\\\20170718_drone_rgb.tif\n",
    "\n",
    "8860017483 From D:\\\\Data\\\\Drone\\\\2017\\\\T35VEP\\\\8860017483\\\\20170729_drone_rgb.tif\n",
    "  To D:\\\\Data\\\\Blocks\\\\2017\\\\T35VEP\\\\8860017483\\\\20170729_drone_rgb.tif\n",
    "\n",
    "8860095891 From D:\\\\Data\\\\Drone\\\\2017\\\\T35VEP\\\\8860095891\\\\20170817_drone_rgb.tif\n",
    "  To D:\\\\Data\\\\Blocks\\\\2017\\\\T35VEP\\\\8860095891\\\\20170817_drone_rgb.tif\n",
    "\n",
    "8860095992 From D:\\\\Data\\\\Drone\\\\2017\\\\T35VEP\\\\8860095992\\\\20170615_drone_rgb.tif\n",
    "  To D:\\\\Data\\\\Blocks\\\\2017\\\\T35VEP\\\\8860095992\\\\20170615_drone_rgb.tif\n",
    "\n",
    "8860095992 From D:\\\\Data\\\\Drone\\\\2017\\\\T35VEP\\\\8860095992\\\\20170710_drone_rgb.tif\n",
    "  To D:\\\\Data\\\\Blocks\\\\2017\\\\T35VEP\\\\8860095992\\\\20170710_drone_rgb.tif\n",
    "\n",
    "8860195925 From D:\\\\Data\\\\Drone\\\\2017\\\\T35VEP\\\\8860195925\\\\20170729_drone_rgb.tif\n",
    "  To D:\\\\Data\\\\Blocks\\\\2017\\\\T35VEP\\\\8860195925\\\\20170729_drone_rgb.tif\n",
    "\n",
    "9880016034 From D:\\\\Data\\\\Drone\\\\2017\\\\T35VEP\\\\9880016034\\\\20170629_drone_rgb.tif\n",
    "  To D:\\\\Data\\\\Blocks\\\\2017\\\\T35VEP\\\\9880016034\\\\20170629_drone_rgb.tif\n",
    "\n",
    "9880217714 From D:\\\\Data\\\\Drone\\\\2017\\\\T35VEP\\\\9880217714\\\\20170716_drone_rgb.tif\n",
    "  To D:\\\\Data\\\\Blocks\\\\2017\\\\T35VEP\\\\9880217714\\\\20170716_drone_rgb.tif\n",
    "  \n",
    "6090161366 From D:\\\\Data\\\\Drone\\\\2017\\\\T35VEP\\\\6090161366\\\\20170821_drone_ndvi.tif\n",
    "  To D:\\\\Data\\\\Blocks\\\\2017\\\\T35VEP\\\\6090161366\\\\20170821_drone_ndvi.tif\n",
    "\n",
    "6090205523 From D:\\\\Data\\\\Drone\\\\2017\\\\T35VEP\\\\6090205523\\\\20170614_drone_ndvi.tif\n",
    "  To D:\\\\Data\\\\Blocks\\\\2017\\\\T35VEP\\\\6090205523\\\\20170614_drone_ndvi.tif\n",
    "\n",
    "6090205523 From D:\\\\Data\\\\Drone\\\\2017\\\\T35VEP\\\\6090205523\\\\20170729_drone_ndvi.tif\n",
    "  To D:\\\\Data\\\\Blocks\\\\2017\\\\T35VEP\\\\6090205523\\\\20170729_drone_ndvi.tif\n",
    "\n",
    "6090324751 From D:\\\\Data\\\\Drone\\\\2017\\\\T35VEP\\\\6090324751\\\\20170609_drone_ndvi.tif\n",
    "  To D:\\\\Data\\\\Blocks\\\\2017\\\\T35VEP\\\\6090324751\\\\20170609_drone_ndvi.tif\n",
    "\n",
    "6090324751 From D:\\\\Data\\\\Drone\\\\2017\\\\T35VEP\\\\6090324751\\\\20170613_drone_ndvi.tif\n",
    "  To D:\\\\Data\\\\Blocks\\\\2017\\\\T35VEP\\\\6090324751\\\\20170613_drone_ndvi.tif\n",
    "\n",
    "6090324751 From D:\\\\Data\\\\Drone\\\\2017\\\\T35VEP\\\\6090324751\\\\20170729_drone_ndvi.tif\n",
    "  To D:\\\\Data\\\\Blocks\\\\2017\\\\T35VEP\\\\6090324751\\\\20170729_drone_ndvi.tif\n",
    "\n",
    "6090328993 From D:\\\\Data\\\\Drone\\\\2017\\\\T35VEP\\\\6090328993\\\\20170609_drone_ndvi.tif\n",
    "  To D:\\\\Data\\\\Blocks\\\\2017\\\\T35VEP\\\\6090328993\\\\20170609_drone_ndvi.tif\n",
    "\n",
    "6090328993 From D:\\\\Data\\\\Drone\\\\2017\\\\T35VEP\\\\6090328993\\\\20170729_drone_ndvi.tif\n",
    "  To D:\\\\Data\\\\Blocks\\\\2017\\\\T35VEP\\\\6090328993\\\\20170729_drone_ndvi.tif\n",
    "\n",
    "6090342838 From D:\\\\Data\\\\Drone\\\\2017\\\\T35VEP\\\\6090342838\\\\20170707_drone_ndvi.tif\n",
    "  To D:\\\\Data\\\\Blocks\\\\2017\\\\T35VEP\\\\6090342838\\\\20170707_drone_ndvi.tif\n",
    "\n",
    "6090345161 From D:\\\\Data\\\\Drone\\\\2017\\\\T35VEP\\\\6090345161\\\\20170619_drone_ndvi.tif\n",
    "  To D:\\\\Data\\\\Blocks\\\\2017\\\\T35VEP\\\\6090345161\\\\20170619_drone_ndvi.tif\n",
    "\n",
    "6090345969 From D:\\\\Data\\\\Drone\\\\2017\\\\T35VEP\\\\6090345969\\\\20170628_drone_ndvi.tif\n",
    "  To D:\\\\Data\\\\Blocks\\\\2017\\\\T35VEP\\\\6090345969\\\\20170628_drone_ndvi.tif\n",
    "\n",
    "6090345969 From D:\\\\Data\\\\Drone\\\\2017\\\\T35VEP\\\\6090345969\\\\20170727_drone_ndvi.tif\n",
    "  To D:\\\\Data\\\\Blocks\\\\2017\\\\T35VEP\\\\6090345969\\\\20170727_drone_ndvi.tif\n",
    "\n",
    "6090346171 From D:\\\\Data\\\\Drone\\\\2017\\\\T35VEP\\\\6090346171\\\\20170619_drone_ndvi.tif\n",
    "  To D:\\\\Data\\\\Blocks\\\\2017\\\\T35VEP\\\\6090346171\\\\20170619_drone_ndvi.tif\n",
    "\n",
    "6090347888 From D:\\\\Data\\\\Drone\\\\2017\\\\T35VEP\\\\6090347888\\\\20170628_drone_ndvi.tif\n",
    "  To D:\\\\Data\\\\Blocks\\\\2017\\\\T35VEP\\\\6090347888\\\\20170628_drone_ndvi.tif\n",
    "\n",
    "6090347888 From D:\\\\Data\\\\Drone\\\\2017\\\\T35VEP\\\\6090347888\\\\20170727_drone_ndvi.tif\n",
    "  To D:\\\\Data\\\\Blocks\\\\2017\\\\T35VEP\\\\6090347888\\\\20170727_drone_ndvi.tif\n",
    "\n",
    "6090348292 From D:\\\\Data\\\\Drone\\\\2017\\\\T35VEP\\\\6090348292\\\\20170707_drone_ndvi.tif\n",
    "  To D:\\\\Data\\\\Blocks\\\\2017\\\\T35VEP\\\\6090348292\\\\20170707_drone_ndvi.tif\n",
    "\n",
    "6090672133 From D:\\\\Data\\\\Drone\\\\2017\\\\T35VEP\\\\6090672133\\\\20170606_drone_ndvi.tif\n",
    "  To D:\\\\Data\\\\Blocks\\\\2017\\\\T35VEP\\\\6090672133\\\\20170606_drone_ndvi.tif\n",
    "\n",
    "6090672133 From D:\\\\Data\\\\Drone\\\\2017\\\\T35VEP\\\\6090672133\\\\20170718_drone_ndvi.tif\n",
    "  To D:\\\\Data\\\\Blocks\\\\2017\\\\T35VEP\\\\6090672133\\\\20170718_drone_ndvi.tif\n",
    "\n",
    "8860017483 From D:\\\\Data\\\\Drone\\\\2017\\\\T35VEP\\\\8860017483\\\\20170729_drone_ndvi.tif\n",
    "  To D:\\\\Data\\\\Blocks\\\\2017\\\\T35VEP\\\\8860017483\\\\20170729_drone_ndvi.tif\n",
    "\n",
    "8860095891 From D:\\\\Data\\\\Drone\\\\2017\\\\T35VEP\\\\8860095891\\\\20170814_drone_ndvi.tif\n",
    "  To D:\\\\Data\\\\Blocks\\\\2017\\\\T35VEP\\\\8860095891\\\\20170814_drone_ndvi.tif\n",
    "\n",
    "8860095992 From D:\\\\Data\\\\Drone\\\\2017\\\\T35VEP\\\\8860095992\\\\20170615_drone_ndvi.tif\n",
    "  To D:\\\\Data\\\\Blocks\\\\2017\\\\T35VEP\\\\8860095992\\\\20170615_drone_ndvi.tif\n",
    "\n",
    "8860195925 From D:\\\\Data\\\\Drone\\\\2017\\\\T35VEP\\\\8860195925\\\\20170729_drone_ndvi.tif\n",
    "  To D:\\\\Data\\\\Blocks\\\\2017\\\\T35VEP\\\\8860195925\\\\20170729_drone_ndvi.tif\n",
    "\n",
    "9880016034 From D:\\\\Data\\\\Drone\\\\2017\\\\T35VEP\\\\9880016034\\\\20170629_drone_ndvi.tif\n",
    "  To D:\\\\Data\\\\Blocks\\\\2017\\\\T35VEP\\\\9880016034\\\\20170629_drone_ndvi.tif\n",
    "\n",
    "9880217714 From D:\\\\Data\\\\Drone\\\\2017\\\\T35VEP\\\\9880217714\\\\20170716_drone_ndvi.tif\n",
    "  To D:\\\\Data\\\\Blocks\\\\2017\\\\T35VEP\\\\9880217714\\\\20170716_drone_ndvi.tif'''\n",
    "output = [l.rstrip() for l in output.rsplit(\"\\n\") if len(l) > 0]\n",
    "output = [l.rstrip() for l in output if len(l) > 0]\n",
    "output = [l for l in output if l[0] != ' ']\n",
    "output = [l.split('\\\\')[-1].split('.')[0] for l in output if l[-4:] == '.tif']\n",
    "output = [l.split(\"_\")[0] for l in output]\n",
    "\n",
    "dates = []\n",
    "[dates.append(l) for l in output if l not in dates]\n",
    "dates = np.sort([datetime.datetime(int(d[:4]),int(d[4:6]),int(d[6:8])) for d in dates])\n",
    "\n",
    "latex_date = []\n",
    "latex_earlier = []\n",
    "latex_later = []\n",
    "for date in dates:\n",
    "    \n",
    "    d  = str(date)[:10].split('-')\n",
    "    latex_date.append('\\\\rotatebox{{90}}{{{}.{}}}'.format(d[2],d[1]))\n",
    "    if date < datetime.datetime(2017,7,1):\n",
    "        latex_earlier.append('x')\n",
    "        latex_later.append('')\n",
    "    else:\n",
    "        latex_earlier.append('')\n",
    "        latex_later.append('x')\n",
    "\n",
    "print(\"\\t& \"+\"\\t& \".join(latex_date)+\"\\\\\\\\ \\\\hline\")\n",
    "print(\"\\\\textbf{{Earlier}}\\t& \"+\"\\t& \".join(latex_earlier)+\"\\\\\\\\ \\\\hline\")\n",
    "print(\"\\\\textbf{{Later}}\\t& \"+\"\\t& \".join(latex_later)+\"\\\\\\\\ \\\\hline\")\n",
    "        "
   ]
  },
  {
   "cell_type": "code",
   "execution_count": 69,
   "metadata": {},
   "outputs": [
    {
     "data": {
      "text/plain": [
       "'l l l l l l l l l l l l l l l l l l'"
      ]
     },
     "execution_count": 69,
     "metadata": {},
     "output_type": "execute_result"
    }
   ],
   "source": [
    "\"l \"*17+\"l\""
   ]
  },
  {
   "cell_type": "code",
   "execution_count": null,
   "metadata": {},
   "outputs": [],
   "source": []
  }
 ],
 "metadata": {
  "hide_input": false,
  "kernelspec": {
   "display_name": "Python 3",
   "language": "python",
   "name": "python3"
  },
  "language_info": {
   "codemirror_mode": {
    "name": "ipython",
    "version": 3
   },
   "file_extension": ".py",
   "mimetype": "text/x-python",
   "name": "python",
   "nbconvert_exporter": "python",
   "pygments_lexer": "ipython3",
   "version": "3.7.0"
  },
  "toc": {
   "base_numbering": 1,
   "nav_menu": {},
   "number_sections": false,
   "sideBar": true,
   "skip_h1_title": true,
   "title_cell": "Table of Contents",
   "title_sidebar": "Contents",
   "toc_cell": true,
   "toc_position": {},
   "toc_section_display": true,
   "toc_window_display": true
  }
 },
 "nbformat": 4,
 "nbformat_minor": 2
}
